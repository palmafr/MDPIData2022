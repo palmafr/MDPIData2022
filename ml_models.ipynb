{
  "cells": [
    {
      "cell_type": "markdown",
      "metadata": {
        "id": "oOL6GRqjZKQg"
      },
      "source": [
        "## Prerequisites"
      ]
    },
    {
      "cell_type": "code",
      "execution_count": 25,
      "metadata": {
        "_cell_guid": "b1076dfc-b9ad-4769-8c92-a6c4dae69d19",
        "_uuid": "8f2839f25d086af736a60e9eeb907d3b93b6e0e5",
        "trusted": true,
        "id": "w4penPvwZKQk"
      },
      "outputs": [],
      "source": [
        "# Basic imports\n",
        "import warnings\n",
        "import numpy as np\n",
        "import pandas as pd\n",
        "from numpy import mean, std\n",
        "from matplotlib import pyplot as plt\n",
        "from sklearn.exceptions import ConvergenceWarning\n",
        "from sklearn.metrics import accuracy_score, f1_score\n",
        "from sklearn.utils._testing import ignore_warnings\n",
        "\n",
        "# Feature selection\n",
        "#from mlxtend.feature_selection import SequentialFeatureSelector as SFS\n",
        "from sklearn.feature_selection import RFE\n",
        "\n",
        "# Data preprocessing\n",
        "from sklearn.preprocessing import LabelEncoder\n",
        "from sklearn.model_selection import KFold\n",
        "from imblearn.over_sampling  import RandomOverSampler\n",
        "from sklearn.model_selection import cross_val_score\n",
        "from sklearn.metrics import log_loss\n",
        "\n",
        "#ML models\n",
        "from sklearn.tree import DecisionTreeClassifier\n",
        "from sklearn.linear_model import LogisticRegression\n",
        "from sklearn.neighbors import KNeighborsClassifier as KNN\n",
        "from sklearn.naive_bayes import GaussianNB\n",
        "\n",
        "# Ensemble techniques\n",
        "from sklearn.ensemble import StackingClassifier"
      ]
    },
    {
      "cell_type": "markdown",
      "metadata": {
        "id": "RWGjqkbAZKQm"
      },
      "source": [
        "### Selecting the dataset"
      ]
    },
    {
      "cell_type": "code",
      "execution_count": 3,
      "metadata": {
        "id": "gcpITtxeZKQn"
      },
      "outputs": [],
      "source": [
        "ds = [\"./datasets/tomcat-final.csv\",\"./datasets/struts-final.csv\"]"
      ]
    },
    {
      "cell_type": "markdown",
      "metadata": {
        "id": "jmoJT25NZKQn"
      },
      "source": [
        "Choose 1 for struts2-core dataset, 0 for tomcat dataset."
      ]
    },
    {
      "cell_type": "code",
      "execution_count": 4,
      "metadata": {
        "trusted": true,
        "id": "ogakeOwjZKQo"
      },
      "outputs": [],
      "source": [
        "#df = pd.read_csv(ds[1])\n",
        "df = pd.read_csv('./struts-final.csv')\n",
        "np.set_printoptions(threshold=np.inf)\n",
        "pd.set_option('max_columns',None)"
      ]
    },
    {
      "cell_type": "code",
      "execution_count": 5,
      "metadata": {
        "id": "IYFuLG1-ZKQo",
        "outputId": "98d4616b-2191-4fb2-c1f5-171851574670",
        "colab": {
          "base_uri": "https://localhost:8080/",
          "height": 487
        }
      },
      "outputs": [
        {
          "output_type": "execute_result",
          "data": {
            "text/plain": [
              "                                                    file   type  cbo  \\\n",
              "0      core/src/main/java/org/apache/struts2/views/fr...  class    5   \n",
              "1      core/src/test/java/org/apache/struts2/views/js...  class    3   \n",
              "2      plugins/cdi/src/test/java/org/apache/struts2/c...  class    8   \n",
              "3      apps/portlet/src/test/java/JettyPlutoLauncher....  class    4   \n",
              "4      plugins/codebehind/src/test/java/org/apache/st...  class    1   \n",
              "...                                                  ...    ...  ...   \n",
              "19367  plugins/convention/src/test/java/org/apache/st...  class    0   \n",
              "19368  core/src/main/java/com/opensymphony/xwork2/Act...  class   14   \n",
              "19369  apps/showcase/src/test/java/it/org/apache/stru...  class    2   \n",
              "19370  core/src/main/java/org/apache/struts2/views/xs...  class    2   \n",
              "19371  core/src/main/java/com/opensymphony/xwork2/Def...  class    8   \n",
              "\n",
              "       cboModified  fanin  fanout  wmc  dit  noc  rfc  lcom     lcom*  \\\n",
              "0                7      2       5   14    1    0   16     0  0.583333   \n",
              "1                3      0       3    4    4    0   14     6  0.000000   \n",
              "2                8      0       8    4    1    0   12     6  0.000000   \n",
              "3                4      0       4    1    1    0    7     0  0.000000   \n",
              "4                1      0       1    0    1    0    0     0  0.000000   \n",
              "...            ...    ...     ...  ...  ...  ...  ...   ...       ...   \n",
              "19367            1      1       0    1    1    0    0     0  0.000000   \n",
              "19368           33     19      14   49    1   19   56   585  0.883721   \n",
              "19369           13     11       2    1    2   11    3     0  0.000000   \n",
              "19370            3      1       2    4    1    0    8     0  0.166667   \n",
              "19371           11      3       8   10    1    1    7    39  0.700000   \n",
              "\n",
              "            tcc  lcc  totalMethodsQty  staticMethodsQty  publicMethodsQty  \\\n",
              "0      0.607143  1.0                8                 0                 8   \n",
              "1      0.000000  0.0                4                 0                 4   \n",
              "2      0.000000  0.0                4                 0                 4   \n",
              "3      0.000000  0.0                1                 1                 1   \n",
              "4     -1.000000 -1.0                0                 0                 0   \n",
              "...         ...  ...              ...               ...               ...   \n",
              "19367  0.000000  0.0                1                 0                 1   \n",
              "19368  0.000000  0.0               43                 0                40   \n",
              "19369  0.000000  0.0                1                 0                 1   \n",
              "19370  0.000000  0.0                2                 0                 2   \n",
              "19371  0.000000  0.0               10                 0                 9   \n",
              "\n",
              "       privateMethodsQty  protectedMethodsQty  defaultMethodsQty  \\\n",
              "0                      0                    0                  0   \n",
              "1                      0                    0                  0   \n",
              "2                      0                    0                  0   \n",
              "3                      0                    0                  0   \n",
              "4                      0                    0                  0   \n",
              "...                  ...                  ...                ...   \n",
              "19367                  0                    0                  0   \n",
              "19368                  0                    3                  0   \n",
              "19369                  0                    0                  0   \n",
              "19370                  0                    0                  0   \n",
              "19371                  0                    1                  0   \n",
              "\n",
              "       visibleMethodsQty  abstractMethodsQty  finalMethodsQty  \\\n",
              "0                      8                   0                0   \n",
              "1                      4                   0                0   \n",
              "2                      4                   0                0   \n",
              "3                      1                   0                0   \n",
              "4                      0                   0                0   \n",
              "...                  ...                 ...              ...   \n",
              "19367                  1                   0                0   \n",
              "19368                 43                   0                0   \n",
              "19369                  1                   0                0   \n",
              "19370                  2                   0                0   \n",
              "19371                 10                   0                0   \n",
              "\n",
              "       synchronizedMethodsQty  totalFieldsQty  staticFieldsQty  \\\n",
              "0                           0               3                0   \n",
              "1                           0               0                0   \n",
              "2                           0               0                0   \n",
              "3                           0               0                0   \n",
              "4                           0               0                0   \n",
              "...                       ...             ...              ...   \n",
              "19367                       0               0                0   \n",
              "19368                       0               5                1   \n",
              "19369                       0               0                0   \n",
              "19370                       0               3                1   \n",
              "19371                       0               1                0   \n",
              "\n",
              "       publicFieldsQty  privateFieldsQty  protectedFieldsQty  \\\n",
              "0                    0                 3                   0   \n",
              "1                    0                 0                   0   \n",
              "2                    0                 0                   0   \n",
              "3                    0                 0                   0   \n",
              "4                    0                 0                   0   \n",
              "...                ...               ...                 ...   \n",
              "19367                0                 0                   0   \n",
              "19368                0                 4                   1   \n",
              "19369                0                 0                   0   \n",
              "19370                0                 2                   0   \n",
              "19371                0                 0                   1   \n",
              "\n",
              "       defaultFieldsQty  finalFieldsQty  synchronizedFieldsQty  nosi  loc  \\\n",
              "0                     0               0                      0     0   50   \n",
              "1                     0               0                      0     2   53   \n",
              "2                     0               0                      0     0   25   \n",
              "3                     0               0                      0     1   14   \n",
              "4                     0               0                      0     0    2   \n",
              "...                 ...             ...                    ...   ...  ...   \n",
              "19367                 0               0                      0     0    5   \n",
              "19368                 0               2                      0     5  168   \n",
              "19369                 0               0                      0     1    5   \n",
              "19370                 1               1                      0     0   22   \n",
              "19371                 0               0                      0     0   38   \n",
              "\n",
              "       returnQty  loopQty  comparisonsQty  tryCatchQty  parenthesizedExpsQty  \\\n",
              "0              8        1               3            0                     1   \n",
              "1              0        0               0            0                     0   \n",
              "2              0        0               0            0                     0   \n",
              "3              0        0               0            0                     0   \n",
              "4              0        0               0            0                     0   \n",
              "...          ...      ...             ...          ...                   ...   \n",
              "19367          1        0               0            0                     0   \n",
              "19368         30        0               4            0                     0   \n",
              "19369          0        0               0            0                     0   \n",
              "19370          1        0               1            0                     0   \n",
              "19371          8        0               0            0                     0   \n",
              "\n",
              "       stringLiteralsQty  numbersQty  assignmentsQty  mathOperationsQty  \\\n",
              "0                      5           7              10                  4   \n",
              "1                     11           6              12                  0   \n",
              "2                      0           1               7                  0   \n",
              "3                      8           2               3                  0   \n",
              "4                      1           0               0                  0   \n",
              "...                  ...         ...             ...                ...   \n",
              "19367                  0           0               0                  0   \n",
              "19368                  3           1              15                  0   \n",
              "19369                  0           0               0                  0   \n",
              "19370                  7           0               5                  2   \n",
              "19371                  0           0               3                  0   \n",
              "\n",
              "       variablesQty  maxNestedBlocksQty  anonymousClassesQty  innerClassesQty  \\\n",
              "0                10                   2                    0                0   \n",
              "1                12                   0                    0                0   \n",
              "2                 7                   0                    0                0   \n",
              "3                 3                   0                    0                0   \n",
              "4                 0                   0                    0                0   \n",
              "...             ...                 ...                  ...              ...   \n",
              "19367             0                   0                    0                0   \n",
              "19368            14                   3                    0                0   \n",
              "19369             0                   0                    0                0   \n",
              "19370             5                   2                    0                0   \n",
              "19371             3                   0                    0                0   \n",
              "\n",
              "       lambdasQty  uniqueWordsQty  modifiers  logStatementsQty title severity  \\\n",
              "0               0              50          1                 0     0        0   \n",
              "1               0              26          1                 0     0        0   \n",
              "2               0              35          1                 0     0        0   \n",
              "3               0              26          1                 0     0        0   \n",
              "4               0               4          1                 0     0        0   \n",
              "...           ...             ...        ...               ...   ...      ...   \n",
              "19367           0              16          1                 0     0        0   \n",
              "19368           0             194          1                 3     0        0   \n",
              "19369           0              11       1025                 0     0        0   \n",
              "19370           0              58          1                 3     0        0   \n",
              "19371           0              22          1                 0     0        0   \n",
              "\n",
              "       vulnerable version  \n",
              "0             0.0  2.3.20  \n",
              "1             0.0  2.3.20  \n",
              "2             0.0  2.3.20  \n",
              "3             0.0  2.3.20  \n",
              "4             0.0  2.3.20  \n",
              "...           ...     ...  \n",
              "19367         0.0  2.5.26  \n",
              "19368         0.0  2.5.26  \n",
              "19369         0.0  2.5.26  \n",
              "19370         0.0  2.5.26  \n",
              "19371         0.0  2.5.26  \n",
              "\n",
              "[19372 rows x 55 columns]"
            ],
            "text/html": [
              "\n",
              "  <div id=\"df-9d2bdade-1119-4abb-98b8-48eb84b44c24\">\n",
              "    <div class=\"colab-df-container\">\n",
              "      <div>\n",
              "<style scoped>\n",
              "    .dataframe tbody tr th:only-of-type {\n",
              "        vertical-align: middle;\n",
              "    }\n",
              "\n",
              "    .dataframe tbody tr th {\n",
              "        vertical-align: top;\n",
              "    }\n",
              "\n",
              "    .dataframe thead th {\n",
              "        text-align: right;\n",
              "    }\n",
              "</style>\n",
              "<table border=\"1\" class=\"dataframe\">\n",
              "  <thead>\n",
              "    <tr style=\"text-align: right;\">\n",
              "      <th></th>\n",
              "      <th>file</th>\n",
              "      <th>type</th>\n",
              "      <th>cbo</th>\n",
              "      <th>cboModified</th>\n",
              "      <th>fanin</th>\n",
              "      <th>fanout</th>\n",
              "      <th>wmc</th>\n",
              "      <th>dit</th>\n",
              "      <th>noc</th>\n",
              "      <th>rfc</th>\n",
              "      <th>lcom</th>\n",
              "      <th>lcom*</th>\n",
              "      <th>tcc</th>\n",
              "      <th>lcc</th>\n",
              "      <th>totalMethodsQty</th>\n",
              "      <th>staticMethodsQty</th>\n",
              "      <th>publicMethodsQty</th>\n",
              "      <th>privateMethodsQty</th>\n",
              "      <th>protectedMethodsQty</th>\n",
              "      <th>defaultMethodsQty</th>\n",
              "      <th>visibleMethodsQty</th>\n",
              "      <th>abstractMethodsQty</th>\n",
              "      <th>finalMethodsQty</th>\n",
              "      <th>synchronizedMethodsQty</th>\n",
              "      <th>totalFieldsQty</th>\n",
              "      <th>staticFieldsQty</th>\n",
              "      <th>publicFieldsQty</th>\n",
              "      <th>privateFieldsQty</th>\n",
              "      <th>protectedFieldsQty</th>\n",
              "      <th>defaultFieldsQty</th>\n",
              "      <th>finalFieldsQty</th>\n",
              "      <th>synchronizedFieldsQty</th>\n",
              "      <th>nosi</th>\n",
              "      <th>loc</th>\n",
              "      <th>returnQty</th>\n",
              "      <th>loopQty</th>\n",
              "      <th>comparisonsQty</th>\n",
              "      <th>tryCatchQty</th>\n",
              "      <th>parenthesizedExpsQty</th>\n",
              "      <th>stringLiteralsQty</th>\n",
              "      <th>numbersQty</th>\n",
              "      <th>assignmentsQty</th>\n",
              "      <th>mathOperationsQty</th>\n",
              "      <th>variablesQty</th>\n",
              "      <th>maxNestedBlocksQty</th>\n",
              "      <th>anonymousClassesQty</th>\n",
              "      <th>innerClassesQty</th>\n",
              "      <th>lambdasQty</th>\n",
              "      <th>uniqueWordsQty</th>\n",
              "      <th>modifiers</th>\n",
              "      <th>logStatementsQty</th>\n",
              "      <th>title</th>\n",
              "      <th>severity</th>\n",
              "      <th>vulnerable</th>\n",
              "      <th>version</th>\n",
              "    </tr>\n",
              "  </thead>\n",
              "  <tbody>\n",
              "    <tr>\n",
              "      <th>0</th>\n",
              "      <td>core/src/main/java/org/apache/struts2/views/fr...</td>\n",
              "      <td>class</td>\n",
              "      <td>5</td>\n",
              "      <td>7</td>\n",
              "      <td>2</td>\n",
              "      <td>5</td>\n",
              "      <td>14</td>\n",
              "      <td>1</td>\n",
              "      <td>0</td>\n",
              "      <td>16</td>\n",
              "      <td>0</td>\n",
              "      <td>0.583333</td>\n",
              "      <td>0.607143</td>\n",
              "      <td>1.0</td>\n",
              "      <td>8</td>\n",
              "      <td>0</td>\n",
              "      <td>8</td>\n",
              "      <td>0</td>\n",
              "      <td>0</td>\n",
              "      <td>0</td>\n",
              "      <td>8</td>\n",
              "      <td>0</td>\n",
              "      <td>0</td>\n",
              "      <td>0</td>\n",
              "      <td>3</td>\n",
              "      <td>0</td>\n",
              "      <td>0</td>\n",
              "      <td>3</td>\n",
              "      <td>0</td>\n",
              "      <td>0</td>\n",
              "      <td>0</td>\n",
              "      <td>0</td>\n",
              "      <td>0</td>\n",
              "      <td>50</td>\n",
              "      <td>8</td>\n",
              "      <td>1</td>\n",
              "      <td>3</td>\n",
              "      <td>0</td>\n",
              "      <td>1</td>\n",
              "      <td>5</td>\n",
              "      <td>7</td>\n",
              "      <td>10</td>\n",
              "      <td>4</td>\n",
              "      <td>10</td>\n",
              "      <td>2</td>\n",
              "      <td>0</td>\n",
              "      <td>0</td>\n",
              "      <td>0</td>\n",
              "      <td>50</td>\n",
              "      <td>1</td>\n",
              "      <td>0</td>\n",
              "      <td>0</td>\n",
              "      <td>0</td>\n",
              "      <td>0.0</td>\n",
              "      <td>2.3.20</td>\n",
              "    </tr>\n",
              "    <tr>\n",
              "      <th>1</th>\n",
              "      <td>core/src/test/java/org/apache/struts2/views/js...</td>\n",
              "      <td>class</td>\n",
              "      <td>3</td>\n",
              "      <td>3</td>\n",
              "      <td>0</td>\n",
              "      <td>3</td>\n",
              "      <td>4</td>\n",
              "      <td>4</td>\n",
              "      <td>0</td>\n",
              "      <td>14</td>\n",
              "      <td>6</td>\n",
              "      <td>0.000000</td>\n",
              "      <td>0.000000</td>\n",
              "      <td>0.0</td>\n",
              "      <td>4</td>\n",
              "      <td>0</td>\n",
              "      <td>4</td>\n",
              "      <td>0</td>\n",
              "      <td>0</td>\n",
              "      <td>0</td>\n",
              "      <td>4</td>\n",
              "      <td>0</td>\n",
              "      <td>0</td>\n",
              "      <td>0</td>\n",
              "      <td>0</td>\n",
              "      <td>0</td>\n",
              "      <td>0</td>\n",
              "      <td>0</td>\n",
              "      <td>0</td>\n",
              "      <td>0</td>\n",
              "      <td>0</td>\n",
              "      <td>0</td>\n",
              "      <td>2</td>\n",
              "      <td>53</td>\n",
              "      <td>0</td>\n",
              "      <td>0</td>\n",
              "      <td>0</td>\n",
              "      <td>0</td>\n",
              "      <td>0</td>\n",
              "      <td>11</td>\n",
              "      <td>6</td>\n",
              "      <td>12</td>\n",
              "      <td>0</td>\n",
              "      <td>12</td>\n",
              "      <td>0</td>\n",
              "      <td>0</td>\n",
              "      <td>0</td>\n",
              "      <td>0</td>\n",
              "      <td>26</td>\n",
              "      <td>1</td>\n",
              "      <td>0</td>\n",
              "      <td>0</td>\n",
              "      <td>0</td>\n",
              "      <td>0.0</td>\n",
              "      <td>2.3.20</td>\n",
              "    </tr>\n",
              "    <tr>\n",
              "      <th>2</th>\n",
              "      <td>plugins/cdi/src/test/java/org/apache/struts2/c...</td>\n",
              "      <td>class</td>\n",
              "      <td>8</td>\n",
              "      <td>8</td>\n",
              "      <td>0</td>\n",
              "      <td>8</td>\n",
              "      <td>4</td>\n",
              "      <td>1</td>\n",
              "      <td>0</td>\n",
              "      <td>12</td>\n",
              "      <td>6</td>\n",
              "      <td>0.000000</td>\n",
              "      <td>0.000000</td>\n",
              "      <td>0.0</td>\n",
              "      <td>4</td>\n",
              "      <td>0</td>\n",
              "      <td>4</td>\n",
              "      <td>0</td>\n",
              "      <td>0</td>\n",
              "      <td>0</td>\n",
              "      <td>4</td>\n",
              "      <td>0</td>\n",
              "      <td>0</td>\n",
              "      <td>0</td>\n",
              "      <td>0</td>\n",
              "      <td>0</td>\n",
              "      <td>0</td>\n",
              "      <td>0</td>\n",
              "      <td>0</td>\n",
              "      <td>0</td>\n",
              "      <td>0</td>\n",
              "      <td>0</td>\n",
              "      <td>0</td>\n",
              "      <td>25</td>\n",
              "      <td>0</td>\n",
              "      <td>0</td>\n",
              "      <td>0</td>\n",
              "      <td>0</td>\n",
              "      <td>0</td>\n",
              "      <td>0</td>\n",
              "      <td>1</td>\n",
              "      <td>7</td>\n",
              "      <td>0</td>\n",
              "      <td>7</td>\n",
              "      <td>0</td>\n",
              "      <td>0</td>\n",
              "      <td>0</td>\n",
              "      <td>0</td>\n",
              "      <td>35</td>\n",
              "      <td>1</td>\n",
              "      <td>0</td>\n",
              "      <td>0</td>\n",
              "      <td>0</td>\n",
              "      <td>0.0</td>\n",
              "      <td>2.3.20</td>\n",
              "    </tr>\n",
              "    <tr>\n",
              "      <th>3</th>\n",
              "      <td>apps/portlet/src/test/java/JettyPlutoLauncher....</td>\n",
              "      <td>class</td>\n",
              "      <td>4</td>\n",
              "      <td>4</td>\n",
              "      <td>0</td>\n",
              "      <td>4</td>\n",
              "      <td>1</td>\n",
              "      <td>1</td>\n",
              "      <td>0</td>\n",
              "      <td>7</td>\n",
              "      <td>0</td>\n",
              "      <td>0.000000</td>\n",
              "      <td>0.000000</td>\n",
              "      <td>0.0</td>\n",
              "      <td>1</td>\n",
              "      <td>1</td>\n",
              "      <td>1</td>\n",
              "      <td>0</td>\n",
              "      <td>0</td>\n",
              "      <td>0</td>\n",
              "      <td>1</td>\n",
              "      <td>0</td>\n",
              "      <td>0</td>\n",
              "      <td>0</td>\n",
              "      <td>0</td>\n",
              "      <td>0</td>\n",
              "      <td>0</td>\n",
              "      <td>0</td>\n",
              "      <td>0</td>\n",
              "      <td>0</td>\n",
              "      <td>0</td>\n",
              "      <td>0</td>\n",
              "      <td>1</td>\n",
              "      <td>14</td>\n",
              "      <td>0</td>\n",
              "      <td>0</td>\n",
              "      <td>0</td>\n",
              "      <td>0</td>\n",
              "      <td>0</td>\n",
              "      <td>8</td>\n",
              "      <td>2</td>\n",
              "      <td>3</td>\n",
              "      <td>0</td>\n",
              "      <td>3</td>\n",
              "      <td>0</td>\n",
              "      <td>0</td>\n",
              "      <td>0</td>\n",
              "      <td>0</td>\n",
              "      <td>26</td>\n",
              "      <td>1</td>\n",
              "      <td>0</td>\n",
              "      <td>0</td>\n",
              "      <td>0</td>\n",
              "      <td>0.0</td>\n",
              "      <td>2.3.20</td>\n",
              "    </tr>\n",
              "    <tr>\n",
              "      <th>4</th>\n",
              "      <td>plugins/codebehind/src/test/java/org/apache/st...</td>\n",
              "      <td>class</td>\n",
              "      <td>1</td>\n",
              "      <td>1</td>\n",
              "      <td>0</td>\n",
              "      <td>1</td>\n",
              "      <td>0</td>\n",
              "      <td>1</td>\n",
              "      <td>0</td>\n",
              "      <td>0</td>\n",
              "      <td>0</td>\n",
              "      <td>0.000000</td>\n",
              "      <td>-1.000000</td>\n",
              "      <td>-1.0</td>\n",
              "      <td>0</td>\n",
              "      <td>0</td>\n",
              "      <td>0</td>\n",
              "      <td>0</td>\n",
              "      <td>0</td>\n",
              "      <td>0</td>\n",
              "      <td>0</td>\n",
              "      <td>0</td>\n",
              "      <td>0</td>\n",
              "      <td>0</td>\n",
              "      <td>0</td>\n",
              "      <td>0</td>\n",
              "      <td>0</td>\n",
              "      <td>0</td>\n",
              "      <td>0</td>\n",
              "      <td>0</td>\n",
              "      <td>0</td>\n",
              "      <td>0</td>\n",
              "      <td>0</td>\n",
              "      <td>2</td>\n",
              "      <td>0</td>\n",
              "      <td>0</td>\n",
              "      <td>0</td>\n",
              "      <td>0</td>\n",
              "      <td>0</td>\n",
              "      <td>1</td>\n",
              "      <td>0</td>\n",
              "      <td>0</td>\n",
              "      <td>0</td>\n",
              "      <td>0</td>\n",
              "      <td>0</td>\n",
              "      <td>0</td>\n",
              "      <td>0</td>\n",
              "      <td>0</td>\n",
              "      <td>4</td>\n",
              "      <td>1</td>\n",
              "      <td>0</td>\n",
              "      <td>0</td>\n",
              "      <td>0</td>\n",
              "      <td>0.0</td>\n",
              "      <td>2.3.20</td>\n",
              "    </tr>\n",
              "    <tr>\n",
              "      <th>...</th>\n",
              "      <td>...</td>\n",
              "      <td>...</td>\n",
              "      <td>...</td>\n",
              "      <td>...</td>\n",
              "      <td>...</td>\n",
              "      <td>...</td>\n",
              "      <td>...</td>\n",
              "      <td>...</td>\n",
              "      <td>...</td>\n",
              "      <td>...</td>\n",
              "      <td>...</td>\n",
              "      <td>...</td>\n",
              "      <td>...</td>\n",
              "      <td>...</td>\n",
              "      <td>...</td>\n",
              "      <td>...</td>\n",
              "      <td>...</td>\n",
              "      <td>...</td>\n",
              "      <td>...</td>\n",
              "      <td>...</td>\n",
              "      <td>...</td>\n",
              "      <td>...</td>\n",
              "      <td>...</td>\n",
              "      <td>...</td>\n",
              "      <td>...</td>\n",
              "      <td>...</td>\n",
              "      <td>...</td>\n",
              "      <td>...</td>\n",
              "      <td>...</td>\n",
              "      <td>...</td>\n",
              "      <td>...</td>\n",
              "      <td>...</td>\n",
              "      <td>...</td>\n",
              "      <td>...</td>\n",
              "      <td>...</td>\n",
              "      <td>...</td>\n",
              "      <td>...</td>\n",
              "      <td>...</td>\n",
              "      <td>...</td>\n",
              "      <td>...</td>\n",
              "      <td>...</td>\n",
              "      <td>...</td>\n",
              "      <td>...</td>\n",
              "      <td>...</td>\n",
              "      <td>...</td>\n",
              "      <td>...</td>\n",
              "      <td>...</td>\n",
              "      <td>...</td>\n",
              "      <td>...</td>\n",
              "      <td>...</td>\n",
              "      <td>...</td>\n",
              "      <td>...</td>\n",
              "      <td>...</td>\n",
              "      <td>...</td>\n",
              "      <td>...</td>\n",
              "    </tr>\n",
              "    <tr>\n",
              "      <th>19367</th>\n",
              "      <td>plugins/convention/src/test/java/org/apache/st...</td>\n",
              "      <td>class</td>\n",
              "      <td>0</td>\n",
              "      <td>1</td>\n",
              "      <td>1</td>\n",
              "      <td>0</td>\n",
              "      <td>1</td>\n",
              "      <td>1</td>\n",
              "      <td>0</td>\n",
              "      <td>0</td>\n",
              "      <td>0</td>\n",
              "      <td>0.000000</td>\n",
              "      <td>0.000000</td>\n",
              "      <td>0.0</td>\n",
              "      <td>1</td>\n",
              "      <td>0</td>\n",
              "      <td>1</td>\n",
              "      <td>0</td>\n",
              "      <td>0</td>\n",
              "      <td>0</td>\n",
              "      <td>1</td>\n",
              "      <td>0</td>\n",
              "      <td>0</td>\n",
              "      <td>0</td>\n",
              "      <td>0</td>\n",
              "      <td>0</td>\n",
              "      <td>0</td>\n",
              "      <td>0</td>\n",
              "      <td>0</td>\n",
              "      <td>0</td>\n",
              "      <td>0</td>\n",
              "      <td>0</td>\n",
              "      <td>0</td>\n",
              "      <td>5</td>\n",
              "      <td>1</td>\n",
              "      <td>0</td>\n",
              "      <td>0</td>\n",
              "      <td>0</td>\n",
              "      <td>0</td>\n",
              "      <td>0</td>\n",
              "      <td>0</td>\n",
              "      <td>0</td>\n",
              "      <td>0</td>\n",
              "      <td>0</td>\n",
              "      <td>0</td>\n",
              "      <td>0</td>\n",
              "      <td>0</td>\n",
              "      <td>0</td>\n",
              "      <td>16</td>\n",
              "      <td>1</td>\n",
              "      <td>0</td>\n",
              "      <td>0</td>\n",
              "      <td>0</td>\n",
              "      <td>0.0</td>\n",
              "      <td>2.5.26</td>\n",
              "    </tr>\n",
              "    <tr>\n",
              "      <th>19368</th>\n",
              "      <td>core/src/main/java/com/opensymphony/xwork2/Act...</td>\n",
              "      <td>class</td>\n",
              "      <td>14</td>\n",
              "      <td>33</td>\n",
              "      <td>19</td>\n",
              "      <td>14</td>\n",
              "      <td>49</td>\n",
              "      <td>1</td>\n",
              "      <td>19</td>\n",
              "      <td>56</td>\n",
              "      <td>585</td>\n",
              "      <td>0.883721</td>\n",
              "      <td>0.000000</td>\n",
              "      <td>0.0</td>\n",
              "      <td>43</td>\n",
              "      <td>0</td>\n",
              "      <td>40</td>\n",
              "      <td>0</td>\n",
              "      <td>3</td>\n",
              "      <td>0</td>\n",
              "      <td>43</td>\n",
              "      <td>0</td>\n",
              "      <td>0</td>\n",
              "      <td>0</td>\n",
              "      <td>5</td>\n",
              "      <td>1</td>\n",
              "      <td>0</td>\n",
              "      <td>4</td>\n",
              "      <td>1</td>\n",
              "      <td>0</td>\n",
              "      <td>2</td>\n",
              "      <td>0</td>\n",
              "      <td>5</td>\n",
              "      <td>168</td>\n",
              "      <td>30</td>\n",
              "      <td>0</td>\n",
              "      <td>4</td>\n",
              "      <td>0</td>\n",
              "      <td>0</td>\n",
              "      <td>3</td>\n",
              "      <td>1</td>\n",
              "      <td>15</td>\n",
              "      <td>0</td>\n",
              "      <td>14</td>\n",
              "      <td>3</td>\n",
              "      <td>0</td>\n",
              "      <td>0</td>\n",
              "      <td>0</td>\n",
              "      <td>194</td>\n",
              "      <td>1</td>\n",
              "      <td>3</td>\n",
              "      <td>0</td>\n",
              "      <td>0</td>\n",
              "      <td>0.0</td>\n",
              "      <td>2.5.26</td>\n",
              "    </tr>\n",
              "    <tr>\n",
              "      <th>19369</th>\n",
              "      <td>apps/showcase/src/test/java/it/org/apache/stru...</td>\n",
              "      <td>class</td>\n",
              "      <td>2</td>\n",
              "      <td>13</td>\n",
              "      <td>11</td>\n",
              "      <td>2</td>\n",
              "      <td>1</td>\n",
              "      <td>2</td>\n",
              "      <td>11</td>\n",
              "      <td>3</td>\n",
              "      <td>0</td>\n",
              "      <td>0.000000</td>\n",
              "      <td>0.000000</td>\n",
              "      <td>0.0</td>\n",
              "      <td>1</td>\n",
              "      <td>0</td>\n",
              "      <td>1</td>\n",
              "      <td>0</td>\n",
              "      <td>0</td>\n",
              "      <td>0</td>\n",
              "      <td>1</td>\n",
              "      <td>0</td>\n",
              "      <td>0</td>\n",
              "      <td>0</td>\n",
              "      <td>0</td>\n",
              "      <td>0</td>\n",
              "      <td>0</td>\n",
              "      <td>0</td>\n",
              "      <td>0</td>\n",
              "      <td>0</td>\n",
              "      <td>0</td>\n",
              "      <td>0</td>\n",
              "      <td>1</td>\n",
              "      <td>5</td>\n",
              "      <td>0</td>\n",
              "      <td>0</td>\n",
              "      <td>0</td>\n",
              "      <td>0</td>\n",
              "      <td>0</td>\n",
              "      <td>0</td>\n",
              "      <td>0</td>\n",
              "      <td>0</td>\n",
              "      <td>0</td>\n",
              "      <td>0</td>\n",
              "      <td>0</td>\n",
              "      <td>0</td>\n",
              "      <td>0</td>\n",
              "      <td>0</td>\n",
              "      <td>11</td>\n",
              "      <td>1025</td>\n",
              "      <td>0</td>\n",
              "      <td>0</td>\n",
              "      <td>0</td>\n",
              "      <td>0.0</td>\n",
              "      <td>2.5.26</td>\n",
              "    </tr>\n",
              "    <tr>\n",
              "      <th>19370</th>\n",
              "      <td>core/src/main/java/org/apache/struts2/views/xs...</td>\n",
              "      <td>class</td>\n",
              "      <td>2</td>\n",
              "      <td>3</td>\n",
              "      <td>1</td>\n",
              "      <td>2</td>\n",
              "      <td>4</td>\n",
              "      <td>1</td>\n",
              "      <td>0</td>\n",
              "      <td>8</td>\n",
              "      <td>0</td>\n",
              "      <td>0.166667</td>\n",
              "      <td>0.000000</td>\n",
              "      <td>0.0</td>\n",
              "      <td>2</td>\n",
              "      <td>0</td>\n",
              "      <td>2</td>\n",
              "      <td>0</td>\n",
              "      <td>0</td>\n",
              "      <td>0</td>\n",
              "      <td>2</td>\n",
              "      <td>0</td>\n",
              "      <td>0</td>\n",
              "      <td>0</td>\n",
              "      <td>3</td>\n",
              "      <td>1</td>\n",
              "      <td>0</td>\n",
              "      <td>2</td>\n",
              "      <td>0</td>\n",
              "      <td>1</td>\n",
              "      <td>1</td>\n",
              "      <td>0</td>\n",
              "      <td>0</td>\n",
              "      <td>22</td>\n",
              "      <td>1</td>\n",
              "      <td>0</td>\n",
              "      <td>1</td>\n",
              "      <td>0</td>\n",
              "      <td>0</td>\n",
              "      <td>7</td>\n",
              "      <td>0</td>\n",
              "      <td>5</td>\n",
              "      <td>2</td>\n",
              "      <td>5</td>\n",
              "      <td>2</td>\n",
              "      <td>0</td>\n",
              "      <td>0</td>\n",
              "      <td>0</td>\n",
              "      <td>58</td>\n",
              "      <td>1</td>\n",
              "      <td>3</td>\n",
              "      <td>0</td>\n",
              "      <td>0</td>\n",
              "      <td>0.0</td>\n",
              "      <td>2.5.26</td>\n",
              "    </tr>\n",
              "    <tr>\n",
              "      <th>19371</th>\n",
              "      <td>core/src/main/java/com/opensymphony/xwork2/Def...</td>\n",
              "      <td>class</td>\n",
              "      <td>8</td>\n",
              "      <td>11</td>\n",
              "      <td>3</td>\n",
              "      <td>8</td>\n",
              "      <td>10</td>\n",
              "      <td>1</td>\n",
              "      <td>1</td>\n",
              "      <td>7</td>\n",
              "      <td>39</td>\n",
              "      <td>0.700000</td>\n",
              "      <td>0.000000</td>\n",
              "      <td>0.0</td>\n",
              "      <td>10</td>\n",
              "      <td>0</td>\n",
              "      <td>9</td>\n",
              "      <td>0</td>\n",
              "      <td>1</td>\n",
              "      <td>0</td>\n",
              "      <td>10</td>\n",
              "      <td>0</td>\n",
              "      <td>0</td>\n",
              "      <td>0</td>\n",
              "      <td>1</td>\n",
              "      <td>0</td>\n",
              "      <td>0</td>\n",
              "      <td>0</td>\n",
              "      <td>1</td>\n",
              "      <td>0</td>\n",
              "      <td>0</td>\n",
              "      <td>0</td>\n",
              "      <td>0</td>\n",
              "      <td>38</td>\n",
              "      <td>8</td>\n",
              "      <td>0</td>\n",
              "      <td>0</td>\n",
              "      <td>0</td>\n",
              "      <td>0</td>\n",
              "      <td>0</td>\n",
              "      <td>0</td>\n",
              "      <td>3</td>\n",
              "      <td>0</td>\n",
              "      <td>3</td>\n",
              "      <td>0</td>\n",
              "      <td>0</td>\n",
              "      <td>0</td>\n",
              "      <td>0</td>\n",
              "      <td>22</td>\n",
              "      <td>1</td>\n",
              "      <td>0</td>\n",
              "      <td>0</td>\n",
              "      <td>0</td>\n",
              "      <td>0.0</td>\n",
              "      <td>2.5.26</td>\n",
              "    </tr>\n",
              "  </tbody>\n",
              "</table>\n",
              "<p>19372 rows × 55 columns</p>\n",
              "</div>\n",
              "      <button class=\"colab-df-convert\" onclick=\"convertToInteractive('df-9d2bdade-1119-4abb-98b8-48eb84b44c24')\"\n",
              "              title=\"Convert this dataframe to an interactive table.\"\n",
              "              style=\"display:none;\">\n",
              "        \n",
              "  <svg xmlns=\"http://www.w3.org/2000/svg\" height=\"24px\"viewBox=\"0 0 24 24\"\n",
              "       width=\"24px\">\n",
              "    <path d=\"M0 0h24v24H0V0z\" fill=\"none\"/>\n",
              "    <path d=\"M18.56 5.44l.94 2.06.94-2.06 2.06-.94-2.06-.94-.94-2.06-.94 2.06-2.06.94zm-11 1L8.5 8.5l.94-2.06 2.06-.94-2.06-.94L8.5 2.5l-.94 2.06-2.06.94zm10 10l.94 2.06.94-2.06 2.06-.94-2.06-.94-.94-2.06-.94 2.06-2.06.94z\"/><path d=\"M17.41 7.96l-1.37-1.37c-.4-.4-.92-.59-1.43-.59-.52 0-1.04.2-1.43.59L10.3 9.45l-7.72 7.72c-.78.78-.78 2.05 0 2.83L4 21.41c.39.39.9.59 1.41.59.51 0 1.02-.2 1.41-.59l7.78-7.78 2.81-2.81c.8-.78.8-2.07 0-2.86zM5.41 20L4 18.59l7.72-7.72 1.47 1.35L5.41 20z\"/>\n",
              "  </svg>\n",
              "      </button>\n",
              "      \n",
              "  <style>\n",
              "    .colab-df-container {\n",
              "      display:flex;\n",
              "      flex-wrap:wrap;\n",
              "      gap: 12px;\n",
              "    }\n",
              "\n",
              "    .colab-df-convert {\n",
              "      background-color: #E8F0FE;\n",
              "      border: none;\n",
              "      border-radius: 50%;\n",
              "      cursor: pointer;\n",
              "      display: none;\n",
              "      fill: #1967D2;\n",
              "      height: 32px;\n",
              "      padding: 0 0 0 0;\n",
              "      width: 32px;\n",
              "    }\n",
              "\n",
              "    .colab-df-convert:hover {\n",
              "      background-color: #E2EBFA;\n",
              "      box-shadow: 0px 1px 2px rgba(60, 64, 67, 0.3), 0px 1px 3px 1px rgba(60, 64, 67, 0.15);\n",
              "      fill: #174EA6;\n",
              "    }\n",
              "\n",
              "    [theme=dark] .colab-df-convert {\n",
              "      background-color: #3B4455;\n",
              "      fill: #D2E3FC;\n",
              "    }\n",
              "\n",
              "    [theme=dark] .colab-df-convert:hover {\n",
              "      background-color: #434B5C;\n",
              "      box-shadow: 0px 1px 3px 1px rgba(0, 0, 0, 0.15);\n",
              "      filter: drop-shadow(0px 1px 2px rgba(0, 0, 0, 0.3));\n",
              "      fill: #FFFFFF;\n",
              "    }\n",
              "  </style>\n",
              "\n",
              "      <script>\n",
              "        const buttonEl =\n",
              "          document.querySelector('#df-9d2bdade-1119-4abb-98b8-48eb84b44c24 button.colab-df-convert');\n",
              "        buttonEl.style.display =\n",
              "          google.colab.kernel.accessAllowed ? 'block' : 'none';\n",
              "\n",
              "        async function convertToInteractive(key) {\n",
              "          const element = document.querySelector('#df-9d2bdade-1119-4abb-98b8-48eb84b44c24');\n",
              "          const dataTable =\n",
              "            await google.colab.kernel.invokeFunction('convertToInteractive',\n",
              "                                                     [key], {});\n",
              "          if (!dataTable) return;\n",
              "\n",
              "          const docLinkHtml = 'Like what you see? Visit the ' +\n",
              "            '<a target=\"_blank\" href=https://colab.research.google.com/notebooks/data_table.ipynb>data table notebook</a>'\n",
              "            + ' to learn more about interactive tables.';\n",
              "          element.innerHTML = '';\n",
              "          dataTable['output_type'] = 'display_data';\n",
              "          await google.colab.output.renderOutput(dataTable, element);\n",
              "          const docLink = document.createElement('div');\n",
              "          docLink.innerHTML = docLinkHtml;\n",
              "          element.appendChild(docLink);\n",
              "        }\n",
              "      </script>\n",
              "    </div>\n",
              "  </div>\n",
              "  "
            ]
          },
          "metadata": {},
          "execution_count": 5
        }
      ],
      "source": [
        "df"
      ]
    },
    {
      "cell_type": "markdown",
      "metadata": {
        "id": "qPqFGx8-ZKQq"
      },
      "source": [
        "### Data preprocessing and cleanup"
      ]
    },
    {
      "cell_type": "code",
      "execution_count": 6,
      "metadata": {
        "id": "MX6JZPhgZKQr"
      },
      "outputs": [],
      "source": [
        "df.loc[df['title'].str.contains('Denial', case=False),'title'] = 'DoS'\n",
        "df.loc[df['title'].str.contains('CSRF', case=False),'title'] = 'CSRF'\n",
        "df.loc[df['title'].str.contains('information disclosure', case=False),'title'] = 'Information Disclosure'\n",
        "df.loc[df['title'].str.contains('cve-2020-9484', case=False),'title'] = 'Remote Code execution'\n",
        "df.loc[df['title'].str.contains('session hijacking', case=False),'title'] = 'Remote Code execution'\n",
        "df = df.drop_duplicates(keep='first').reset_index(drop=True)"
      ]
    },
    {
      "cell_type": "markdown",
      "metadata": {
        "id": "tmuhlEV2ZKQs"
      },
      "source": [
        "Unique severities (Debugging)"
      ]
    },
    {
      "cell_type": "code",
      "execution_count": 7,
      "metadata": {
        "id": "4d3h-sUqZKQs",
        "outputId": "1a9b63c4-6193-489c-b613-5d969a50a025",
        "colab": {
          "base_uri": "https://localhost:8080/"
        }
      },
      "outputs": [
        {
          "output_type": "execute_result",
          "data": {
            "text/plain": [
              "array(['0', 'high', 'critical', 'medium'], dtype=object)"
            ]
          },
          "metadata": {},
          "execution_count": 7
        }
      ],
      "source": [
        "df.severity.unique()"
      ]
    },
    {
      "cell_type": "markdown",
      "metadata": {
        "id": "1C-fZQURZKQt"
      },
      "source": [
        "### K-fold cross validation"
      ]
    },
    {
      "cell_type": "code",
      "execution_count": 8,
      "metadata": {
        "id": "SBUwGUHOZKQt",
        "outputId": "527c7f8d-1675-476a-ef08-6692a8e33d54",
        "colab": {
          "base_uri": "https://localhost:8080/"
        }
      },
      "outputs": [
        {
          "output_type": "stream",
          "name": "stdout",
          "text": [
            "Shape of dataframe (19365, 55)\n"
          ]
        }
      ],
      "source": [
        "train = df.loc[~(df.version==\"2.3.20\")]\n",
        "test = df.loc[df.version==\"2.3.20\"]\n",
        "kfold = KFold(10, shuffle=True, random_state=1)\n",
        "feature_columns =df.columns[2:-4] \n",
        "print(\"Shape of dataframe\", df.shape)"
      ]
    },
    {
      "cell_type": "markdown",
      "metadata": {
        "id": "l-tbZ4bXZKQt"
      },
      "source": [
        "### Label encoding the string values in the columns"
      ]
    },
    {
      "cell_type": "code",
      "execution_count": 9,
      "metadata": {
        "id": "UxQ0eUsTZKQu",
        "outputId": "25ef2d80-cb25-47a5-fa9f-7a3e9ad04cb6",
        "colab": {
          "base_uri": "https://localhost:8080/"
        }
      },
      "outputs": [
        {
          "output_type": "stream",
          "name": "stdout",
          "text": [
            "Encoded...\n"
          ]
        }
      ],
      "source": [
        "s = (train.dtypes == 'object')\n",
        "object_cols = ['severity', 'title']\n",
        "\n",
        "label_X_train = train.copy()\n",
        "label_X_valid = test.copy()\n",
        "le = LabelEncoder()\n",
        "label_X_train[object_cols] = train[object_cols].apply(le.fit_transform)\n",
        "label_X_valid[object_cols] = test[object_cols].apply(le.fit_transform)\n",
        "\n",
        "X = train[feature_columns]\n",
        "test_X = test[feature_columns]\n",
        "y = train.vulnerable\n",
        "severity_y = label_X_train.severity\n",
        "title_y = label_X_train.title\n",
        "test_Y = test.vulnerable\n",
        "severity_test_Y = label_X_valid.severity\n",
        "title_test_Y = label_X_valid.title\n",
        "print('Encoded...')\n"
      ]
    },
    {
      "cell_type": "markdown",
      "metadata": {
        "id": "dDghBdCHZKQu"
      },
      "source": [
        "### Random over-sampling"
      ]
    },
    {
      "cell_type": "code",
      "execution_count": 10,
      "metadata": {
        "id": "liN5I3MgZKQv"
      },
      "outputs": [],
      "source": [
        "ros = RandomOverSampler()\n",
        "X_ros, y_ros = ros.fit_resample(X, y)"
      ]
    },
    {
      "cell_type": "markdown",
      "metadata": {
        "id": "eL-HeNc2ZKQv"
      },
      "source": [
        "### Feature selection"
      ]
    },
    {
      "cell_type": "markdown",
      "metadata": {
        "id": "d_Kof_QsZKQv"
      },
      "source": [
        "#### Sequential Feature Selection"
      ]
    },
    {
      "cell_type": "code",
      "execution_count": null,
      "metadata": {
        "id": "O2MRwdSxZKQv",
        "outputId": "4818d2a3-ddf6-43ae-9ca5-12638cf161d0"
      },
      "outputs": [
        {
          "name": "stderr",
          "output_type": "stream",
          "text": [
            "/Users/sundarakrishnang/Library/Python/3.8/lib/python/site-packages/sklearn/linear_model/_logistic.py:814: ConvergenceWarning: lbfgs failed to converge (status=2):\n",
            "ABNORMAL_TERMINATION_IN_LNSRCH.\n",
            "\n",
            "Increase the number of iterations (max_iter) or scale the data as shown in:\n",
            "    https://scikit-learn.org/stable/modules/preprocessing.html\n",
            "Please also refer to the documentation for alternative solver options:\n",
            "    https://scikit-learn.org/stable/modules/linear_model.html#logistic-regression\n",
            "  n_iter_i = _check_optimize_result(\n",
            "/Users/sundarakrishnang/Library/Python/3.8/lib/python/site-packages/sklearn/linear_model/_logistic.py:814: ConvergenceWarning: lbfgs failed to converge (status=1):\n",
            "STOP: TOTAL NO. of ITERATIONS REACHED LIMIT.\n",
            "\n",
            "Increase the number of iterations (max_iter) or scale the data as shown in:\n",
            "    https://scikit-learn.org/stable/modules/preprocessing.html\n",
            "Please also refer to the documentation for alternative solver options:\n",
            "    https://scikit-learn.org/stable/modules/linear_model.html#logistic-regression\n",
            "  n_iter_i = _check_optimize_result(\n",
            "\n",
            "STOPPING EARLY DUE TO KEYBOARD INTERRUPT..."
          ]
        },
        {
          "data": {
            "text/plain": [
              "['cbo']"
            ]
          },
          "execution_count": 11,
          "metadata": {},
          "output_type": "execute_result"
        }
      ],
      "source": [
        "sfs = SFS(LogisticRegression(), \n",
        "           k_features='best', \n",
        "           forward=True, # if forward = True then SFS otherwise SBS\n",
        "           floating=False, \n",
        "           scoring='r2',\n",
        "          cv=5)\n",
        "sfs.fit(X,y)\n",
        "sfs_features = list(sfs.k_feature_names_)\n",
        "sfs_features"
      ]
    },
    {
      "cell_type": "markdown",
      "metadata": {
        "id": "rGxuzHP_ZKQw"
      },
      "source": [
        "#### Random Feature Elimination"
      ]
    },
    {
      "cell_type": "code",
      "execution_count": 11,
      "metadata": {
        "id": "jJdOcJQOZKQw"
      },
      "outputs": [],
      "source": [
        "rfe = RFE(estimator=DecisionTreeClassifier())\n",
        "rfe.fit(X_ros, y_ros)\n",
        "rfe_features = []\n",
        "for i in range(X.shape[1]):\n",
        "    if(rfe.support_[i] == 1):\n",
        "        rfe_features.append(X.columns[i])"
      ]
    },
    {
      "cell_type": "markdown",
      "metadata": {
        "id": "R-es0hypZKQw"
      },
      "source": [
        "fit_feature_set() - A simple function to fit a feature set."
      ]
    },
    {
      "cell_type": "code",
      "execution_count": 12,
      "metadata": {
        "id": "OPTgEismZKQw"
      },
      "outputs": [],
      "source": [
        "def fit_feature_set(feature_set):\n",
        "    X =train[feature_set]\n",
        "    test_X = test[feature_set]\n",
        "    y = train.vulnerable\n",
        "    severity_y = train.severity\n",
        "    title_y = train.title\n",
        "    test_Y = test.vulnerable\n",
        "    severity_test_Y = test.severity\n",
        "    title_test_Y= test.title"
      ]
    },
    {
      "cell_type": "markdown",
      "metadata": {
        "id": "BFljmawxZKQw"
      },
      "source": [
        "### Machine learning"
      ]
    },
    {
      "cell_type": "code",
      "execution_count": 13,
      "metadata": {
        "id": "CeQ5B7IbZKQx"
      },
      "outputs": [],
      "source": [
        "fit_feature_set(rfe_features)"
      ]
    },
    {
      "cell_type": "markdown",
      "metadata": {
        "id": "Ccq-TL1iZKQx"
      },
      "source": [
        "#### Decision tree classifier"
      ]
    },
    {
      "cell_type": "code",
      "execution_count": null,
      "metadata": {
        "id": "GSbpLYAuZKQx",
        "outputId": "a5e867e7-1ebd-4cb7-a051-ccd13b9f6abf"
      },
      "outputs": [
        {
          "data": {
            "text/plain": [
              "1782"
            ]
          },
          "execution_count": 13,
          "metadata": {},
          "output_type": "execute_result"
        }
      ],
      "source": [
        "len(test_Y)"
      ]
    },
    {
      "cell_type": "code",
      "execution_count": null,
      "metadata": {
        "trusted": true,
        "id": "NrD2jbj0ZKQx",
        "outputId": "7d292ca0-1597-4745-ee59-4038de32cec6"
      },
      "outputs": [
        {
          "name": "stdout",
          "output_type": "stream",
          "text": [
            "Precision: 0.830\n",
            "Recall: 0.869\n",
            "Accuracy: 0.845 (0.005)\n",
            "Train score 0.8454022333637192\n",
            "Test score 0.8277216610549943\n"
          ]
        }
      ],
      "source": [
        "model = DecisionTreeClassifier(ccp_alpha=0.036)\n",
        "model.fit(X_ros, y_ros)\n",
        "scores = cross_val_score(model, X_ros, y_ros, scoring='accuracy', cv=kfold, n_jobs=-1)\n",
        "print('Precision: %.3f' % mean(cross_val_score(model, X_ros, y_ros, scoring='precision', cv=kfold, n_jobs=-1)))\n",
        "print('Recall: %.3f' % mean(cross_val_score(model, X_ros, y_ros, scoring='recall', cv=kfold, n_jobs=-1)))\n",
        "print('Accuracy: %.3f (%.3f)' % (mean(scores), std(scores)))    \n",
        "y_train_pred = model.predict(X_ros)\n",
        "dt_y_test_pred = model.predict(test_X)\n",
        "print(f'Train score {accuracy_score(y_train_pred,y_ros)}')\n",
        "print(f'Test score {accuracy_score(dt_y_test_pred,test_Y)}')"
      ]
    },
    {
      "cell_type": "code",
      "execution_count": null,
      "metadata": {
        "id": "Xn4RJGABZKQx",
        "outputId": "e5596838-582c-4951-b2d1-bb2778d3bec6"
      },
      "outputs": [
        {
          "data": {
            "text/html": [
              "<div>\n",
              "<style scoped>\n",
              "    .dataframe tbody tr th:only-of-type {\n",
              "        vertical-align: middle;\n",
              "    }\n",
              "\n",
              "    .dataframe tbody tr th {\n",
              "        vertical-align: top;\n",
              "    }\n",
              "\n",
              "    .dataframe thead th {\n",
              "        text-align: right;\n",
              "    }\n",
              "</style>\n",
              "<table border=\"1\" class=\"dataframe\">\n",
              "  <thead>\n",
              "    <tr style=\"text-align: right;\">\n",
              "      <th></th>\n",
              "      <th>prediction</th>\n",
              "      <th>actual</th>\n",
              "    </tr>\n",
              "  </thead>\n",
              "  <tbody>\n",
              "    <tr>\n",
              "      <th>810</th>\n",
              "      <td>1</td>\n",
              "      <td>1</td>\n",
              "    </tr>\n",
              "    <tr>\n",
              "      <th>811</th>\n",
              "      <td>1</td>\n",
              "      <td>1</td>\n",
              "    </tr>\n",
              "    <tr>\n",
              "      <th>920</th>\n",
              "      <td>1</td>\n",
              "      <td>1</td>\n",
              "    </tr>\n",
              "    <tr>\n",
              "      <th>921</th>\n",
              "      <td>1</td>\n",
              "      <td>1</td>\n",
              "    </tr>\n",
              "    <tr>\n",
              "      <th>1261</th>\n",
              "      <td>1</td>\n",
              "      <td>1</td>\n",
              "    </tr>\n",
              "    <tr>\n",
              "      <th>1262</th>\n",
              "      <td>1</td>\n",
              "      <td>1</td>\n",
              "    </tr>\n",
              "  </tbody>\n",
              "</table>\n",
              "</div>"
            ],
            "text/plain": [
              "      prediction  actual\n",
              "810            1       1\n",
              "811            1       1\n",
              "920            1       1\n",
              "921            1       1\n",
              "1261           1       1\n",
              "1262           1       1"
            ]
          },
          "execution_count": 100,
          "metadata": {},
          "output_type": "execute_result"
        }
      ],
      "source": [
        "dt_df = pd.DataFrame([dt_y_test_pred, test_Y]).T\n",
        "dt_df.columns = ['prediction', 'actual']\n",
        "dt_df['prediction'] = dt_df['prediction'].astype(int)\n",
        "dt_df['actual'] = dt_df['actual'].astype(int)\n",
        "dt_df.loc[(dt_df['prediction'] == 1)&(dt_df['actual'] == 1)]"
      ]
    },
    {
      "cell_type": "markdown",
      "metadata": {
        "id": "3ZLpS8sFZKQy"
      },
      "source": [
        "#### KNN-classifier"
      ]
    },
    {
      "cell_type": "code",
      "execution_count": 58,
      "metadata": {
        "id": "c5qPVQeMZKQy",
        "outputId": "adb91a32-ec9f-494b-fb0c-931b61800e3d",
        "colab": {
          "base_uri": "https://localhost:8080/"
        }
      },
      "outputs": [
        {
          "output_type": "stream",
          "name": "stdout",
          "text": [
            "Precision: 0.994\n",
            "Recall: 1.000\n",
            "Accuracy: 0.997 (0.000)\n",
            "Train score 0.9978634913400183\n",
            "Test score 0.9960718294051627\n",
            "F1 train score 0.9978680462776088\n",
            "F1 test score 0.5333333333333333\n"
          ]
        }
      ],
      "source": [
        "knn_model = KNN(n_neighbors=10, weights='uniform',p=1, algorithm='brute')\n",
        "knn_model.fit(X_ros, y_ros)\n",
        "scores = cross_val_score(knn_model, X_ros, y_ros, scoring='accuracy', cv=kfold, n_jobs=-1)\n",
        "print('Precision: %.3f' % mean(cross_val_score(knn_model, X_ros, y_ros, scoring='precision', cv=kfold, n_jobs=-1)))\n",
        "print('Recall: %.3f' % mean(cross_val_score(knn_model, X_ros, y_ros, scoring='recall', cv=kfold, n_jobs=-1)))\n",
        "print('Accuracy: %.3f (%.3f)' % (mean(scores), std(scores)))    \n",
        "y_train_pred = knn_model.predict(X_ros)\n",
        "y_test_pred = knn_model.predict(test_X)\n",
        "print(f'Train score {accuracy_score(y_train_pred,y_ros)}')\n",
        "print(f'Test score {accuracy_score(y_test_pred,test_Y)}')\n",
        "print(f'F1 train score {f1_score(y_train_pred, y_ros)}')\n",
        "print(f'F1 test score {f1_score(y_test_pred, test_Y)}')"
      ]
    },
    {
      "cell_type": "code",
      "execution_count": 59,
      "metadata": {
        "id": "ZckFVKQTZKQy",
        "outputId": "86a1a241-ce66-4d3a-daab-b5e635842373",
        "colab": {
          "base_uri": "https://localhost:8080/",
          "height": 175
        }
      },
      "outputs": [
        {
          "output_type": "execute_result",
          "data": {
            "text/plain": [
              "      prediction  actual\n",
              "810            1       1\n",
              "811            1       1\n",
              "1261           1       1\n",
              "1262           1       1"
            ],
            "text/html": [
              "\n",
              "  <div id=\"df-454b7151-0da6-4766-8cce-98f9fd6fbdda\">\n",
              "    <div class=\"colab-df-container\">\n",
              "      <div>\n",
              "<style scoped>\n",
              "    .dataframe tbody tr th:only-of-type {\n",
              "        vertical-align: middle;\n",
              "    }\n",
              "\n",
              "    .dataframe tbody tr th {\n",
              "        vertical-align: top;\n",
              "    }\n",
              "\n",
              "    .dataframe thead th {\n",
              "        text-align: right;\n",
              "    }\n",
              "</style>\n",
              "<table border=\"1\" class=\"dataframe\">\n",
              "  <thead>\n",
              "    <tr style=\"text-align: right;\">\n",
              "      <th></th>\n",
              "      <th>prediction</th>\n",
              "      <th>actual</th>\n",
              "    </tr>\n",
              "  </thead>\n",
              "  <tbody>\n",
              "    <tr>\n",
              "      <th>810</th>\n",
              "      <td>1</td>\n",
              "      <td>1</td>\n",
              "    </tr>\n",
              "    <tr>\n",
              "      <th>811</th>\n",
              "      <td>1</td>\n",
              "      <td>1</td>\n",
              "    </tr>\n",
              "    <tr>\n",
              "      <th>1261</th>\n",
              "      <td>1</td>\n",
              "      <td>1</td>\n",
              "    </tr>\n",
              "    <tr>\n",
              "      <th>1262</th>\n",
              "      <td>1</td>\n",
              "      <td>1</td>\n",
              "    </tr>\n",
              "  </tbody>\n",
              "</table>\n",
              "</div>\n",
              "      <button class=\"colab-df-convert\" onclick=\"convertToInteractive('df-454b7151-0da6-4766-8cce-98f9fd6fbdda')\"\n",
              "              title=\"Convert this dataframe to an interactive table.\"\n",
              "              style=\"display:none;\">\n",
              "        \n",
              "  <svg xmlns=\"http://www.w3.org/2000/svg\" height=\"24px\"viewBox=\"0 0 24 24\"\n",
              "       width=\"24px\">\n",
              "    <path d=\"M0 0h24v24H0V0z\" fill=\"none\"/>\n",
              "    <path d=\"M18.56 5.44l.94 2.06.94-2.06 2.06-.94-2.06-.94-.94-2.06-.94 2.06-2.06.94zm-11 1L8.5 8.5l.94-2.06 2.06-.94-2.06-.94L8.5 2.5l-.94 2.06-2.06.94zm10 10l.94 2.06.94-2.06 2.06-.94-2.06-.94-.94-2.06-.94 2.06-2.06.94z\"/><path d=\"M17.41 7.96l-1.37-1.37c-.4-.4-.92-.59-1.43-.59-.52 0-1.04.2-1.43.59L10.3 9.45l-7.72 7.72c-.78.78-.78 2.05 0 2.83L4 21.41c.39.39.9.59 1.41.59.51 0 1.02-.2 1.41-.59l7.78-7.78 2.81-2.81c.8-.78.8-2.07 0-2.86zM5.41 20L4 18.59l7.72-7.72 1.47 1.35L5.41 20z\"/>\n",
              "  </svg>\n",
              "      </button>\n",
              "      \n",
              "  <style>\n",
              "    .colab-df-container {\n",
              "      display:flex;\n",
              "      flex-wrap:wrap;\n",
              "      gap: 12px;\n",
              "    }\n",
              "\n",
              "    .colab-df-convert {\n",
              "      background-color: #E8F0FE;\n",
              "      border: none;\n",
              "      border-radius: 50%;\n",
              "      cursor: pointer;\n",
              "      display: none;\n",
              "      fill: #1967D2;\n",
              "      height: 32px;\n",
              "      padding: 0 0 0 0;\n",
              "      width: 32px;\n",
              "    }\n",
              "\n",
              "    .colab-df-convert:hover {\n",
              "      background-color: #E2EBFA;\n",
              "      box-shadow: 0px 1px 2px rgba(60, 64, 67, 0.3), 0px 1px 3px 1px rgba(60, 64, 67, 0.15);\n",
              "      fill: #174EA6;\n",
              "    }\n",
              "\n",
              "    [theme=dark] .colab-df-convert {\n",
              "      background-color: #3B4455;\n",
              "      fill: #D2E3FC;\n",
              "    }\n",
              "\n",
              "    [theme=dark] .colab-df-convert:hover {\n",
              "      background-color: #434B5C;\n",
              "      box-shadow: 0px 1px 3px 1px rgba(0, 0, 0, 0.15);\n",
              "      filter: drop-shadow(0px 1px 2px rgba(0, 0, 0, 0.3));\n",
              "      fill: #FFFFFF;\n",
              "    }\n",
              "  </style>\n",
              "\n",
              "      <script>\n",
              "        const buttonEl =\n",
              "          document.querySelector('#df-454b7151-0da6-4766-8cce-98f9fd6fbdda button.colab-df-convert');\n",
              "        buttonEl.style.display =\n",
              "          google.colab.kernel.accessAllowed ? 'block' : 'none';\n",
              "\n",
              "        async function convertToInteractive(key) {\n",
              "          const element = document.querySelector('#df-454b7151-0da6-4766-8cce-98f9fd6fbdda');\n",
              "          const dataTable =\n",
              "            await google.colab.kernel.invokeFunction('convertToInteractive',\n",
              "                                                     [key], {});\n",
              "          if (!dataTable) return;\n",
              "\n",
              "          const docLinkHtml = 'Like what you see? Visit the ' +\n",
              "            '<a target=\"_blank\" href=https://colab.research.google.com/notebooks/data_table.ipynb>data table notebook</a>'\n",
              "            + ' to learn more about interactive tables.';\n",
              "          element.innerHTML = '';\n",
              "          dataTable['output_type'] = 'display_data';\n",
              "          await google.colab.output.renderOutput(dataTable, element);\n",
              "          const docLink = document.createElement('div');\n",
              "          docLink.innerHTML = docLinkHtml;\n",
              "          element.appendChild(docLink);\n",
              "        }\n",
              "      </script>\n",
              "    </div>\n",
              "  </div>\n",
              "  "
            ]
          },
          "metadata": {},
          "execution_count": 59
        }
      ],
      "source": [
        "knn_df = pd.DataFrame([y_test_pred, test_Y]).T\n",
        "knn_df.columns = ['prediction', 'actual']\n",
        "knn_df['prediction'] = knn_df['prediction'].astype(int)\n",
        "knn_df['actual'] = knn_df['actual'].astype(int)\n",
        "knn_df.loc[(knn_df['prediction']==1)&(knn_df['actual']==1)]"
      ]
    },
    {
      "cell_type": "code",
      "execution_count": 64,
      "metadata": {
        "id": "hfb3IVESZKQy",
        "outputId": "4d7fd437-ac12-4fd0-99c2-9bf21fdae803",
        "colab": {
          "base_uri": "https://localhost:8080/"
        }
      },
      "outputs": [
        {
          "output_type": "execute_result",
          "data": {
            "text/plain": [
              "6"
            ]
          },
          "metadata": {},
          "execution_count": 64
        }
      ],
      "source": [
        "knn_df.loc[knn_df.actual==1].shape[0]"
      ]
    },
    {
      "cell_type": "code",
      "source": [
        "knn_df.loc[knn_df.prediction==1].shape[0]"
      ],
      "metadata": {
        "id": "NfbXRSDxdwnp",
        "outputId": "4b01266a-c781-414d-cd88-c44209fcc3a2",
        "colab": {
          "base_uri": "https://localhost:8080/"
        }
      },
      "execution_count": 60,
      "outputs": [
        {
          "output_type": "execute_result",
          "data": {
            "text/plain": [
              "9"
            ]
          },
          "metadata": {},
          "execution_count": 60
        }
      ]
    },
    {
      "cell_type": "markdown",
      "metadata": {
        "id": "Vc_BnSFSZKQz"
      },
      "source": [
        "#### Logistic regression"
      ]
    },
    {
      "cell_type": "code",
      "execution_count": null,
      "metadata": {
        "trusted": true,
        "id": "rVVoTBxXZKQz"
      },
      "outputs": [],
      "source": [
        "lr_model = LogisticRegression(solver='sag', class_weight='balanced')\n",
        "lr_model.fit(X_ros, y_ros)\n",
        "predictions2 = lr_model.predict(test_X)\n",
        "scores = cross_val_score(lr_model, X_ros, y_ros,\n",
        "                         scoring='accuracy', cv=kfold, n_jobs=-1)\n",
        "print('Precision: %.3f' % mean(cross_val_score(\n",
        "    lr_model, X_ros, y_ros, scoring='precision', cv=kfold, n_jobs=-1)))\n",
        "print('Recall: %.3f' % mean(cross_val_score(\n",
        "    lr_model, X_ros, y_ros, scoring='recall', cv=kfold, n_jobs=-1)))\n",
        "print('Accuracy: %.3f (%.3f)' % (mean(scores), std(scores)))\n"
      ]
    },
    {
      "cell_type": "markdown",
      "metadata": {
        "id": "MdCCNgVhZKQz"
      },
      "source": [
        "#### Naive Bayes classifier"
      ]
    },
    {
      "cell_type": "code",
      "execution_count": null,
      "metadata": {
        "trusted": true,
        "id": "sxWbNC8OZKQz",
        "outputId": "5b7bcbf7-cb2d-4c61-bda7-9fc707c64550"
      },
      "outputs": [
        {
          "name": "stdout",
          "output_type": "stream",
          "text": [
            "Precision: 0.638\n",
            "Recall: 0.950\n",
            "Accuracy: 0.705 (0.019)\n"
          ]
        }
      ],
      "source": [
        "nb_model = GaussianNB()\n",
        "nb_model.fit(X_ros,y_ros)\n",
        "scores = cross_val_score(nb_model, X_ros, y_ros, scoring='accuracy', cv=kfold, n_jobs=-1)\n",
        "print('Precision: %.3f' % mean(cross_val_score(nb_model, X_ros, y_ros, scoring='precision', cv=kfold, n_jobs=-1)))\n",
        "print('Recall: %.3f' % mean(cross_val_score(nb_model, X_ros, y_ros, scoring='recall', cv=kfold, n_jobs=-1)))\n",
        "print('Accuracy: %.3f (%.3f)' % (mean(scores), std(scores)))\n",
        "\n",
        "predictions3 = nb_model.predict_proba(test_X)"
      ]
    },
    {
      "cell_type": "markdown",
      "metadata": {
        "id": "6Ee6uRmaZKQz"
      },
      "source": [
        "#### Ensemble methods\n",
        "Stacking classifier"
      ]
    },
    {
      "cell_type": "code",
      "execution_count": null,
      "metadata": {
        "id": "1FEBa8cqZKQz"
      },
      "outputs": [],
      "source": [
        "def evaluate(model, X, y):\n",
        "    cv = KFold(10, shuffle=True, random_state=1)\n",
        "    return cross_val_score(model, X, y, scoring='accuracy', cv=cv, n_jobs=-1), cross_val_score(model, X, y, scoring='precision', cv=cv, n_jobs=-1), cross_val_score(model, X, y, scoring='recall', cv=cv, n_jobs=-1)\n"
      ]
    },
    {
      "cell_type": "markdown",
      "metadata": {
        "id": "ttIdX5XrZKQz"
      },
      "source": [
        "### Stacking implementation"
      ]
    },
    {
      "cell_type": "code",
      "execution_count": null,
      "metadata": {
        "id": "LHmz8mj5ZKQz"
      },
      "outputs": [],
      "source": [
        "def stacking():\n",
        "    level0 = list()\n",
        "    level0.append(('lr', LogisticRegression(solver='saga',class_weight='balanced', max_iter=4000)))\n",
        "    level0.append(('knn', KNN(n_neighbors=11)))\n",
        "    level0.append(('dt', DecisionTreeClassifier(ccp_alpha=0.036)))\n",
        "    level0.append(('nb', GaussianNB()))\n",
        "\t\n",
        "    level1 = DecisionTreeClassifier(ccp_alpha=0.036)\n",
        "\t\n",
        "    model = StackingClassifier(estimators=level0, final_estimator=level1, cv=5)\n",
        "    return model"
      ]
    },
    {
      "cell_type": "code",
      "execution_count": null,
      "metadata": {
        "id": "w-FsDe6fZKQ0"
      },
      "outputs": [],
      "source": [
        "def get_models():\n",
        "    models = dict()\n",
        "    models['Decision Tree'] = DecisionTreeClassifier(ccp_alpha=0.036)\n",
        "    models['Logistic Regression'] = LogisticRegression(solver='saga', class_weight='balanced', max_iter=4000)\n",
        "    models['KNN'] = KNN()\n",
        "    models['Naive Bayes'] = GaussianNB()\n",
        "    models['Stacking'] = stacking()\n",
        "    return models"
      ]
    },
    {
      "cell_type": "markdown",
      "metadata": {
        "id": "blRo3mxwZKQ0"
      },
      "source": [
        "### Stacking debug"
      ]
    },
    {
      "cell_type": "code",
      "execution_count": null,
      "metadata": {
        "id": "EI1vpyaNZKQ0",
        "outputId": "ef963851-2e7c-49ff-a5b4-20d30a270e01"
      },
      "outputs": [
        {
          "name": "stdout",
          "output_type": "stream",
          "text": [
            "Precision: 0.997\n",
            "Recall: 1.000\n",
            "Accuracy: 0.999 (0.001)\n",
            "Train score 0.9977495442114859\n",
            "Test score 0.9966329966329966\n"
          ]
        }
      ],
      "source": [
        "stacking_clf = stacking()\n",
        "stacking_clf.fit(X_ros, y_ros)\n",
        "scores = cross_val_score(stacking_clf, X_ros, y_ros, scoring='accuracy', cv=kfold, n_jobs=-1)\n",
        "print('Precision: %.3f' % mean(cross_val_score(stacking_clf, X_ros, y_ros, scoring='precision', cv=kfold, n_jobs=-1)))\n",
        "print('Recall: %.3f' % mean(cross_val_score(stacking_clf, X_ros, y_ros, scoring='recall', cv=kfold, n_jobs=-1)))\n",
        "print('Accuracy: %.3f (%.3f)' % (mean(scores), std(scores)))    \n",
        "st_y_train_pred = knn_model.predict(X_ros)\n",
        "st_y_test_pred = knn_model.predict(test_X)\n",
        "print(f'Train score {accuracy_score(st_y_train_pred,y_ros)}')\n",
        "print(f'Test score {accuracy_score(st_y_test_pred,test_Y)}')"
      ]
    },
    {
      "cell_type": "code",
      "execution_count": null,
      "metadata": {
        "id": "oMWm32h-ZKQ0",
        "outputId": "0fdd7444-81b3-4db1-d97e-344f7dd0e05a"
      },
      "outputs": [
        {
          "data": {
            "text/html": [
              "<div>\n",
              "<style scoped>\n",
              "    .dataframe tbody tr th:only-of-type {\n",
              "        vertical-align: middle;\n",
              "    }\n",
              "\n",
              "    .dataframe tbody tr th {\n",
              "        vertical-align: top;\n",
              "    }\n",
              "\n",
              "    .dataframe thead th {\n",
              "        text-align: right;\n",
              "    }\n",
              "</style>\n",
              "<table border=\"1\" class=\"dataframe\">\n",
              "  <thead>\n",
              "    <tr style=\"text-align: right;\">\n",
              "      <th></th>\n",
              "      <th>prediction</th>\n",
              "      <th>actual</th>\n",
              "    </tr>\n",
              "  </thead>\n",
              "  <tbody>\n",
              "    <tr>\n",
              "      <th>810</th>\n",
              "      <td>1</td>\n",
              "      <td>1</td>\n",
              "    </tr>\n",
              "    <tr>\n",
              "      <th>811</th>\n",
              "      <td>1</td>\n",
              "      <td>1</td>\n",
              "    </tr>\n",
              "    <tr>\n",
              "      <th>1261</th>\n",
              "      <td>1</td>\n",
              "      <td>1</td>\n",
              "    </tr>\n",
              "    <tr>\n",
              "      <th>1262</th>\n",
              "      <td>1</td>\n",
              "      <td>1</td>\n",
              "    </tr>\n",
              "  </tbody>\n",
              "</table>\n",
              "</div>"
            ],
            "text/plain": [
              "      prediction  actual\n",
              "810            1       1\n",
              "811            1       1\n",
              "1261           1       1\n",
              "1262           1       1"
            ]
          },
          "execution_count": 108,
          "metadata": {},
          "output_type": "execute_result"
        }
      ],
      "source": [
        "st_df = pd.DataFrame([st_y_test_pred, test_Y]).T\n",
        "st_df.columns = ['prediction', 'actual']\n",
        "st_df['prediction'] = st_df['prediction'].astype(int)\n",
        "st_df['actual'] = st_df['actual'].astype(int)\n",
        "st_df.loc[(st_df['prediction']==1)&(st_df['actual']==1)]"
      ]
    },
    {
      "cell_type": "code",
      "execution_count": null,
      "metadata": {
        "id": "G4aBoYaKZKQ0",
        "outputId": "837bf8e3-363d-4e21-e545-09cb85ce4e78"
      },
      "outputs": [
        {
          "data": {
            "text/plain": [
              "6"
            ]
          },
          "execution_count": 111,
          "metadata": {},
          "output_type": "execute_result"
        }
      ],
      "source": [
        "st_df.loc[st_df.actual==1].shape[0]"
      ]
    },
    {
      "cell_type": "markdown",
      "metadata": {
        "id": "Jrg1uJM2ZKQ0"
      },
      "source": [
        "### Random over-sampling"
      ]
    },
    {
      "cell_type": "code",
      "execution_count": null,
      "metadata": {
        "id": "zUdM_VEAZKQ0"
      },
      "outputs": [],
      "source": [
        "ros = RandomOverSampler()\n",
        "X_ros, y_ros = ros.fit_resample(X, y)"
      ]
    },
    {
      "cell_type": "code",
      "execution_count": null,
      "metadata": {
        "id": "nmbM0VieZKQ0",
        "outputId": "76a2a103-134e-47a3-8788-c8245b04e156"
      },
      "outputs": [
        {
          "name": "stdout",
          "output_type": "stream",
          "text": [
            "Model: Decision Tree\n",
            "Accuracy: 0.845 (0.005)\n",
            "Recall: 0.869 (0.005)\n",
            "Precision: 0.830 (0.009) \n",
            "\n",
            "Model: Logistic Regression\n",
            "Accuracy: 0.838 (0.004)\n",
            "Recall: 0.835 (0.005)\n",
            "Precision: 0.841 (0.006) \n",
            "\n",
            "Model: KNN\n",
            "Accuracy: 0.998 (0.000)\n",
            "Recall: 1.000 (0.000)\n",
            "Precision: 0.996 (0.001) \n",
            "\n",
            "Model: Naive Bayes\n",
            "Accuracy: 0.700 (0.009)\n",
            "Recall: 0.969 (0.004)\n",
            "Precision: 0.630 (0.010) \n",
            "\n",
            "Model: Stacking\n",
            "Accuracy: 0.999 (0.001)\n",
            "Recall: 1.000 (0.000)\n",
            "Precision: 0.997 (0.001) \n",
            "\n"
          ]
        }
      ],
      "source": [
        "models = get_models()\n",
        "results, names = list(), list()\n",
        "for name, model in models.items():\n",
        "    acc, pre, rec = evaluate(model, X_ros, y_ros)\n",
        "    names.append(names)\n",
        "    print('Model: %s' % (name))\n",
        "    print('Accuracy: %.3f (%.3f)' % (mean(acc), std(acc)))\n",
        "    print('Recall: %.3f (%.3f)' % (mean(rec), std(rec)))\n",
        "    print('Precision: %.3f (%.3f) \\n' % (mean(pre), std(pre)))"
      ]
    }
  ],
  "metadata": {
    "kernelspec": {
      "display_name": "Python 3",
      "language": "python",
      "name": "python3"
    },
    "language_info": {
      "codemirror_mode": {
        "name": "ipython",
        "version": 3
      },
      "file_extension": ".py",
      "mimetype": "text/x-python",
      "name": "python",
      "nbconvert_exporter": "python",
      "pygments_lexer": "ipython3",
      "version": "3.8.9"
    },
    "colab": {
      "name": "ml-models.ipynb",
      "provenance": []
    }
  },
  "nbformat": 4,
  "nbformat_minor": 0
}
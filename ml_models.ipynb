{
  "cells": [
    {
      "cell_type": "markdown",
      "metadata": {
        "id": "oOL6GRqjZKQg"
      },
      "source": [
        "## Prerequisites"
      ]
    },
    {
      "cell_type": "code",
      "execution_count": 1,
      "metadata": {
        "_cell_guid": "b1076dfc-b9ad-4769-8c92-a6c4dae69d19",
        "_uuid": "8f2839f25d086af736a60e9eeb907d3b93b6e0e5",
        "trusted": true,
        "id": "w4penPvwZKQk"
      },
      "outputs": [],
      "source": [
        "# Basic imports\n",
        "import warnings\n",
        "import numpy as np\n",
        "import pandas as pd\n",
        "from numpy import mean, std\n",
        "from matplotlib import pyplot as plt\n",
        "from sklearn.exceptions import ConvergenceWarning\n",
        "from sklearn.utils._testing import ignore_warnings\n",
        "\n",
        "# Feature selection\n",
        "from sklearn.feature_selection import SequentialFeatureSelector as SFS\n",
        "from sklearn.feature_selection import RFE\n",
        "\n",
        "# Data preprocessing\n",
        "from sklearn.preprocessing import LabelEncoder\n",
        "from sklearn.model_selection import RepeatedStratifiedKFold\n",
        "from imblearn.over_sampling  import RandomOverSampler\n",
        "\n",
        "# Performance metrics\n",
        "from sklearn.metrics import accuracy_score, f1_score, precision_score, recall_score\n",
        "from sklearn.model_selection import cross_val_score\n",
        "from sklearn.metrics import log_loss\n",
        "from sklearn.pipeline import Pipeline\n",
        "from sklearn.metrics import ConfusionMatrixDisplay as CMD\n",
        "from sklearn.metrics import roc_curve\n",
        "\n",
        "#ML models\n",
        "from sklearn.tree import DecisionTreeClassifier\n",
        "from sklearn.linear_model import LogisticRegression\n",
        "from sklearn.neighbors import KNeighborsClassifier as KNN\n",
        "from sklearn.naive_bayes import GaussianNB\n",
        "import xgboost as xgb\n",
        "\n",
        "# Ensemble techniques\n",
        "from sklearn.ensemble import StackingClassifier"
      ]
    },
    {
      "cell_type": "markdown",
      "metadata": {
        "id": "RWGjqkbAZKQm"
      },
      "source": [
        "### Selecting the dataset"
      ]
    },
    {
      "cell_type": "code",
      "execution_count": null,
      "metadata": {
        "id": "gcpITtxeZKQn"
      },
      "outputs": [],
      "source": [
        "ds = [\"./datasets/tomcat-final.csv\",\"./datasets/struts-final.csv\"]"
      ]
    },
    {
      "cell_type": "markdown",
      "source": [
        "To run models locally in Jupyter notebook:\n",
        "* Uncomment the first line of code in this block.\n",
        "* Comment the second line of code.\n",
        "* Choose 1 for struts2-core dataset, 0 for tomcat dataset."
      ],
      "metadata": {
        "id": "vvPNxJJnv8xG"
      }
    },
    {
      "cell_type": "code",
      "execution_count": 2,
      "metadata": {
        "trusted": true,
        "id": "ogakeOwjZKQo"
      },
      "outputs": [],
      "source": [
        "df = pd.read_csv(ds[1])\n",
        "#df = pd.read_csv('./struts-final.csv')\n",
        "np.set_printoptions(threshold=np.inf)\n",
        "pd.set_option('max_columns',None)"
      ]
    },
    {
      "cell_type": "code",
      "execution_count": 3,
      "metadata": {
        "id": "IYFuLG1-ZKQo",
        "colab": {
          "base_uri": "https://localhost:8080/",
          "height": 488
        },
        "outputId": "1773d077-a742-441d-facd-226f3210d897"
      },
      "outputs": [
        {
          "output_type": "execute_result",
          "data": {
            "text/plain": [
              "                                                    file   type  cbo  \\\n",
              "0      core/src/main/java/org/apache/struts2/views/fr...  class    5   \n",
              "1      core/src/test/java/org/apache/struts2/views/js...  class    3   \n",
              "2      plugins/cdi/src/test/java/org/apache/struts2/c...  class    8   \n",
              "3      apps/portlet/src/test/java/JettyPlutoLauncher....  class    4   \n",
              "4      plugins/codebehind/src/test/java/org/apache/st...  class    1   \n",
              "...                                                  ...    ...  ...   \n",
              "19367  plugins/convention/src/test/java/org/apache/st...  class    0   \n",
              "19368  core/src/main/java/com/opensymphony/xwork2/Act...  class   14   \n",
              "19369  apps/showcase/src/test/java/it/org/apache/stru...  class    2   \n",
              "19370  core/src/main/java/org/apache/struts2/views/xs...  class    2   \n",
              "19371  core/src/main/java/com/opensymphony/xwork2/Def...  class    8   \n",
              "\n",
              "       cboModified  fanin  fanout  wmc  dit  noc  rfc  lcom     lcom*  \\\n",
              "0                7      2       5   14    1    0   16     0  0.583333   \n",
              "1                3      0       3    4    4    0   14     6  0.000000   \n",
              "2                8      0       8    4    1    0   12     6  0.000000   \n",
              "3                4      0       4    1    1    0    7     0  0.000000   \n",
              "4                1      0       1    0    1    0    0     0  0.000000   \n",
              "...            ...    ...     ...  ...  ...  ...  ...   ...       ...   \n",
              "19367            1      1       0    1    1    0    0     0  0.000000   \n",
              "19368           33     19      14   49    1   19   56   585  0.883721   \n",
              "19369           13     11       2    1    2   11    3     0  0.000000   \n",
              "19370            3      1       2    4    1    0    8     0  0.166667   \n",
              "19371           11      3       8   10    1    1    7    39  0.700000   \n",
              "\n",
              "            tcc  lcc  totalMethodsQty  staticMethodsQty  publicMethodsQty  \\\n",
              "0      0.607143  1.0                8                 0                 8   \n",
              "1      0.000000  0.0                4                 0                 4   \n",
              "2      0.000000  0.0                4                 0                 4   \n",
              "3      0.000000  0.0                1                 1                 1   \n",
              "4     -1.000000 -1.0                0                 0                 0   \n",
              "...         ...  ...              ...               ...               ...   \n",
              "19367  0.000000  0.0                1                 0                 1   \n",
              "19368  0.000000  0.0               43                 0                40   \n",
              "19369  0.000000  0.0                1                 0                 1   \n",
              "19370  0.000000  0.0                2                 0                 2   \n",
              "19371  0.000000  0.0               10                 0                 9   \n",
              "\n",
              "       privateMethodsQty  protectedMethodsQty  defaultMethodsQty  \\\n",
              "0                      0                    0                  0   \n",
              "1                      0                    0                  0   \n",
              "2                      0                    0                  0   \n",
              "3                      0                    0                  0   \n",
              "4                      0                    0                  0   \n",
              "...                  ...                  ...                ...   \n",
              "19367                  0                    0                  0   \n",
              "19368                  0                    3                  0   \n",
              "19369                  0                    0                  0   \n",
              "19370                  0                    0                  0   \n",
              "19371                  0                    1                  0   \n",
              "\n",
              "       visibleMethodsQty  abstractMethodsQty  finalMethodsQty  \\\n",
              "0                      8                   0                0   \n",
              "1                      4                   0                0   \n",
              "2                      4                   0                0   \n",
              "3                      1                   0                0   \n",
              "4                      0                   0                0   \n",
              "...                  ...                 ...              ...   \n",
              "19367                  1                   0                0   \n",
              "19368                 43                   0                0   \n",
              "19369                  1                   0                0   \n",
              "19370                  2                   0                0   \n",
              "19371                 10                   0                0   \n",
              "\n",
              "       synchronizedMethodsQty  totalFieldsQty  staticFieldsQty  \\\n",
              "0                           0               3                0   \n",
              "1                           0               0                0   \n",
              "2                           0               0                0   \n",
              "3                           0               0                0   \n",
              "4                           0               0                0   \n",
              "...                       ...             ...              ...   \n",
              "19367                       0               0                0   \n",
              "19368                       0               5                1   \n",
              "19369                       0               0                0   \n",
              "19370                       0               3                1   \n",
              "19371                       0               1                0   \n",
              "\n",
              "       publicFieldsQty  privateFieldsQty  protectedFieldsQty  \\\n",
              "0                    0                 3                   0   \n",
              "1                    0                 0                   0   \n",
              "2                    0                 0                   0   \n",
              "3                    0                 0                   0   \n",
              "4                    0                 0                   0   \n",
              "...                ...               ...                 ...   \n",
              "19367                0                 0                   0   \n",
              "19368                0                 4                   1   \n",
              "19369                0                 0                   0   \n",
              "19370                0                 2                   0   \n",
              "19371                0                 0                   1   \n",
              "\n",
              "       defaultFieldsQty  finalFieldsQty  synchronizedFieldsQty  nosi  loc  \\\n",
              "0                     0               0                      0     0   50   \n",
              "1                     0               0                      0     2   53   \n",
              "2                     0               0                      0     0   25   \n",
              "3                     0               0                      0     1   14   \n",
              "4                     0               0                      0     0    2   \n",
              "...                 ...             ...                    ...   ...  ...   \n",
              "19367                 0               0                      0     0    5   \n",
              "19368                 0               2                      0     5  168   \n",
              "19369                 0               0                      0     1    5   \n",
              "19370                 1               1                      0     0   22   \n",
              "19371                 0               0                      0     0   38   \n",
              "\n",
              "       returnQty  loopQty  comparisonsQty  tryCatchQty  parenthesizedExpsQty  \\\n",
              "0              8        1               3            0                     1   \n",
              "1              0        0               0            0                     0   \n",
              "2              0        0               0            0                     0   \n",
              "3              0        0               0            0                     0   \n",
              "4              0        0               0            0                     0   \n",
              "...          ...      ...             ...          ...                   ...   \n",
              "19367          1        0               0            0                     0   \n",
              "19368         30        0               4            0                     0   \n",
              "19369          0        0               0            0                     0   \n",
              "19370          1        0               1            0                     0   \n",
              "19371          8        0               0            0                     0   \n",
              "\n",
              "       stringLiteralsQty  numbersQty  assignmentsQty  mathOperationsQty  \\\n",
              "0                      5           7              10                  4   \n",
              "1                     11           6              12                  0   \n",
              "2                      0           1               7                  0   \n",
              "3                      8           2               3                  0   \n",
              "4                      1           0               0                  0   \n",
              "...                  ...         ...             ...                ...   \n",
              "19367                  0           0               0                  0   \n",
              "19368                  3           1              15                  0   \n",
              "19369                  0           0               0                  0   \n",
              "19370                  7           0               5                  2   \n",
              "19371                  0           0               3                  0   \n",
              "\n",
              "       variablesQty  maxNestedBlocksQty  anonymousClassesQty  innerClassesQty  \\\n",
              "0                10                   2                    0                0   \n",
              "1                12                   0                    0                0   \n",
              "2                 7                   0                    0                0   \n",
              "3                 3                   0                    0                0   \n",
              "4                 0                   0                    0                0   \n",
              "...             ...                 ...                  ...              ...   \n",
              "19367             0                   0                    0                0   \n",
              "19368            14                   3                    0                0   \n",
              "19369             0                   0                    0                0   \n",
              "19370             5                   2                    0                0   \n",
              "19371             3                   0                    0                0   \n",
              "\n",
              "       lambdasQty  uniqueWordsQty  modifiers  logStatementsQty title severity  \\\n",
              "0               0              50          1                 0     0        0   \n",
              "1               0              26          1                 0     0        0   \n",
              "2               0              35          1                 0     0        0   \n",
              "3               0              26          1                 0     0        0   \n",
              "4               0               4          1                 0     0        0   \n",
              "...           ...             ...        ...               ...   ...      ...   \n",
              "19367           0              16          1                 0     0        0   \n",
              "19368           0             194          1                 3     0        0   \n",
              "19369           0              11       1025                 0     0        0   \n",
              "19370           0              58          1                 3     0        0   \n",
              "19371           0              22          1                 0     0        0   \n",
              "\n",
              "       vulnerable version  \n",
              "0             0.0  2.3.20  \n",
              "1             0.0  2.3.20  \n",
              "2             0.0  2.3.20  \n",
              "3             0.0  2.3.20  \n",
              "4             0.0  2.3.20  \n",
              "...           ...     ...  \n",
              "19367         0.0  2.5.26  \n",
              "19368         0.0  2.5.26  \n",
              "19369         0.0  2.5.26  \n",
              "19370         0.0  2.5.26  \n",
              "19371         0.0  2.5.26  \n",
              "\n",
              "[19372 rows x 55 columns]"
            ],
            "text/html": [
              "\n",
              "  <div id=\"df-2f941b51-7f75-418f-a49c-f797db5aa658\">\n",
              "    <div class=\"colab-df-container\">\n",
              "      <div>\n",
              "<style scoped>\n",
              "    .dataframe tbody tr th:only-of-type {\n",
              "        vertical-align: middle;\n",
              "    }\n",
              "\n",
              "    .dataframe tbody tr th {\n",
              "        vertical-align: top;\n",
              "    }\n",
              "\n",
              "    .dataframe thead th {\n",
              "        text-align: right;\n",
              "    }\n",
              "</style>\n",
              "<table border=\"1\" class=\"dataframe\">\n",
              "  <thead>\n",
              "    <tr style=\"text-align: right;\">\n",
              "      <th></th>\n",
              "      <th>file</th>\n",
              "      <th>type</th>\n",
              "      <th>cbo</th>\n",
              "      <th>cboModified</th>\n",
              "      <th>fanin</th>\n",
              "      <th>fanout</th>\n",
              "      <th>wmc</th>\n",
              "      <th>dit</th>\n",
              "      <th>noc</th>\n",
              "      <th>rfc</th>\n",
              "      <th>lcom</th>\n",
              "      <th>lcom*</th>\n",
              "      <th>tcc</th>\n",
              "      <th>lcc</th>\n",
              "      <th>totalMethodsQty</th>\n",
              "      <th>staticMethodsQty</th>\n",
              "      <th>publicMethodsQty</th>\n",
              "      <th>privateMethodsQty</th>\n",
              "      <th>protectedMethodsQty</th>\n",
              "      <th>defaultMethodsQty</th>\n",
              "      <th>visibleMethodsQty</th>\n",
              "      <th>abstractMethodsQty</th>\n",
              "      <th>finalMethodsQty</th>\n",
              "      <th>synchronizedMethodsQty</th>\n",
              "      <th>totalFieldsQty</th>\n",
              "      <th>staticFieldsQty</th>\n",
              "      <th>publicFieldsQty</th>\n",
              "      <th>privateFieldsQty</th>\n",
              "      <th>protectedFieldsQty</th>\n",
              "      <th>defaultFieldsQty</th>\n",
              "      <th>finalFieldsQty</th>\n",
              "      <th>synchronizedFieldsQty</th>\n",
              "      <th>nosi</th>\n",
              "      <th>loc</th>\n",
              "      <th>returnQty</th>\n",
              "      <th>loopQty</th>\n",
              "      <th>comparisonsQty</th>\n",
              "      <th>tryCatchQty</th>\n",
              "      <th>parenthesizedExpsQty</th>\n",
              "      <th>stringLiteralsQty</th>\n",
              "      <th>numbersQty</th>\n",
              "      <th>assignmentsQty</th>\n",
              "      <th>mathOperationsQty</th>\n",
              "      <th>variablesQty</th>\n",
              "      <th>maxNestedBlocksQty</th>\n",
              "      <th>anonymousClassesQty</th>\n",
              "      <th>innerClassesQty</th>\n",
              "      <th>lambdasQty</th>\n",
              "      <th>uniqueWordsQty</th>\n",
              "      <th>modifiers</th>\n",
              "      <th>logStatementsQty</th>\n",
              "      <th>title</th>\n",
              "      <th>severity</th>\n",
              "      <th>vulnerable</th>\n",
              "      <th>version</th>\n",
              "    </tr>\n",
              "  </thead>\n",
              "  <tbody>\n",
              "    <tr>\n",
              "      <th>0</th>\n",
              "      <td>core/src/main/java/org/apache/struts2/views/fr...</td>\n",
              "      <td>class</td>\n",
              "      <td>5</td>\n",
              "      <td>7</td>\n",
              "      <td>2</td>\n",
              "      <td>5</td>\n",
              "      <td>14</td>\n",
              "      <td>1</td>\n",
              "      <td>0</td>\n",
              "      <td>16</td>\n",
              "      <td>0</td>\n",
              "      <td>0.583333</td>\n",
              "      <td>0.607143</td>\n",
              "      <td>1.0</td>\n",
              "      <td>8</td>\n",
              "      <td>0</td>\n",
              "      <td>8</td>\n",
              "      <td>0</td>\n",
              "      <td>0</td>\n",
              "      <td>0</td>\n",
              "      <td>8</td>\n",
              "      <td>0</td>\n",
              "      <td>0</td>\n",
              "      <td>0</td>\n",
              "      <td>3</td>\n",
              "      <td>0</td>\n",
              "      <td>0</td>\n",
              "      <td>3</td>\n",
              "      <td>0</td>\n",
              "      <td>0</td>\n",
              "      <td>0</td>\n",
              "      <td>0</td>\n",
              "      <td>0</td>\n",
              "      <td>50</td>\n",
              "      <td>8</td>\n",
              "      <td>1</td>\n",
              "      <td>3</td>\n",
              "      <td>0</td>\n",
              "      <td>1</td>\n",
              "      <td>5</td>\n",
              "      <td>7</td>\n",
              "      <td>10</td>\n",
              "      <td>4</td>\n",
              "      <td>10</td>\n",
              "      <td>2</td>\n",
              "      <td>0</td>\n",
              "      <td>0</td>\n",
              "      <td>0</td>\n",
              "      <td>50</td>\n",
              "      <td>1</td>\n",
              "      <td>0</td>\n",
              "      <td>0</td>\n",
              "      <td>0</td>\n",
              "      <td>0.0</td>\n",
              "      <td>2.3.20</td>\n",
              "    </tr>\n",
              "    <tr>\n",
              "      <th>1</th>\n",
              "      <td>core/src/test/java/org/apache/struts2/views/js...</td>\n",
              "      <td>class</td>\n",
              "      <td>3</td>\n",
              "      <td>3</td>\n",
              "      <td>0</td>\n",
              "      <td>3</td>\n",
              "      <td>4</td>\n",
              "      <td>4</td>\n",
              "      <td>0</td>\n",
              "      <td>14</td>\n",
              "      <td>6</td>\n",
              "      <td>0.000000</td>\n",
              "      <td>0.000000</td>\n",
              "      <td>0.0</td>\n",
              "      <td>4</td>\n",
              "      <td>0</td>\n",
              "      <td>4</td>\n",
              "      <td>0</td>\n",
              "      <td>0</td>\n",
              "      <td>0</td>\n",
              "      <td>4</td>\n",
              "      <td>0</td>\n",
              "      <td>0</td>\n",
              "      <td>0</td>\n",
              "      <td>0</td>\n",
              "      <td>0</td>\n",
              "      <td>0</td>\n",
              "      <td>0</td>\n",
              "      <td>0</td>\n",
              "      <td>0</td>\n",
              "      <td>0</td>\n",
              "      <td>0</td>\n",
              "      <td>2</td>\n",
              "      <td>53</td>\n",
              "      <td>0</td>\n",
              "      <td>0</td>\n",
              "      <td>0</td>\n",
              "      <td>0</td>\n",
              "      <td>0</td>\n",
              "      <td>11</td>\n",
              "      <td>6</td>\n",
              "      <td>12</td>\n",
              "      <td>0</td>\n",
              "      <td>12</td>\n",
              "      <td>0</td>\n",
              "      <td>0</td>\n",
              "      <td>0</td>\n",
              "      <td>0</td>\n",
              "      <td>26</td>\n",
              "      <td>1</td>\n",
              "      <td>0</td>\n",
              "      <td>0</td>\n",
              "      <td>0</td>\n",
              "      <td>0.0</td>\n",
              "      <td>2.3.20</td>\n",
              "    </tr>\n",
              "    <tr>\n",
              "      <th>2</th>\n",
              "      <td>plugins/cdi/src/test/java/org/apache/struts2/c...</td>\n",
              "      <td>class</td>\n",
              "      <td>8</td>\n",
              "      <td>8</td>\n",
              "      <td>0</td>\n",
              "      <td>8</td>\n",
              "      <td>4</td>\n",
              "      <td>1</td>\n",
              "      <td>0</td>\n",
              "      <td>12</td>\n",
              "      <td>6</td>\n",
              "      <td>0.000000</td>\n",
              "      <td>0.000000</td>\n",
              "      <td>0.0</td>\n",
              "      <td>4</td>\n",
              "      <td>0</td>\n",
              "      <td>4</td>\n",
              "      <td>0</td>\n",
              "      <td>0</td>\n",
              "      <td>0</td>\n",
              "      <td>4</td>\n",
              "      <td>0</td>\n",
              "      <td>0</td>\n",
              "      <td>0</td>\n",
              "      <td>0</td>\n",
              "      <td>0</td>\n",
              "      <td>0</td>\n",
              "      <td>0</td>\n",
              "      <td>0</td>\n",
              "      <td>0</td>\n",
              "      <td>0</td>\n",
              "      <td>0</td>\n",
              "      <td>0</td>\n",
              "      <td>25</td>\n",
              "      <td>0</td>\n",
              "      <td>0</td>\n",
              "      <td>0</td>\n",
              "      <td>0</td>\n",
              "      <td>0</td>\n",
              "      <td>0</td>\n",
              "      <td>1</td>\n",
              "      <td>7</td>\n",
              "      <td>0</td>\n",
              "      <td>7</td>\n",
              "      <td>0</td>\n",
              "      <td>0</td>\n",
              "      <td>0</td>\n",
              "      <td>0</td>\n",
              "      <td>35</td>\n",
              "      <td>1</td>\n",
              "      <td>0</td>\n",
              "      <td>0</td>\n",
              "      <td>0</td>\n",
              "      <td>0.0</td>\n",
              "      <td>2.3.20</td>\n",
              "    </tr>\n",
              "    <tr>\n",
              "      <th>3</th>\n",
              "      <td>apps/portlet/src/test/java/JettyPlutoLauncher....</td>\n",
              "      <td>class</td>\n",
              "      <td>4</td>\n",
              "      <td>4</td>\n",
              "      <td>0</td>\n",
              "      <td>4</td>\n",
              "      <td>1</td>\n",
              "      <td>1</td>\n",
              "      <td>0</td>\n",
              "      <td>7</td>\n",
              "      <td>0</td>\n",
              "      <td>0.000000</td>\n",
              "      <td>0.000000</td>\n",
              "      <td>0.0</td>\n",
              "      <td>1</td>\n",
              "      <td>1</td>\n",
              "      <td>1</td>\n",
              "      <td>0</td>\n",
              "      <td>0</td>\n",
              "      <td>0</td>\n",
              "      <td>1</td>\n",
              "      <td>0</td>\n",
              "      <td>0</td>\n",
              "      <td>0</td>\n",
              "      <td>0</td>\n",
              "      <td>0</td>\n",
              "      <td>0</td>\n",
              "      <td>0</td>\n",
              "      <td>0</td>\n",
              "      <td>0</td>\n",
              "      <td>0</td>\n",
              "      <td>0</td>\n",
              "      <td>1</td>\n",
              "      <td>14</td>\n",
              "      <td>0</td>\n",
              "      <td>0</td>\n",
              "      <td>0</td>\n",
              "      <td>0</td>\n",
              "      <td>0</td>\n",
              "      <td>8</td>\n",
              "      <td>2</td>\n",
              "      <td>3</td>\n",
              "      <td>0</td>\n",
              "      <td>3</td>\n",
              "      <td>0</td>\n",
              "      <td>0</td>\n",
              "      <td>0</td>\n",
              "      <td>0</td>\n",
              "      <td>26</td>\n",
              "      <td>1</td>\n",
              "      <td>0</td>\n",
              "      <td>0</td>\n",
              "      <td>0</td>\n",
              "      <td>0.0</td>\n",
              "      <td>2.3.20</td>\n",
              "    </tr>\n",
              "    <tr>\n",
              "      <th>4</th>\n",
              "      <td>plugins/codebehind/src/test/java/org/apache/st...</td>\n",
              "      <td>class</td>\n",
              "      <td>1</td>\n",
              "      <td>1</td>\n",
              "      <td>0</td>\n",
              "      <td>1</td>\n",
              "      <td>0</td>\n",
              "      <td>1</td>\n",
              "      <td>0</td>\n",
              "      <td>0</td>\n",
              "      <td>0</td>\n",
              "      <td>0.000000</td>\n",
              "      <td>-1.000000</td>\n",
              "      <td>-1.0</td>\n",
              "      <td>0</td>\n",
              "      <td>0</td>\n",
              "      <td>0</td>\n",
              "      <td>0</td>\n",
              "      <td>0</td>\n",
              "      <td>0</td>\n",
              "      <td>0</td>\n",
              "      <td>0</td>\n",
              "      <td>0</td>\n",
              "      <td>0</td>\n",
              "      <td>0</td>\n",
              "      <td>0</td>\n",
              "      <td>0</td>\n",
              "      <td>0</td>\n",
              "      <td>0</td>\n",
              "      <td>0</td>\n",
              "      <td>0</td>\n",
              "      <td>0</td>\n",
              "      <td>0</td>\n",
              "      <td>2</td>\n",
              "      <td>0</td>\n",
              "      <td>0</td>\n",
              "      <td>0</td>\n",
              "      <td>0</td>\n",
              "      <td>0</td>\n",
              "      <td>1</td>\n",
              "      <td>0</td>\n",
              "      <td>0</td>\n",
              "      <td>0</td>\n",
              "      <td>0</td>\n",
              "      <td>0</td>\n",
              "      <td>0</td>\n",
              "      <td>0</td>\n",
              "      <td>0</td>\n",
              "      <td>4</td>\n",
              "      <td>1</td>\n",
              "      <td>0</td>\n",
              "      <td>0</td>\n",
              "      <td>0</td>\n",
              "      <td>0.0</td>\n",
              "      <td>2.3.20</td>\n",
              "    </tr>\n",
              "    <tr>\n",
              "      <th>...</th>\n",
              "      <td>...</td>\n",
              "      <td>...</td>\n",
              "      <td>...</td>\n",
              "      <td>...</td>\n",
              "      <td>...</td>\n",
              "      <td>...</td>\n",
              "      <td>...</td>\n",
              "      <td>...</td>\n",
              "      <td>...</td>\n",
              "      <td>...</td>\n",
              "      <td>...</td>\n",
              "      <td>...</td>\n",
              "      <td>...</td>\n",
              "      <td>...</td>\n",
              "      <td>...</td>\n",
              "      <td>...</td>\n",
              "      <td>...</td>\n",
              "      <td>...</td>\n",
              "      <td>...</td>\n",
              "      <td>...</td>\n",
              "      <td>...</td>\n",
              "      <td>...</td>\n",
              "      <td>...</td>\n",
              "      <td>...</td>\n",
              "      <td>...</td>\n",
              "      <td>...</td>\n",
              "      <td>...</td>\n",
              "      <td>...</td>\n",
              "      <td>...</td>\n",
              "      <td>...</td>\n",
              "      <td>...</td>\n",
              "      <td>...</td>\n",
              "      <td>...</td>\n",
              "      <td>...</td>\n",
              "      <td>...</td>\n",
              "      <td>...</td>\n",
              "      <td>...</td>\n",
              "      <td>...</td>\n",
              "      <td>...</td>\n",
              "      <td>...</td>\n",
              "      <td>...</td>\n",
              "      <td>...</td>\n",
              "      <td>...</td>\n",
              "      <td>...</td>\n",
              "      <td>...</td>\n",
              "      <td>...</td>\n",
              "      <td>...</td>\n",
              "      <td>...</td>\n",
              "      <td>...</td>\n",
              "      <td>...</td>\n",
              "      <td>...</td>\n",
              "      <td>...</td>\n",
              "      <td>...</td>\n",
              "      <td>...</td>\n",
              "      <td>...</td>\n",
              "    </tr>\n",
              "    <tr>\n",
              "      <th>19367</th>\n",
              "      <td>plugins/convention/src/test/java/org/apache/st...</td>\n",
              "      <td>class</td>\n",
              "      <td>0</td>\n",
              "      <td>1</td>\n",
              "      <td>1</td>\n",
              "      <td>0</td>\n",
              "      <td>1</td>\n",
              "      <td>1</td>\n",
              "      <td>0</td>\n",
              "      <td>0</td>\n",
              "      <td>0</td>\n",
              "      <td>0.000000</td>\n",
              "      <td>0.000000</td>\n",
              "      <td>0.0</td>\n",
              "      <td>1</td>\n",
              "      <td>0</td>\n",
              "      <td>1</td>\n",
              "      <td>0</td>\n",
              "      <td>0</td>\n",
              "      <td>0</td>\n",
              "      <td>1</td>\n",
              "      <td>0</td>\n",
              "      <td>0</td>\n",
              "      <td>0</td>\n",
              "      <td>0</td>\n",
              "      <td>0</td>\n",
              "      <td>0</td>\n",
              "      <td>0</td>\n",
              "      <td>0</td>\n",
              "      <td>0</td>\n",
              "      <td>0</td>\n",
              "      <td>0</td>\n",
              "      <td>0</td>\n",
              "      <td>5</td>\n",
              "      <td>1</td>\n",
              "      <td>0</td>\n",
              "      <td>0</td>\n",
              "      <td>0</td>\n",
              "      <td>0</td>\n",
              "      <td>0</td>\n",
              "      <td>0</td>\n",
              "      <td>0</td>\n",
              "      <td>0</td>\n",
              "      <td>0</td>\n",
              "      <td>0</td>\n",
              "      <td>0</td>\n",
              "      <td>0</td>\n",
              "      <td>0</td>\n",
              "      <td>16</td>\n",
              "      <td>1</td>\n",
              "      <td>0</td>\n",
              "      <td>0</td>\n",
              "      <td>0</td>\n",
              "      <td>0.0</td>\n",
              "      <td>2.5.26</td>\n",
              "    </tr>\n",
              "    <tr>\n",
              "      <th>19368</th>\n",
              "      <td>core/src/main/java/com/opensymphony/xwork2/Act...</td>\n",
              "      <td>class</td>\n",
              "      <td>14</td>\n",
              "      <td>33</td>\n",
              "      <td>19</td>\n",
              "      <td>14</td>\n",
              "      <td>49</td>\n",
              "      <td>1</td>\n",
              "      <td>19</td>\n",
              "      <td>56</td>\n",
              "      <td>585</td>\n",
              "      <td>0.883721</td>\n",
              "      <td>0.000000</td>\n",
              "      <td>0.0</td>\n",
              "      <td>43</td>\n",
              "      <td>0</td>\n",
              "      <td>40</td>\n",
              "      <td>0</td>\n",
              "      <td>3</td>\n",
              "      <td>0</td>\n",
              "      <td>43</td>\n",
              "      <td>0</td>\n",
              "      <td>0</td>\n",
              "      <td>0</td>\n",
              "      <td>5</td>\n",
              "      <td>1</td>\n",
              "      <td>0</td>\n",
              "      <td>4</td>\n",
              "      <td>1</td>\n",
              "      <td>0</td>\n",
              "      <td>2</td>\n",
              "      <td>0</td>\n",
              "      <td>5</td>\n",
              "      <td>168</td>\n",
              "      <td>30</td>\n",
              "      <td>0</td>\n",
              "      <td>4</td>\n",
              "      <td>0</td>\n",
              "      <td>0</td>\n",
              "      <td>3</td>\n",
              "      <td>1</td>\n",
              "      <td>15</td>\n",
              "      <td>0</td>\n",
              "      <td>14</td>\n",
              "      <td>3</td>\n",
              "      <td>0</td>\n",
              "      <td>0</td>\n",
              "      <td>0</td>\n",
              "      <td>194</td>\n",
              "      <td>1</td>\n",
              "      <td>3</td>\n",
              "      <td>0</td>\n",
              "      <td>0</td>\n",
              "      <td>0.0</td>\n",
              "      <td>2.5.26</td>\n",
              "    </tr>\n",
              "    <tr>\n",
              "      <th>19369</th>\n",
              "      <td>apps/showcase/src/test/java/it/org/apache/stru...</td>\n",
              "      <td>class</td>\n",
              "      <td>2</td>\n",
              "      <td>13</td>\n",
              "      <td>11</td>\n",
              "      <td>2</td>\n",
              "      <td>1</td>\n",
              "      <td>2</td>\n",
              "      <td>11</td>\n",
              "      <td>3</td>\n",
              "      <td>0</td>\n",
              "      <td>0.000000</td>\n",
              "      <td>0.000000</td>\n",
              "      <td>0.0</td>\n",
              "      <td>1</td>\n",
              "      <td>0</td>\n",
              "      <td>1</td>\n",
              "      <td>0</td>\n",
              "      <td>0</td>\n",
              "      <td>0</td>\n",
              "      <td>1</td>\n",
              "      <td>0</td>\n",
              "      <td>0</td>\n",
              "      <td>0</td>\n",
              "      <td>0</td>\n",
              "      <td>0</td>\n",
              "      <td>0</td>\n",
              "      <td>0</td>\n",
              "      <td>0</td>\n",
              "      <td>0</td>\n",
              "      <td>0</td>\n",
              "      <td>0</td>\n",
              "      <td>1</td>\n",
              "      <td>5</td>\n",
              "      <td>0</td>\n",
              "      <td>0</td>\n",
              "      <td>0</td>\n",
              "      <td>0</td>\n",
              "      <td>0</td>\n",
              "      <td>0</td>\n",
              "      <td>0</td>\n",
              "      <td>0</td>\n",
              "      <td>0</td>\n",
              "      <td>0</td>\n",
              "      <td>0</td>\n",
              "      <td>0</td>\n",
              "      <td>0</td>\n",
              "      <td>0</td>\n",
              "      <td>11</td>\n",
              "      <td>1025</td>\n",
              "      <td>0</td>\n",
              "      <td>0</td>\n",
              "      <td>0</td>\n",
              "      <td>0.0</td>\n",
              "      <td>2.5.26</td>\n",
              "    </tr>\n",
              "    <tr>\n",
              "      <th>19370</th>\n",
              "      <td>core/src/main/java/org/apache/struts2/views/xs...</td>\n",
              "      <td>class</td>\n",
              "      <td>2</td>\n",
              "      <td>3</td>\n",
              "      <td>1</td>\n",
              "      <td>2</td>\n",
              "      <td>4</td>\n",
              "      <td>1</td>\n",
              "      <td>0</td>\n",
              "      <td>8</td>\n",
              "      <td>0</td>\n",
              "      <td>0.166667</td>\n",
              "      <td>0.000000</td>\n",
              "      <td>0.0</td>\n",
              "      <td>2</td>\n",
              "      <td>0</td>\n",
              "      <td>2</td>\n",
              "      <td>0</td>\n",
              "      <td>0</td>\n",
              "      <td>0</td>\n",
              "      <td>2</td>\n",
              "      <td>0</td>\n",
              "      <td>0</td>\n",
              "      <td>0</td>\n",
              "      <td>3</td>\n",
              "      <td>1</td>\n",
              "      <td>0</td>\n",
              "      <td>2</td>\n",
              "      <td>0</td>\n",
              "      <td>1</td>\n",
              "      <td>1</td>\n",
              "      <td>0</td>\n",
              "      <td>0</td>\n",
              "      <td>22</td>\n",
              "      <td>1</td>\n",
              "      <td>0</td>\n",
              "      <td>1</td>\n",
              "      <td>0</td>\n",
              "      <td>0</td>\n",
              "      <td>7</td>\n",
              "      <td>0</td>\n",
              "      <td>5</td>\n",
              "      <td>2</td>\n",
              "      <td>5</td>\n",
              "      <td>2</td>\n",
              "      <td>0</td>\n",
              "      <td>0</td>\n",
              "      <td>0</td>\n",
              "      <td>58</td>\n",
              "      <td>1</td>\n",
              "      <td>3</td>\n",
              "      <td>0</td>\n",
              "      <td>0</td>\n",
              "      <td>0.0</td>\n",
              "      <td>2.5.26</td>\n",
              "    </tr>\n",
              "    <tr>\n",
              "      <th>19371</th>\n",
              "      <td>core/src/main/java/com/opensymphony/xwork2/Def...</td>\n",
              "      <td>class</td>\n",
              "      <td>8</td>\n",
              "      <td>11</td>\n",
              "      <td>3</td>\n",
              "      <td>8</td>\n",
              "      <td>10</td>\n",
              "      <td>1</td>\n",
              "      <td>1</td>\n",
              "      <td>7</td>\n",
              "      <td>39</td>\n",
              "      <td>0.700000</td>\n",
              "      <td>0.000000</td>\n",
              "      <td>0.0</td>\n",
              "      <td>10</td>\n",
              "      <td>0</td>\n",
              "      <td>9</td>\n",
              "      <td>0</td>\n",
              "      <td>1</td>\n",
              "      <td>0</td>\n",
              "      <td>10</td>\n",
              "      <td>0</td>\n",
              "      <td>0</td>\n",
              "      <td>0</td>\n",
              "      <td>1</td>\n",
              "      <td>0</td>\n",
              "      <td>0</td>\n",
              "      <td>0</td>\n",
              "      <td>1</td>\n",
              "      <td>0</td>\n",
              "      <td>0</td>\n",
              "      <td>0</td>\n",
              "      <td>0</td>\n",
              "      <td>38</td>\n",
              "      <td>8</td>\n",
              "      <td>0</td>\n",
              "      <td>0</td>\n",
              "      <td>0</td>\n",
              "      <td>0</td>\n",
              "      <td>0</td>\n",
              "      <td>0</td>\n",
              "      <td>3</td>\n",
              "      <td>0</td>\n",
              "      <td>3</td>\n",
              "      <td>0</td>\n",
              "      <td>0</td>\n",
              "      <td>0</td>\n",
              "      <td>0</td>\n",
              "      <td>22</td>\n",
              "      <td>1</td>\n",
              "      <td>0</td>\n",
              "      <td>0</td>\n",
              "      <td>0</td>\n",
              "      <td>0.0</td>\n",
              "      <td>2.5.26</td>\n",
              "    </tr>\n",
              "  </tbody>\n",
              "</table>\n",
              "<p>19372 rows × 55 columns</p>\n",
              "</div>\n",
              "      <button class=\"colab-df-convert\" onclick=\"convertToInteractive('df-2f941b51-7f75-418f-a49c-f797db5aa658')\"\n",
              "              title=\"Convert this dataframe to an interactive table.\"\n",
              "              style=\"display:none;\">\n",
              "        \n",
              "  <svg xmlns=\"http://www.w3.org/2000/svg\" height=\"24px\"viewBox=\"0 0 24 24\"\n",
              "       width=\"24px\">\n",
              "    <path d=\"M0 0h24v24H0V0z\" fill=\"none\"/>\n",
              "    <path d=\"M18.56 5.44l.94 2.06.94-2.06 2.06-.94-2.06-.94-.94-2.06-.94 2.06-2.06.94zm-11 1L8.5 8.5l.94-2.06 2.06-.94-2.06-.94L8.5 2.5l-.94 2.06-2.06.94zm10 10l.94 2.06.94-2.06 2.06-.94-2.06-.94-.94-2.06-.94 2.06-2.06.94z\"/><path d=\"M17.41 7.96l-1.37-1.37c-.4-.4-.92-.59-1.43-.59-.52 0-1.04.2-1.43.59L10.3 9.45l-7.72 7.72c-.78.78-.78 2.05 0 2.83L4 21.41c.39.39.9.59 1.41.59.51 0 1.02-.2 1.41-.59l7.78-7.78 2.81-2.81c.8-.78.8-2.07 0-2.86zM5.41 20L4 18.59l7.72-7.72 1.47 1.35L5.41 20z\"/>\n",
              "  </svg>\n",
              "      </button>\n",
              "      \n",
              "  <style>\n",
              "    .colab-df-container {\n",
              "      display:flex;\n",
              "      flex-wrap:wrap;\n",
              "      gap: 12px;\n",
              "    }\n",
              "\n",
              "    .colab-df-convert {\n",
              "      background-color: #E8F0FE;\n",
              "      border: none;\n",
              "      border-radius: 50%;\n",
              "      cursor: pointer;\n",
              "      display: none;\n",
              "      fill: #1967D2;\n",
              "      height: 32px;\n",
              "      padding: 0 0 0 0;\n",
              "      width: 32px;\n",
              "    }\n",
              "\n",
              "    .colab-df-convert:hover {\n",
              "      background-color: #E2EBFA;\n",
              "      box-shadow: 0px 1px 2px rgba(60, 64, 67, 0.3), 0px 1px 3px 1px rgba(60, 64, 67, 0.15);\n",
              "      fill: #174EA6;\n",
              "    }\n",
              "\n",
              "    [theme=dark] .colab-df-convert {\n",
              "      background-color: #3B4455;\n",
              "      fill: #D2E3FC;\n",
              "    }\n",
              "\n",
              "    [theme=dark] .colab-df-convert:hover {\n",
              "      background-color: #434B5C;\n",
              "      box-shadow: 0px 1px 3px 1px rgba(0, 0, 0, 0.15);\n",
              "      filter: drop-shadow(0px 1px 2px rgba(0, 0, 0, 0.3));\n",
              "      fill: #FFFFFF;\n",
              "    }\n",
              "  </style>\n",
              "\n",
              "      <script>\n",
              "        const buttonEl =\n",
              "          document.querySelector('#df-2f941b51-7f75-418f-a49c-f797db5aa658 button.colab-df-convert');\n",
              "        buttonEl.style.display =\n",
              "          google.colab.kernel.accessAllowed ? 'block' : 'none';\n",
              "\n",
              "        async function convertToInteractive(key) {\n",
              "          const element = document.querySelector('#df-2f941b51-7f75-418f-a49c-f797db5aa658');\n",
              "          const dataTable =\n",
              "            await google.colab.kernel.invokeFunction('convertToInteractive',\n",
              "                                                     [key], {});\n",
              "          if (!dataTable) return;\n",
              "\n",
              "          const docLinkHtml = 'Like what you see? Visit the ' +\n",
              "            '<a target=\"_blank\" href=https://colab.research.google.com/notebooks/data_table.ipynb>data table notebook</a>'\n",
              "            + ' to learn more about interactive tables.';\n",
              "          element.innerHTML = '';\n",
              "          dataTable['output_type'] = 'display_data';\n",
              "          await google.colab.output.renderOutput(dataTable, element);\n",
              "          const docLink = document.createElement('div');\n",
              "          docLink.innerHTML = docLinkHtml;\n",
              "          element.appendChild(docLink);\n",
              "        }\n",
              "      </script>\n",
              "    </div>\n",
              "  </div>\n",
              "  "
            ]
          },
          "metadata": {},
          "execution_count": 3
        }
      ],
      "source": [
        "df"
      ]
    },
    {
      "cell_type": "markdown",
      "metadata": {
        "id": "qPqFGx8-ZKQq"
      },
      "source": [
        "### Data preprocessing and cleanup"
      ]
    },
    {
      "cell_type": "code",
      "execution_count": 4,
      "metadata": {
        "id": "MX6JZPhgZKQr"
      },
      "outputs": [],
      "source": [
        "df.loc[df['title'].str.contains('Denial', case=False),'title'] = 'DoS'\n",
        "df.loc[df['title'].str.contains('CSRF', case=False),'title'] = 'CSRF'\n",
        "df.loc[df['title'].str.contains('information disclosure', case=False),'title'] = 'Information Disclosure'\n",
        "df.loc[df['title'].str.contains('cve-2020-9484', case=False),'title'] = 'Remote Code execution'\n",
        "df.loc[df['title'].str.contains('session hijacking', case=False),'title'] = 'Remote Code execution'\n",
        "df = df.drop_duplicates(keep='first').reset_index(drop=True)"
      ]
    },
    {
      "cell_type": "markdown",
      "metadata": {
        "id": "tmuhlEV2ZKQs"
      },
      "source": [
        "Unique severities (Debugging)"
      ]
    },
    {
      "cell_type": "code",
      "execution_count": null,
      "metadata": {
        "id": "4d3h-sUqZKQs",
        "colab": {
          "base_uri": "https://localhost:8080/"
        },
        "outputId": "60c35fa2-af3c-455d-8ee6-f533aa5461f4"
      },
      "outputs": [
        {
          "output_type": "execute_result",
          "data": {
            "text/plain": [
              "array(['0', 'high', 'critical', 'medium'], dtype=object)"
            ]
          },
          "metadata": {},
          "execution_count": 5
        }
      ],
      "source": [
        "df.severity.unique()"
      ]
    },
    {
      "cell_type": "code",
      "source": [
        "print(f'Total number of versions / releases: {len(df.version.unique())}')"
      ],
      "metadata": {
        "id": "urYMr3YMRPen",
        "outputId": "9b06029c-017a-495b-edc3-b02ecc9b1772",
        "colab": {
          "base_uri": "https://localhost:8080/"
        }
      },
      "execution_count": 5,
      "outputs": [
        {
          "output_type": "stream",
          "name": "stdout",
          "text": [
            "Total number of versions / releases: 11\n"
          ]
        }
      ]
    },
    {
      "cell_type": "code",
      "execution_count": 6,
      "metadata": {
        "colab": {
          "base_uri": "https://localhost:8080/"
        },
        "id": "SBUwGUHOZKQt",
        "outputId": "72fdcdfd-7130-49da-8373-6c54c4891ae8"
      },
      "outputs": [
        {
          "output_type": "stream",
          "name": "stdout",
          "text": [
            "Shape of dataframe (19365, 55)\n"
          ]
        }
      ],
      "source": [
        "train = df.loc[~(df.version==\"2.3.20\")]\n",
        "test = df.loc[df.version==\"2.3.20\"]\n",
        "feature_columns =df.columns[2:-4] \n",
        "print(\"Shape of dataframe\", df.shape)"
      ]
    },
    {
      "cell_type": "markdown",
      "metadata": {
        "id": "l-tbZ4bXZKQt"
      },
      "source": [
        "### Label encoding\n"
      ]
    },
    {
      "cell_type": "code",
      "execution_count": 7,
      "metadata": {
        "colab": {
          "base_uri": "https://localhost:8080/"
        },
        "id": "UxQ0eUsTZKQu",
        "outputId": "fd910878-01fd-4a7c-d4d4-70079cf2ede8"
      },
      "outputs": [
        {
          "output_type": "stream",
          "name": "stdout",
          "text": [
            "Encoded...\n"
          ]
        }
      ],
      "source": [
        "s = (train.dtypes == 'object')\n",
        "object_cols = ['severity', 'title']\n",
        "\n",
        "label_X_train = train.copy()\n",
        "label_X_test = test.copy()\n",
        "\n",
        "le = LabelEncoder()\n",
        "label_X_train[object_cols] = train[object_cols].apply(le.fit_transform)\n",
        "label_X_test[object_cols] = test[object_cols].apply(le.fit_transform)\n",
        "print('Encoded...')"
      ]
    },
    {
      "cell_type": "code",
      "source": [
        "def x_y_split(index):\n",
        "  y_cols = ['vulnerable','severity','title']\n",
        "  X = train[feature_columns]\n",
        "  test_X = test[feature_columns]\n",
        "  if y_cols[index] == 'vulnerable':\n",
        "    y = train[y_cols[index]]\n",
        "    test_Y = test[y_cols[index]]\n",
        "  else:\n",
        "    y = label_X_train[y_cols[index]]\n",
        "    test_Y = label_X_test[y_cols[index]]\n",
        "  return X , y, test_X, test_Y"
      ],
      "metadata": {
        "id": "K5TKAisEH4C1"
      },
      "execution_count": 8,
      "outputs": []
    },
    {
      "cell_type": "markdown",
      "source": [
        "### Change target variables here.\n",
        "The target variables are vulnerable, severity and title. Thus changing the value of index between 0-2 will change the target variable required for prediction."
      ],
      "metadata": {
        "id": "pIvLHEPuH8t4"
      }
    },
    {
      "cell_type": "code",
      "source": [
        "X, y, test_X, test_Y = x_y_split(0)"
      ],
      "metadata": {
        "id": "fIWQlFS-KLKR"
      },
      "execution_count": 9,
      "outputs": []
    },
    {
      "cell_type": "markdown",
      "metadata": {
        "id": "dDghBdCHZKQu"
      },
      "source": [
        "### Random over-sampling"
      ]
    },
    {
      "cell_type": "code",
      "execution_count": 10,
      "metadata": {
        "id": "liN5I3MgZKQv"
      },
      "outputs": [],
      "source": [
        "ros = RandomOverSampler()\n",
        "X_ros, y_ros = ros.fit_resample(X, y)"
      ]
    },
    {
      "cell_type": "markdown",
      "metadata": {
        "id": "eL-HeNc2ZKQv"
      },
      "source": [
        "### Feature selection"
      ]
    },
    {
      "cell_type": "markdown",
      "metadata": {
        "id": "d_Kof_QsZKQv"
      },
      "source": [
        "#### Sequential Feature Selection"
      ]
    },
    {
      "cell_type": "code",
      "execution_count": 13,
      "metadata": {
        "id": "O2MRwdSxZKQv"
      },
      "outputs": [],
      "source": [
        "sfs = SFS(DecisionTreeClassifier(), \n",
        "          direction='forward',\n",
        "          scoring='r2',\n",
        "          cv=5)\n",
        "sfs.fit(X_ros,y_ros)\n",
        "sfs_features = []\n",
        "for i in range(X.shape[1]):\n",
        "    if(sfs.support_[i] == 1):\n",
        "        sfs_features.append(X.columns[i])"
      ]
    },
    {
      "cell_type": "markdown",
      "metadata": {
        "id": "rGxuzHP_ZKQw"
      },
      "source": [
        "#### Random Feature Elimination"
      ]
    },
    {
      "cell_type": "code",
      "execution_count": null,
      "metadata": {
        "id": "jJdOcJQOZKQw"
      },
      "outputs": [],
      "source": [
        "rfe = RFE(estimator=DecisionTreeClassifier())\n",
        "rfe.fit(X_ros, y_ros)\n",
        "rfe_features = []\n",
        "for i in range(X.shape[1]):\n",
        "    if(rfe.support_[i] == 1):\n",
        "        rfe_features.append(X.columns[i])"
      ]
    },
    {
      "cell_type": "markdown",
      "source": [
        "### Features vs rankings visualizations\n",
        "Can visualize rankings only for RFE as SFS chooses the best features as a set instead of ranking each feature individually."
      ],
      "metadata": {
        "id": "o0Z-3F70LHbO"
      }
    },
    {
      "cell_type": "code",
      "source": [
        "rfe_rankings = []\n",
        "for i in range(len(X.columns)):\n",
        "  rfe_rankings.append({\"feature\":X.columns[i], \"rank\":rfe.ranking_[i]})"
      ],
      "metadata": {
        "id": "CD3GP_fF2pJg"
      },
      "execution_count": null,
      "outputs": []
    },
    {
      "cell_type": "code",
      "source": [
        "ranks_df = pd.DataFrame(rfe_rankings)\n",
        "features = ranks_df.feature.values[:]\n",
        "ranks = ranks_df['rank'].values[:]"
      ],
      "metadata": {
        "id": "LpNa3Dyp6yrw"
      },
      "execution_count": null,
      "outputs": []
    },
    {
      "cell_type": "code",
      "source": [
        "colors = []\n",
        "for f in features:\n",
        "  if f in rfe_features:\n",
        "    colors.append('black')\n",
        "  else:\n",
        "    colors.append('grey')"
      ],
      "metadata": {
        "id": "UfQhd_SQvFxa"
      },
      "execution_count": null,
      "outputs": []
    },
    {
      "cell_type": "code",
      "source": [
        "fig, ax = plt.subplots(figsize=(10,10))\n",
        "h = ax.barh(features, ranks, color=colors)\n",
        "ax.grid(b = True, color ='grey',\n",
        "        linestyle ='-.', linewidth = 0.5,\n",
        "        alpha = 0.2)\n",
        "for i in ax.patches:\n",
        "    plt.text(i.get_width()+0.2, i.get_y()+0.1,\n",
        "             str(round((i.get_width()), 2)),\n",
        "             fontsize = 8,\n",
        "             color ='black')\n",
        "plt.xlabel(\"Ranks\")\n",
        "plt.ylabel(\"Features\")\n",
        "ax.legend(handles=h, labels=('--Legend--','Not selected','Selected'))\n",
        "plt.title(\"Features ranked by RFE\")"
      ],
      "metadata": {
        "colab": {
          "base_uri": "https://localhost:8080/",
          "height": 639
        },
        "id": "ZpOMWCcEwKfD",
        "outputId": "2a9af6d1-de85-48ea-f820-1b570c47cb18"
      },
      "execution_count": null,
      "outputs": [
        {
          "output_type": "execute_result",
          "data": {
            "text/plain": [
              "Text(0.5, 1.0, 'Features ranked by RFE')"
            ]
          },
          "metadata": {},
          "execution_count": 16
        },
        {
          "output_type": "display_data",
          "data": {
            "text/plain": [
              "<Figure size 720x720 with 1 Axes>"
            ],
            "image/png": "[encoded data removed]"
          },
          "metadata": {
            "needs_background": "light"
          }
        }
      ]
    },
    {
      "cell_type": "markdown",
      "metadata": {
        "id": "R-es0hypZKQw"
      },
      "source": [
        "fit_feature_set() - A simple function to fit a feature set."
      ]
    },
    {
      "cell_type": "code",
      "execution_count": null,
      "metadata": {
        "id": "OPTgEismZKQw"
      },
      "outputs": [],
      "source": [
        "def fit_feature_set(feature_set):\n",
        "    X_ros = train[feature_set]\n",
        "    test_X = test[feature_set]"
      ]
    },
    {
      "cell_type": "markdown",
      "metadata": {
        "id": "BFljmawxZKQw"
      },
      "source": [
        "### Machine learning"
      ]
    },
    {
      "cell_type": "markdown",
      "source": [
        "So if I run the models using cross_val_score(), ie., with k fold cross validation within themselves, then I get different accuracies for different \"folds\" of data."
      ],
      "metadata": {
        "id": "9jUXdvPKSHUm"
      }
    },
    {
      "cell_type": "code",
      "execution_count": null,
      "metadata": {
        "id": "CeQ5B7IbZKQx"
      },
      "outputs": [],
      "source": [
        "fit_feature_set(rfe_features)"
      ]
    },
    {
      "cell_type": "code",
      "execution_count": null,
      "metadata": {
        "trusted": true,
        "id": "NrD2jbj0ZKQx"
      },
      "outputs": [],
      "source": [
        "def predict(model):\n",
        "  model.fit(X_ros, y_ros)\n",
        "  predictions = model.predict(test_X)\n",
        "  kfold=RepeatedStratifiedKFold(n_splits=10,n_repeats=3,random_state=1)\n",
        "  cv_score = cross_val_score(model, X_ros, y_ros, scoring='accuracy',cv=kfold, n_jobs=-1, error_score='raise')\n",
        "  accuracy = accuracy_score(test_Y,predictions)\n",
        "  precision = precision_score(test_Y, predictions, average='micro')\n",
        "  recall =recall_score(test_Y, predictions)\n",
        "  return [accuracy, precision, recall, predictions, cv_score]"
      ]
    },
    {
      "cell_type": "markdown",
      "metadata": {
        "id": "Ccq-TL1iZKQx"
      },
      "source": [
        "#### Decision tree classifier"
      ]
    },
    {
      "cell_type": "code",
      "source": [
        "dt = DecisionTreeClassifier(ccp_alpha=0.036)\n",
        "dt_pred_arr = predict(dt)\n",
        "dt_pred = dt_pred_arr[-2]\n",
        "print(f'Accuracy: {mean(dt_pred_arr[-1])}')"
      ],
      "metadata": {
        "colab": {
          "base_uri": "https://localhost:8080/"
        },
        "id": "nLnh2aKTM4v8",
        "outputId": "99129286-bcc1-426b-a302-45bf20a2139c"
      },
      "execution_count": null,
      "outputs": [
        {
          "output_type": "stream",
          "name": "stdout",
          "text": [
            "Accuracy: 0.8465416248431533\n"
          ]
        }
      ]
    },
    {
      "cell_type": "markdown",
      "source": [
        "##### Confusion Matrix"
      ],
      "metadata": {
        "id": "mOCGmzfG1xVM"
      }
    },
    {
      "cell_type": "code",
      "execution_count": null,
      "metadata": {
        "id": "Xn4RJGABZKQx",
        "outputId": "cc4eb2f2-5e9a-4055-d4f1-a867f3f059f6",
        "colab": {
          "base_uri": "https://localhost:8080/",
          "height": 297
        }
      },
      "outputs": [
        {
          "output_type": "execute_result",
          "data": {
            "text/plain": [
              "<sklearn.metrics._plot.confusion_matrix.ConfusionMatrixDisplay at 0x7ff0c068aa10>"
            ]
          },
          "metadata": {},
          "execution_count": 21
        },
        {
          "output_type": "display_data",
          "data": {
            "text/plain": [
              "<Figure size 432x288 with 2 Axes>"
            ],
            "image/png": "[encoded data removed]"
          },
          "metadata": {
            "needs_background": "light"
          }
        }
      ],
      "source": [
        "CMD.from_estimator(dt, test_X, test_Y)"
      ]
    },
    {
      "cell_type": "markdown",
      "metadata": {
        "id": "3ZLpS8sFZKQy"
      },
      "source": [
        "#### KNN-classifier"
      ]
    },
    {
      "cell_type": "markdown",
      "source": [
        "1. Find the optimal number of neighbours"
      ],
      "metadata": {
        "id": "DjWMGCcEu4sV"
      }
    },
    {
      "cell_type": "code",
      "source": [
        "len(df.loc[df.vulnerable==0])"
      ],
      "metadata": {
        "colab": {
          "base_uri": "https://localhost:8080/"
        },
        "id": "MK8YfRLj4Vxz",
        "outputId": "e02fe311-1bc8-47b9-fe90-791b3ac15784"
      },
      "execution_count": null,
      "outputs": [
        {
          "output_type": "execute_result",
          "data": {
            "text/plain": [
              "19328"
            ]
          },
          "metadata": {},
          "execution_count": 45
        }
      ]
    },
    {
      "cell_type": "code",
      "source": [
        "37/19328"
      ],
      "metadata": {
        "colab": {
          "base_uri": "https://localhost:8080/"
        },
        "id": "qPvUeci24fFC",
        "outputId": "59715365-afe7-4f67-a0e5-6648389dd8b6"
      },
      "execution_count": null,
      "outputs": [
        {
          "output_type": "execute_result",
          "data": {
            "text/plain": [
              "0.0019143211920529802"
            ]
          },
          "metadata": {},
          "execution_count": 46
        }
      ]
    },
    {
      "cell_type": "markdown",
      "source": [
        "2. Use the n_neighbours to check for accuracies in different folds of k."
      ],
      "metadata": {
        "id": "x2-Gpb7Qu8FO"
      }
    },
    {
      "cell_type": "code",
      "source": [
        "knn = KNN(n_neighbors=10,metric=\"euclidean\",p=0.19)\n",
        "knn_pred_arr = predict(knn)\n",
        "knn_pred = knn_pred_arr[-2]\n",
        "print(f'Accuracy: {mean(knn_pred_arr[-1])}')"
      ],
      "metadata": {
        "colab": {
          "base_uri": "https://localhost:8080/"
        },
        "id": "vnO5Wi7zvBml",
        "outputId": "231cd6c7-40df-4fe9-8cdc-a442b403ce79"
      },
      "execution_count": null,
      "outputs": [
        {
          "output_type": "stream",
          "name": "stderr",
          "text": [
            "/usr/local/lib/python3.7/dist-packages/joblib/externals/loky/process_executor.py:705: UserWarning: A worker stopped while some jobs were given to the executor. This can be caused by a too short worker timeout or by a memory leak.\n",
            "  \"timeout or by a memory leak.\", UserWarning\n"
          ]
        },
        {
          "output_type": "stream",
          "name": "stdout",
          "text": [
            "Accuracy: 0.9967145179050619\n"
          ]
        }
      ]
    },
    {
      "cell_type": "markdown",
      "source": [
        "##### Confusion matrix"
      ],
      "metadata": {
        "id": "7MBsdaGB2ZVm"
      }
    },
    {
      "cell_type": "code",
      "source": [
        "CMD.from_estimator(knn, test_X, test_Y)"
      ],
      "metadata": {
        "colab": {
          "base_uri": "https://localhost:8080/",
          "height": 297
        },
        "id": "M1zAMTrC2YfK",
        "outputId": "2fb2c71b-3d2a-446e-b84d-f4df39700fd9"
      },
      "execution_count": null,
      "outputs": [
        {
          "output_type": "execute_result",
          "data": {
            "text/plain": [
              "<sklearn.metrics._plot.confusion_matrix.ConfusionMatrixDisplay at 0x7ff0c0694710>"
            ]
          },
          "metadata": {},
          "execution_count": 23
        },
        {
          "output_type": "display_data",
          "data": {
            "text/plain": [
              "<Figure size 432x288 with 2 Axes>"
            ],
            "image/png": "[encoded data removed]"
          },
          "metadata": {
            "needs_background": "light"
          }
        }
      ]
    },
    {
      "cell_type": "markdown",
      "source": [
        "Simplifying the KNN + RFE using a pipeline (TO BE FIXED)"
      ],
      "metadata": {
        "id": "b0Omk_Qt0Bls"
      }
    },
    {
      "cell_type": "code",
      "source": [
        "rfe_ = RFE(estimator=knn)\n",
        "pipeline = Pipeline(steps=[('s',rfe_),('m',knn)])\n",
        "pipeline.fit(X_ros, y_ros)\n",
        "y_train_pred = pipeline.predict(X_ros)\n",
        "y_test_pred = pipeline.predict(test_X)\n",
        "train_scores, test_scores = list(), list()\n",
        "train_acc = accuracy_score(y_ros, y_train_pred)\n",
        "test_acc = accuracy_score(test_Y, y_test_pred)\n",
        "train_scores.append(accuracy_score(y_ros, y_train_pred))\n",
        "test_scores.append(accuracy_score(test_Y, y_test_pred))\n",
        "print('>%d, train: %.3f, test: %.3f' % (1, train_acc, test_acc))    "
      ],
      "metadata": {
        "id": "azJ8BsmQZPgg"
      },
      "execution_count": null,
      "outputs": []
    },
    {
      "cell_type": "markdown",
      "source": [
        "Debugging (IGNORE)"
      ],
      "metadata": {
        "id": "wnq3JcvV0L8t"
      }
    },
    {
      "cell_type": "code",
      "execution_count": null,
      "metadata": {
        "id": "ZckFVKQTZKQy"
      },
      "outputs": [],
      "source": [
        "knn_df = pd.DataFrame([predict(KNN(n_neighbors=20))[3], test_Y]).T\n",
        "knn_df.columns = ['prediction', 'actual']\n",
        "knn_df['prediction'] = knn_df['prediction'].astype(int)\n",
        "knn_df['actual'] = knn_df['actual'].astype(int)"
      ]
    },
    {
      "cell_type": "code",
      "source": [
        "knn_df.loc[(knn_df['actual'] == knn_df['prediction'])]"
      ],
      "metadata": {
        "colab": {
          "base_uri": "https://localhost:8080/",
          "height": 424
        },
        "id": "r78CngU6Idl4",
        "outputId": "699570de-6771-46fd-fddc-8c35c6a9f603"
      },
      "execution_count": null,
      "outputs": [
        {
          "output_type": "execute_result",
          "data": {
            "text/plain": [
              "      prediction  actual\n",
              "0              0       0\n",
              "1              0       0\n",
              "2              0       0\n",
              "3              0       0\n",
              "4              0       0\n",
              "...          ...     ...\n",
              "1777           0       0\n",
              "1778           0       0\n",
              "1779           0       0\n",
              "1780           0       0\n",
              "1781           0       0\n",
              "\n",
              "[1769 rows x 2 columns]"
            ],
            "text/html": [
              "\n",
              "  <div id=\"df-706af1c7-3989-4cf8-9e08-578bee34badb\">\n",
              "    <div class=\"colab-df-container\">\n",
              "      <div>\n",
              "<style scoped>\n",
              "    .dataframe tbody tr th:only-of-type {\n",
              "        vertical-align: middle;\n",
              "    }\n",
              "\n",
              "    .dataframe tbody tr th {\n",
              "        vertical-align: top;\n",
              "    }\n",
              "\n",
              "    .dataframe thead th {\n",
              "        text-align: right;\n",
              "    }\n",
              "</style>\n",
              "<table border=\"1\" class=\"dataframe\">\n",
              "  <thead>\n",
              "    <tr style=\"text-align: right;\">\n",
              "      <th></th>\n",
              "      <th>prediction</th>\n",
              "      <th>actual</th>\n",
              "    </tr>\n",
              "  </thead>\n",
              "  <tbody>\n",
              "    <tr>\n",
              "      <th>0</th>\n",
              "      <td>0</td>\n",
              "      <td>0</td>\n",
              "    </tr>\n",
              "    <tr>\n",
              "      <th>1</th>\n",
              "      <td>0</td>\n",
              "      <td>0</td>\n",
              "    </tr>\n",
              "    <tr>\n",
              "      <th>2</th>\n",
              "      <td>0</td>\n",
              "      <td>0</td>\n",
              "    </tr>\n",
              "    <tr>\n",
              "      <th>3</th>\n",
              "      <td>0</td>\n",
              "      <td>0</td>\n",
              "    </tr>\n",
              "    <tr>\n",
              "      <th>4</th>\n",
              "      <td>0</td>\n",
              "      <td>0</td>\n",
              "    </tr>\n",
              "    <tr>\n",
              "      <th>...</th>\n",
              "      <td>...</td>\n",
              "      <td>...</td>\n",
              "    </tr>\n",
              "    <tr>\n",
              "      <th>1777</th>\n",
              "      <td>0</td>\n",
              "      <td>0</td>\n",
              "    </tr>\n",
              "    <tr>\n",
              "      <th>1778</th>\n",
              "      <td>0</td>\n",
              "      <td>0</td>\n",
              "    </tr>\n",
              "    <tr>\n",
              "      <th>1779</th>\n",
              "      <td>0</td>\n",
              "      <td>0</td>\n",
              "    </tr>\n",
              "    <tr>\n",
              "      <th>1780</th>\n",
              "      <td>0</td>\n",
              "      <td>0</td>\n",
              "    </tr>\n",
              "    <tr>\n",
              "      <th>1781</th>\n",
              "      <td>0</td>\n",
              "      <td>0</td>\n",
              "    </tr>\n",
              "  </tbody>\n",
              "</table>\n",
              "<p>1769 rows × 2 columns</p>\n",
              "</div>\n",
              "      <button class=\"colab-df-convert\" onclick=\"convertToInteractive('df-706af1c7-3989-4cf8-9e08-578bee34badb')\"\n",
              "              title=\"Convert this dataframe to an interactive table.\"\n",
              "              style=\"display:none;\">\n",
              "        \n",
              "  <svg xmlns=\"http://www.w3.org/2000/svg\" height=\"24px\"viewBox=\"0 0 24 24\"\n",
              "       width=\"24px\">\n",
              "    <path d=\"M0 0h24v24H0V0z\" fill=\"none\"/>\n",
              "    <path d=\"M18.56 5.44l.94 2.06.94-2.06 2.06-.94-2.06-.94-.94-2.06-.94 2.06-2.06.94zm-11 1L8.5 8.5l.94-2.06 2.06-.94-2.06-.94L8.5 2.5l-.94 2.06-2.06.94zm10 10l.94 2.06.94-2.06 2.06-.94-2.06-.94-.94-2.06-.94 2.06-2.06.94z\"/><path d=\"M17.41 7.96l-1.37-1.37c-.4-.4-.92-.59-1.43-.59-.52 0-1.04.2-1.43.59L10.3 9.45l-7.72 7.72c-.78.78-.78 2.05 0 2.83L4 21.41c.39.39.9.59 1.41.59.51 0 1.02-.2 1.41-.59l7.78-7.78 2.81-2.81c.8-.78.8-2.07 0-2.86zM5.41 20L4 18.59l7.72-7.72 1.47 1.35L5.41 20z\"/>\n",
              "  </svg>\n",
              "      </button>\n",
              "      \n",
              "  <style>\n",
              "    .colab-df-container {\n",
              "      display:flex;\n",
              "      flex-wrap:wrap;\n",
              "      gap: 12px;\n",
              "    }\n",
              "\n",
              "    .colab-df-convert {\n",
              "      background-color: #E8F0FE;\n",
              "      border: none;\n",
              "      border-radius: 50%;\n",
              "      cursor: pointer;\n",
              "      display: none;\n",
              "      fill: #1967D2;\n",
              "      height: 32px;\n",
              "      padding: 0 0 0 0;\n",
              "      width: 32px;\n",
              "    }\n",
              "\n",
              "    .colab-df-convert:hover {\n",
              "      background-color: #E2EBFA;\n",
              "      box-shadow: 0px 1px 2px rgba(60, 64, 67, 0.3), 0px 1px 3px 1px rgba(60, 64, 67, 0.15);\n",
              "      fill: #174EA6;\n",
              "    }\n",
              "\n",
              "    [theme=dark] .colab-df-convert {\n",
              "      background-color: #3B4455;\n",
              "      fill: #D2E3FC;\n",
              "    }\n",
              "\n",
              "    [theme=dark] .colab-df-convert:hover {\n",
              "      background-color: #434B5C;\n",
              "      box-shadow: 0px 1px 3px 1px rgba(0, 0, 0, 0.15);\n",
              "      filter: drop-shadow(0px 1px 2px rgba(0, 0, 0, 0.3));\n",
              "      fill: #FFFFFF;\n",
              "    }\n",
              "  </style>\n",
              "\n",
              "      <script>\n",
              "        const buttonEl =\n",
              "          document.querySelector('#df-706af1c7-3989-4cf8-9e08-578bee34badb button.colab-df-convert');\n",
              "        buttonEl.style.display =\n",
              "          google.colab.kernel.accessAllowed ? 'block' : 'none';\n",
              "\n",
              "        async function convertToInteractive(key) {\n",
              "          const element = document.querySelector('#df-706af1c7-3989-4cf8-9e08-578bee34badb');\n",
              "          const dataTable =\n",
              "            await google.colab.kernel.invokeFunction('convertToInteractive',\n",
              "                                                     [key], {});\n",
              "          if (!dataTable) return;\n",
              "\n",
              "          const docLinkHtml = 'Like what you see? Visit the ' +\n",
              "            '<a target=\"_blank\" href=https://colab.research.google.com/notebooks/data_table.ipynb>data table notebook</a>'\n",
              "            + ' to learn more about interactive tables.';\n",
              "          element.innerHTML = '';\n",
              "          dataTable['output_type'] = 'display_data';\n",
              "          await google.colab.output.renderOutput(dataTable, element);\n",
              "          const docLink = document.createElement('div');\n",
              "          docLink.innerHTML = docLinkHtml;\n",
              "          element.appendChild(docLink);\n",
              "        }\n",
              "      </script>\n",
              "    </div>\n",
              "  </div>\n",
              "  "
            ]
          },
          "metadata": {},
          "execution_count": 66
        }
      ]
    },
    {
      "cell_type": "markdown",
      "metadata": {
        "id": "Vc_BnSFSZKQz"
      },
      "source": [
        "#### Logistic regression"
      ]
    },
    {
      "cell_type": "code",
      "execution_count": null,
      "metadata": {
        "trusted": true,
        "colab": {
          "base_uri": "https://localhost:8080/"
        },
        "id": "rVVoTBxXZKQz",
        "outputId": "880dbb5f-e906-40ff-dc6a-2d935af20379"
      },
      "outputs": [
        {
          "output_type": "stream",
          "name": "stderr",
          "text": [
            "/usr/local/lib/python3.7/dist-packages/sklearn/linear_model/_sag.py:354: ConvergenceWarning: The max_iter was reached which means the coef_ did not converge\n",
            "  ConvergenceWarning,\n"
          ]
        },
        {
          "output_type": "stream",
          "name": "stdout",
          "text": [
            "Accuracy: 0.7806609453993866\n"
          ]
        }
      ],
      "source": [
        "lr = LogisticRegression(solver='saga', class_weight='balanced')\n",
        "lr_pred_arr = predict(lr)\n",
        "lr_pred = lr_pred_arr[-2]\n",
        "print(f'Accuracy: {mean(lr_pred_arr[-1])}')"
      ]
    },
    {
      "cell_type": "markdown",
      "source": [
        "##### Confusion matrix"
      ],
      "metadata": {
        "id": "4LyMoRko3Im2"
      }
    },
    {
      "cell_type": "code",
      "source": [
        "CMD.from_estimator(lr, test_X, test_Y)"
      ],
      "metadata": {
        "colab": {
          "base_uri": "https://localhost:8080/",
          "height": 297
        },
        "id": "59H9zo-83Kaf",
        "outputId": "dbd4ffab-a7b3-4cd3-ce7f-77ed1e68d334"
      },
      "execution_count": null,
      "outputs": [
        {
          "output_type": "execute_result",
          "data": {
            "text/plain": [
              "<sklearn.metrics._plot.confusion_matrix.ConfusionMatrixDisplay at 0x7ff0bfd7f8d0>"
            ]
          },
          "metadata": {},
          "execution_count": 25
        },
        {
          "output_type": "display_data",
          "data": {
            "text/plain": [
              "<Figure size 432x288 with 2 Axes>"
            ],
            "image/png": "[encoded data removed]"
          },
          "metadata": {
            "needs_background": "light"
          }
        }
      ]
    },
    {
      "cell_type": "markdown",
      "metadata": {
        "id": "MdCCNgVhZKQz"
      },
      "source": [
        "#### Naive Bayes classifier"
      ]
    },
    {
      "cell_type": "code",
      "execution_count": null,
      "metadata": {
        "trusted": true,
        "colab": {
          "base_uri": "https://localhost:8080/"
        },
        "id": "sxWbNC8OZKQz",
        "outputId": "e1b4d806-dd90-49c6-ba9f-f007f155e4e9"
      },
      "outputs": [
        {
          "output_type": "stream",
          "name": "stdout",
          "text": [
            "Accuracy: 0.6958085090326619\n"
          ]
        }
      ],
      "source": [
        "nb = GaussianNB()\n",
        "nb_pred_arr = predict(nb)\n",
        "nb_pred = nb_pred_arr[-2]\n",
        "print(f'Accuracy: {mean(nb_pred_arr[-1])}')"
      ]
    },
    {
      "cell_type": "markdown",
      "source": [
        "##### Confusion matrix"
      ],
      "metadata": {
        "id": "-DuhRUjM5exW"
      }
    },
    {
      "cell_type": "code",
      "source": [
        "CMD.from_estimator(nb, test_X, test_Y)"
      ],
      "metadata": {
        "colab": {
          "base_uri": "https://localhost:8080/",
          "height": 297
        },
        "id": "6l5T8ii85g3N",
        "outputId": "d5e4e5d9-d355-446a-c6f6-9d3826edf376"
      },
      "execution_count": null,
      "outputs": [
        {
          "output_type": "execute_result",
          "data": {
            "text/plain": [
              "<sklearn.metrics._plot.confusion_matrix.ConfusionMatrixDisplay at 0x7ff0c278bdd0>"
            ]
          },
          "metadata": {},
          "execution_count": 27
        },
        {
          "output_type": "display_data",
          "data": {
            "text/plain": [
              "<Figure size 432x288 with 2 Axes>"
            ],
            "image/png": "[encoded data removed]"
          },
          "metadata": {
            "needs_background": "light"
          }
        }
      ]
    },
    {
      "cell_type": "markdown",
      "source": [
        "### XGBoost classifier"
      ],
      "metadata": {
        "id": "sRA6C5aULz_4"
      }
    },
    {
      "cell_type": "code",
      "source": [
        "xgb = xgb.XGBClassifier(n_estimators=10)\n",
        "xgb_pred_arr = predict(xgb)\n",
        "xgb_pred = xgb_pred_arr[-2]\n",
        "print(f'Accuracy: {mean(xgb_pred_arr[-1])}')"
      ],
      "metadata": {
        "colab": {
          "base_uri": "https://localhost:8080/"
        },
        "id": "a9glcwCvL5oI",
        "outputId": "f2a8ec1e-25cb-4af7-a3a0-3690e03e2838"
      },
      "execution_count": null,
      "outputs": [
        {
          "output_type": "stream",
          "name": "stdout",
          "text": [
            "Accuracy: 0.9343759580187947\n"
          ]
        }
      ]
    },
    {
      "cell_type": "markdown",
      "source": [
        "##### Confusion matrix"
      ],
      "metadata": {
        "id": "ei3DxNKx5kZP"
      }
    },
    {
      "cell_type": "code",
      "source": [
        "CMD.from_estimator(xgb, test_X, test_Y)"
      ],
      "metadata": {
        "colab": {
          "base_uri": "https://localhost:8080/",
          "height": 297
        },
        "id": "hsygWnOU5mkU",
        "outputId": "0455c9e9-5e2b-461c-95c0-6749861b3e14"
      },
      "execution_count": null,
      "outputs": [
        {
          "output_type": "execute_result",
          "data": {
            "text/plain": [
              "<sklearn.metrics._plot.confusion_matrix.ConfusionMatrixDisplay at 0x7ff0c08400d0>"
            ]
          },
          "metadata": {},
          "execution_count": 29
        },
        {
          "output_type": "display_data",
          "data": {
            "text/plain": [
              "<Figure size 432x288 with 2 Axes>"
            ],
            "image/png": "[encoded data removed]"
          },
          "metadata": {
            "needs_background": "light"
          }
        }
      ]
    },
    {
      "cell_type": "code",
      "source": [
        "xgb_df = pd.DataFrame([predict(xgb)[3], test_Y]).T\n",
        "xgb_df.columns = ['prediction', 'actual']\n",
        "xgb_df['prediction'] = xgb_df['prediction'].astype(int)\n",
        "xgb_df['actual'] = xgb_df['actual'].astype(int)\n",
        "xgb_df.loc[~(xgb_df['prediction'] == xgb_df['actual'])]"
      ],
      "metadata": {
        "id": "AkDVz2KuNf-v"
      },
      "execution_count": null,
      "outputs": []
    },
    {
      "cell_type": "markdown",
      "metadata": {
        "id": "6Ee6uRmaZKQz"
      },
      "source": [
        "#### Ensemble methods\n",
        "Stacking classifier"
      ]
    },
    {
      "cell_type": "code",
      "execution_count": null,
      "metadata": {
        "id": "1FEBa8cqZKQz"
      },
      "outputs": [],
      "source": [
        "def evaluate(model, X, y):\n",
        "    cv = RepeatedStratifiedKFold(10, shuffle=True, random_state=1)\n",
        "    return cross_val_score(model, X, y, scoring='accuracy', cv=cv, n_jobs=-1), cross_val_score(model, X, y, scoring='precision', cv=cv, n_jobs=-1), cross_val_score(model, X, y, scoring='recall', cv=cv, n_jobs=-1)\n"
      ]
    },
    {
      "cell_type": "code",
      "execution_count": null,
      "metadata": {
        "id": "LHmz8mj5ZKQz"
      },
      "outputs": [],
      "source": [
        "def stacking():\n",
        "    level0 = list()\n",
        "    level0.append(('lr', LogisticRegression(solver='saga',class_weight='balanced', max_iter=4000)))\n",
        "    level0.append(('dt', DecisionTreeClassifier(ccp_alpha=0.036)))\n",
        "    level0.append(('nb', GaussianNB()))\n",
        "\t\n",
        "    level1 = xgb.XGBClassifier()\n",
        "\t\n",
        "    model = StackingClassifier(estimators=level0, final_estimator=level1, cv=5)\n",
        "    return model"
      ]
    },
    {
      "cell_type": "code",
      "execution_count": null,
      "metadata": {
        "id": "w-FsDe6fZKQ0"
      },
      "outputs": [],
      "source": [
        "def get_models():\n",
        "    models = dict()\n",
        "    models['Decision Tree'] = DecisionTreeClassifier(ccp_alpha=0.036)\n",
        "    models['Logistic Regression'] = LogisticRegression(solver='saga', class_weight='balanced', max_iter=4000)\n",
        "    models['Naive Bayes'] = GaussianNB()\n",
        "    models['Stacking'] = stacking()\n",
        "    return models"
      ]
    },
    {
      "cell_type": "markdown",
      "metadata": {
        "id": "blRo3mxwZKQ0"
      },
      "source": [
        "### Stacking debug"
      ]
    },
    {
      "cell_type": "code",
      "execution_count": null,
      "metadata": {
        "id": "EI1vpyaNZKQ0"
      },
      "outputs": [],
      "source": [
        "stacking_clf = stacking()\n",
        "stacking_clf.fit(X_ros, y_ros)\n",
        "scores = cross_val_score(stacking_clf, X_ros, y_ros, scoring='accuracy', cv=kfold, n_jobs=-1)\n",
        "print('Precision: %.3f' % mean(cross_val_score(stacking_clf, X_ros, y_ros, scoring='precision', cv=kfold, n_jobs=-1)))\n",
        "print('Recall: %.3f' % mean(cross_val_score(stacking_clf, X_ros, y_ros, scoring='recall', cv=kfold, n_jobs=-1)))\n",
        "print('Accuracy: %.3f (%.3f)' % (mean(scores), std(scores)))    \n",
        "st_y_train_pred = stacking_clf.predict(X_ros)\n",
        "st_y_test_pred = stacking_clf.predict(test_X)\n",
        "print(f'Train score {accuracy_score(st_y_train_pred,y_ros)}')\n",
        "print(f'Test score {accuracy_score(st_y_test_pred,test_Y)}')"
      ]
    },
    {
      "cell_type": "code",
      "execution_count": null,
      "metadata": {
        "id": "oMWm32h-ZKQ0"
      },
      "outputs": [],
      "source": [
        "st_df = pd.DataFrame([st_y_test_pred, test_Y]).T\n",
        "st_df.columns = ['prediction', 'actual']\n",
        "st_df['prediction'] = st_df['prediction'].astype(int)\n",
        "st_df['actual'] = st_df['actual'].astype(int)\n",
        "st_df.loc[(st_df['prediction']==1)&(st_df['actual']==1)]"
      ]
    },
    {
      "cell_type": "code",
      "execution_count": null,
      "metadata": {
        "id": "G4aBoYaKZKQ0"
      },
      "outputs": [],
      "source": [
        "st_df.loc[st_df.prediction==1].shape[0]"
      ]
    },
    {
      "cell_type": "code",
      "execution_count": null,
      "metadata": {
        "id": "nmbM0VieZKQ0",
        "outputId": "76a2a103-134e-47a3-8788-c8245b04e156"
      },
      "outputs": [
        {
          "name": "stdout",
          "output_type": "stream",
          "text": [
            "Model: Decision Tree\n",
            "Accuracy: 0.845 (0.005)\n",
            "Recall: 0.869 (0.005)\n",
            "Precision: 0.830 (0.009) \n",
            "\n",
            "Model: Logistic Regression\n",
            "Accuracy: 0.838 (0.004)\n",
            "Recall: 0.835 (0.005)\n",
            "Precision: 0.841 (0.006) \n",
            "\n",
            "Model: KNN\n",
            "Accuracy: 0.998 (0.000)\n",
            "Recall: 1.000 (0.000)\n",
            "Precision: 0.996 (0.001) \n",
            "\n",
            "Model: Naive Bayes\n",
            "Accuracy: 0.700 (0.009)\n",
            "Recall: 0.969 (0.004)\n",
            "Precision: 0.630 (0.010) \n",
            "\n",
            "Model: Stacking\n",
            "Accuracy: 0.999 (0.001)\n",
            "Recall: 1.000 (0.000)\n",
            "Precision: 0.997 (0.001) \n",
            "\n"
          ]
        }
      ],
      "source": [
        "models = get_models()\n",
        "results, names = list(), list()\n",
        "for name, model in models.items():\n",
        "    acc, pre, rec = evaluate(model, X_ros, y_ros)\n",
        "    names.append(names)\n",
        "    print('Model: %s' % (name))\n",
        "    print('Accuracy: %.3f (%.3f)' % (mean(acc), std(acc)))\n",
        "    print('Recall: %.3f (%.3f)' % (mean(rec), std(rec)))\n",
        "    print('Precision: %.3f (%.3f) \\n' % (mean(pre), std(pre)))"
      ]
    },
    {
      "cell_type": "markdown",
      "source": [
        "### AUC-ROC curve"
      ],
      "metadata": {
        "id": "7WihqqutaSla"
      }
    },
    {
      "cell_type": "code",
      "source": [
        "# roc curve for models\n",
        "fpr = {}\n",
        "tpr = {}\n",
        "thresh ={}\n",
        "    \n",
        "fpr, tpr, thresh = roc_curve(test_Y, dt_pred, pos_label=1)\n",
        "fpr1, tpr1, thresh1 = roc_curve(test_Y, knn_pred, pos_label=1)\n",
        "fpr2, tpr2, thresh2 = roc_curve(test_Y, lr_pred, pos_label=1)\n",
        "fpr3, tpr3, thresh3 = roc_curve(test_Y, nb_pred, pos_label=1)\n",
        "fpr4, tpr4, thresh4 = roc_curve(test_Y, xgb_pred, pos_label=1)\n",
        "# roc curve for tpr = fpr \n",
        "random_probs = [0 for i in range(len(test_Y))]\n",
        "p_fpr, p_tpr, _ = roc_curve(test_Y, random_probs, pos_label=1)\n",
        "\n",
        "# plot roc curves\n",
        "plt.plot(fpr, tpr, linestyle='--', color='blue', label='Decision Tree')\n",
        "plt.plot(fpr1, tpr1, linestyle='--',color='orange', label='KNN')\n",
        "plt.plot(fpr2, tpr2, linestyle='--',color='green', label='Logistic Regression')\n",
        "plt.plot(fpr3, tpr3, linestyle='--',color='yellow', label='Naive Bayes')\n",
        "plt.plot(fpr4, tpr4, linestyle='--',color='red', label='XGBoost')\n",
        "\n",
        "# title\n",
        "plt.title('AUC-ROC curve')\n",
        "# x label\n",
        "plt.xlabel('False Positive Rate (FPR)')\n",
        "# y label\n",
        "plt.ylabel('True Positive rate (TPR)')\n",
        "\n",
        "plt.legend(loc='best')\n",
        "plt.show();"
      ],
      "metadata": {
        "colab": {
          "base_uri": "https://localhost:8080/",
          "height": 295
        },
        "id": "p6jtDrobaVEi",
        "outputId": "86884ed9-6a95-4538-a1a6-0237a4128b7f"
      },
      "execution_count": null,
      "outputs": [
        {
          "output_type": "display_data",
          "data": {
            "text/plain": [
              "<Figure size 432x288 with 1 Axes>"
            ],
            "image/png": "[encoded data removed]"
          },
          "metadata": {
            "needs_background": "light"
          }
        }
      ]
    }
  ],
  "metadata": {
    "kernelspec": {
      "display_name": "Python 3",
      "language": "python",
      "name": "python3"
    },
    "language_info": {
      "codemirror_mode": {
        "name": "ipython",
        "version": 3
      },
      "file_extension": ".py",
      "mimetype": "text/x-python",
      "name": "python",
      "nbconvert_exporter": "python",
      "pygments_lexer": "ipython3",
      "version": "3.8.9"
    },
    "colab": {
      "name": "ml-models.ipynb",
      "provenance": [],
      "collapsed_sections": []
    }
  },
  "nbformat": 4,
  "nbformat_minor": 0
}
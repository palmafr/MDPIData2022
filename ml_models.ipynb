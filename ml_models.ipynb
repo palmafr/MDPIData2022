{
  "cells": [
    {
      "cell_type": "markdown",
      "metadata": {
        "id": "oOL6GRqjZKQg"
      },
      "source": [
        "## Prerequisites"
      ]
    },
    {
      "cell_type": "code",
      "execution_count": 29,
      "metadata": {
        "_cell_guid": "b1076dfc-b9ad-4769-8c92-a6c4dae69d19",
        "_uuid": "8f2839f25d086af736a60e9eeb907d3b93b6e0e5",
        "trusted": true,
        "id": "w4penPvwZKQk"
      },
      "outputs": [],
      "source": [
        "# Basic imports\n",
        "import warnings\n",
        "import numpy as np\n",
        "import pandas as pd\n",
        "from numpy import mean, std\n",
        "from matplotlib import pyplot as plt\n",
        "from sklearn.exceptions import ConvergenceWarning\n",
        "from sklearn.utils._testing import ignore_warnings\n",
        "\n",
        "# Feature selection\n",
        "#from mlxtend.feature_selection import SequentialFeatureSelector as SFS\n",
        "from sklearn.feature_selection import RFE\n",
        "\n",
        "# Data preprocessing\n",
        "from sklearn.preprocessing import LabelEncoder\n",
        "from sklearn.model_selection import KFold\n",
        "from imblearn.over_sampling  import RandomOverSampler\n",
        "\n",
        "# Performance metrics\n",
        "from sklearn.metrics import accuracy_score, f1_score, precision_score, recall_score\n",
        "from sklearn.model_selection import cross_val_score\n",
        "from sklearn.metrics import log_loss\n",
        "from sklearn.pipeline import Pipeline\n",
        "\n",
        "#ML models\n",
        "from sklearn.tree import DecisionTreeClassifier\n",
        "from sklearn.linear_model import LogisticRegression\n",
        "from sklearn.neighbors import KNeighborsClassifier as KNN\n",
        "from sklearn.naive_bayes import GaussianNB\n",
        "import xgboost as xgb\n",
        "\n",
        "# Ensemble techniques\n",
        "from sklearn.ensemble import StackingClassifier"
      ]
    },
    {
      "cell_type": "markdown",
      "metadata": {
        "id": "RWGjqkbAZKQm"
      },
      "source": [
        "### Selecting the dataset"
      ]
    },
    {
      "cell_type": "code",
      "execution_count": 2,
      "metadata": {
        "id": "gcpITtxeZKQn"
      },
      "outputs": [],
      "source": [
        "ds = [\"./datasets/tomcat-final.csv\",\"./datasets/struts-final.csv\"]"
      ]
    },
    {
      "cell_type": "markdown",
      "metadata": {
        "id": "jmoJT25NZKQn"
      },
      "source": [
        "Choose 1 for struts2-core dataset, 0 for tomcat dataset."
      ]
    },
    {
      "cell_type": "code",
      "execution_count": 3,
      "metadata": {
        "trusted": true,
        "id": "ogakeOwjZKQo"
      },
      "outputs": [],
      "source": [
        "#df = pd.read_csv(ds[1])\n",
        "df = pd.read_csv('./struts-final.csv')\n",
        "np.set_printoptions(threshold=np.inf)\n",
        "pd.set_option('max_columns',None)"
      ]
    },
    {
      "cell_type": "code",
      "execution_count": 4,
      "metadata": {
        "id": "IYFuLG1-ZKQo",
        "colab": {
          "base_uri": "https://localhost:8080/",
          "height": 488
        },
        "outputId": "507cf222-7099-4031-9bf5-0438cc58a399"
      },
      "outputs": [
        {
          "output_type": "execute_result",
          "data": {
            "text/plain": [
              "                                                    file   type  cbo  \\\n",
              "0      core/src/main/java/org/apache/struts2/views/fr...  class    5   \n",
              "1      core/src/test/java/org/apache/struts2/views/js...  class    3   \n",
              "2      plugins/cdi/src/test/java/org/apache/struts2/c...  class    8   \n",
              "3      apps/portlet/src/test/java/JettyPlutoLauncher....  class    4   \n",
              "4      plugins/codebehind/src/test/java/org/apache/st...  class    1   \n",
              "...                                                  ...    ...  ...   \n",
              "19367  plugins/convention/src/test/java/org/apache/st...  class    0   \n",
              "19368  core/src/main/java/com/opensymphony/xwork2/Act...  class   14   \n",
              "19369  apps/showcase/src/test/java/it/org/apache/stru...  class    2   \n",
              "19370  core/src/main/java/org/apache/struts2/views/xs...  class    2   \n",
              "19371  core/src/main/java/com/opensymphony/xwork2/Def...  class    8   \n",
              "\n",
              "       cboModified  fanin  fanout  wmc  dit  noc  rfc  lcom     lcom*  \\\n",
              "0                7      2       5   14    1    0   16     0  0.583333   \n",
              "1                3      0       3    4    4    0   14     6  0.000000   \n",
              "2                8      0       8    4    1    0   12     6  0.000000   \n",
              "3                4      0       4    1    1    0    7     0  0.000000   \n",
              "4                1      0       1    0    1    0    0     0  0.000000   \n",
              "...            ...    ...     ...  ...  ...  ...  ...   ...       ...   \n",
              "19367            1      1       0    1    1    0    0     0  0.000000   \n",
              "19368           33     19      14   49    1   19   56   585  0.883721   \n",
              "19369           13     11       2    1    2   11    3     0  0.000000   \n",
              "19370            3      1       2    4    1    0    8     0  0.166667   \n",
              "19371           11      3       8   10    1    1    7    39  0.700000   \n",
              "\n",
              "            tcc  lcc  totalMethodsQty  staticMethodsQty  publicMethodsQty  \\\n",
              "0      0.607143  1.0                8                 0                 8   \n",
              "1      0.000000  0.0                4                 0                 4   \n",
              "2      0.000000  0.0                4                 0                 4   \n",
              "3      0.000000  0.0                1                 1                 1   \n",
              "4     -1.000000 -1.0                0                 0                 0   \n",
              "...         ...  ...              ...               ...               ...   \n",
              "19367  0.000000  0.0                1                 0                 1   \n",
              "19368  0.000000  0.0               43                 0                40   \n",
              "19369  0.000000  0.0                1                 0                 1   \n",
              "19370  0.000000  0.0                2                 0                 2   \n",
              "19371  0.000000  0.0               10                 0                 9   \n",
              "\n",
              "       privateMethodsQty  protectedMethodsQty  defaultMethodsQty  \\\n",
              "0                      0                    0                  0   \n",
              "1                      0                    0                  0   \n",
              "2                      0                    0                  0   \n",
              "3                      0                    0                  0   \n",
              "4                      0                    0                  0   \n",
              "...                  ...                  ...                ...   \n",
              "19367                  0                    0                  0   \n",
              "19368                  0                    3                  0   \n",
              "19369                  0                    0                  0   \n",
              "19370                  0                    0                  0   \n",
              "19371                  0                    1                  0   \n",
              "\n",
              "       visibleMethodsQty  abstractMethodsQty  finalMethodsQty  \\\n",
              "0                      8                   0                0   \n",
              "1                      4                   0                0   \n",
              "2                      4                   0                0   \n",
              "3                      1                   0                0   \n",
              "4                      0                   0                0   \n",
              "...                  ...                 ...              ...   \n",
              "19367                  1                   0                0   \n",
              "19368                 43                   0                0   \n",
              "19369                  1                   0                0   \n",
              "19370                  2                   0                0   \n",
              "19371                 10                   0                0   \n",
              "\n",
              "       synchronizedMethodsQty  totalFieldsQty  staticFieldsQty  \\\n",
              "0                           0               3                0   \n",
              "1                           0               0                0   \n",
              "2                           0               0                0   \n",
              "3                           0               0                0   \n",
              "4                           0               0                0   \n",
              "...                       ...             ...              ...   \n",
              "19367                       0               0                0   \n",
              "19368                       0               5                1   \n",
              "19369                       0               0                0   \n",
              "19370                       0               3                1   \n",
              "19371                       0               1                0   \n",
              "\n",
              "       publicFieldsQty  privateFieldsQty  protectedFieldsQty  \\\n",
              "0                    0                 3                   0   \n",
              "1                    0                 0                   0   \n",
              "2                    0                 0                   0   \n",
              "3                    0                 0                   0   \n",
              "4                    0                 0                   0   \n",
              "...                ...               ...                 ...   \n",
              "19367                0                 0                   0   \n",
              "19368                0                 4                   1   \n",
              "19369                0                 0                   0   \n",
              "19370                0                 2                   0   \n",
              "19371                0                 0                   1   \n",
              "\n",
              "       defaultFieldsQty  finalFieldsQty  synchronizedFieldsQty  nosi  loc  \\\n",
              "0                     0               0                      0     0   50   \n",
              "1                     0               0                      0     2   53   \n",
              "2                     0               0                      0     0   25   \n",
              "3                     0               0                      0     1   14   \n",
              "4                     0               0                      0     0    2   \n",
              "...                 ...             ...                    ...   ...  ...   \n",
              "19367                 0               0                      0     0    5   \n",
              "19368                 0               2                      0     5  168   \n",
              "19369                 0               0                      0     1    5   \n",
              "19370                 1               1                      0     0   22   \n",
              "19371                 0               0                      0     0   38   \n",
              "\n",
              "       returnQty  loopQty  comparisonsQty  tryCatchQty  parenthesizedExpsQty  \\\n",
              "0              8        1               3            0                     1   \n",
              "1              0        0               0            0                     0   \n",
              "2              0        0               0            0                     0   \n",
              "3              0        0               0            0                     0   \n",
              "4              0        0               0            0                     0   \n",
              "...          ...      ...             ...          ...                   ...   \n",
              "19367          1        0               0            0                     0   \n",
              "19368         30        0               4            0                     0   \n",
              "19369          0        0               0            0                     0   \n",
              "19370          1        0               1            0                     0   \n",
              "19371          8        0               0            0                     0   \n",
              "\n",
              "       stringLiteralsQty  numbersQty  assignmentsQty  mathOperationsQty  \\\n",
              "0                      5           7              10                  4   \n",
              "1                     11           6              12                  0   \n",
              "2                      0           1               7                  0   \n",
              "3                      8           2               3                  0   \n",
              "4                      1           0               0                  0   \n",
              "...                  ...         ...             ...                ...   \n",
              "19367                  0           0               0                  0   \n",
              "19368                  3           1              15                  0   \n",
              "19369                  0           0               0                  0   \n",
              "19370                  7           0               5                  2   \n",
              "19371                  0           0               3                  0   \n",
              "\n",
              "       variablesQty  maxNestedBlocksQty  anonymousClassesQty  innerClassesQty  \\\n",
              "0                10                   2                    0                0   \n",
              "1                12                   0                    0                0   \n",
              "2                 7                   0                    0                0   \n",
              "3                 3                   0                    0                0   \n",
              "4                 0                   0                    0                0   \n",
              "...             ...                 ...                  ...              ...   \n",
              "19367             0                   0                    0                0   \n",
              "19368            14                   3                    0                0   \n",
              "19369             0                   0                    0                0   \n",
              "19370             5                   2                    0                0   \n",
              "19371             3                   0                    0                0   \n",
              "\n",
              "       lambdasQty  uniqueWordsQty  modifiers  logStatementsQty title severity  \\\n",
              "0               0              50          1                 0     0        0   \n",
              "1               0              26          1                 0     0        0   \n",
              "2               0              35          1                 0     0        0   \n",
              "3               0              26          1                 0     0        0   \n",
              "4               0               4          1                 0     0        0   \n",
              "...           ...             ...        ...               ...   ...      ...   \n",
              "19367           0              16          1                 0     0        0   \n",
              "19368           0             194          1                 3     0        0   \n",
              "19369           0              11       1025                 0     0        0   \n",
              "19370           0              58          1                 3     0        0   \n",
              "19371           0              22          1                 0     0        0   \n",
              "\n",
              "       vulnerable version  \n",
              "0             0.0  2.3.20  \n",
              "1             0.0  2.3.20  \n",
              "2             0.0  2.3.20  \n",
              "3             0.0  2.3.20  \n",
              "4             0.0  2.3.20  \n",
              "...           ...     ...  \n",
              "19367         0.0  2.5.26  \n",
              "19368         0.0  2.5.26  \n",
              "19369         0.0  2.5.26  \n",
              "19370         0.0  2.5.26  \n",
              "19371         0.0  2.5.26  \n",
              "\n",
              "[19372 rows x 55 columns]"
            ],
            "text/html": [
              "\n",
              "  <div id=\"df-b2b69127-d965-4ff2-a2e9-35005799a280\">\n",
              "    <div class=\"colab-df-container\">\n",
              "      <div>\n",
              "<style scoped>\n",
              "    .dataframe tbody tr th:only-of-type {\n",
              "        vertical-align: middle;\n",
              "    }\n",
              "\n",
              "    .dataframe tbody tr th {\n",
              "        vertical-align: top;\n",
              "    }\n",
              "\n",
              "    .dataframe thead th {\n",
              "        text-align: right;\n",
              "    }\n",
              "</style>\n",
              "<table border=\"1\" class=\"dataframe\">\n",
              "  <thead>\n",
              "    <tr style=\"text-align: right;\">\n",
              "      <th></th>\n",
              "      <th>file</th>\n",
              "      <th>type</th>\n",
              "      <th>cbo</th>\n",
              "      <th>cboModified</th>\n",
              "      <th>fanin</th>\n",
              "      <th>fanout</th>\n",
              "      <th>wmc</th>\n",
              "      <th>dit</th>\n",
              "      <th>noc</th>\n",
              "      <th>rfc</th>\n",
              "      <th>lcom</th>\n",
              "      <th>lcom*</th>\n",
              "      <th>tcc</th>\n",
              "      <th>lcc</th>\n",
              "      <th>totalMethodsQty</th>\n",
              "      <th>staticMethodsQty</th>\n",
              "      <th>publicMethodsQty</th>\n",
              "      <th>privateMethodsQty</th>\n",
              "      <th>protectedMethodsQty</th>\n",
              "      <th>defaultMethodsQty</th>\n",
              "      <th>visibleMethodsQty</th>\n",
              "      <th>abstractMethodsQty</th>\n",
              "      <th>finalMethodsQty</th>\n",
              "      <th>synchronizedMethodsQty</th>\n",
              "      <th>totalFieldsQty</th>\n",
              "      <th>staticFieldsQty</th>\n",
              "      <th>publicFieldsQty</th>\n",
              "      <th>privateFieldsQty</th>\n",
              "      <th>protectedFieldsQty</th>\n",
              "      <th>defaultFieldsQty</th>\n",
              "      <th>finalFieldsQty</th>\n",
              "      <th>synchronizedFieldsQty</th>\n",
              "      <th>nosi</th>\n",
              "      <th>loc</th>\n",
              "      <th>returnQty</th>\n",
              "      <th>loopQty</th>\n",
              "      <th>comparisonsQty</th>\n",
              "      <th>tryCatchQty</th>\n",
              "      <th>parenthesizedExpsQty</th>\n",
              "      <th>stringLiteralsQty</th>\n",
              "      <th>numbersQty</th>\n",
              "      <th>assignmentsQty</th>\n",
              "      <th>mathOperationsQty</th>\n",
              "      <th>variablesQty</th>\n",
              "      <th>maxNestedBlocksQty</th>\n",
              "      <th>anonymousClassesQty</th>\n",
              "      <th>innerClassesQty</th>\n",
              "      <th>lambdasQty</th>\n",
              "      <th>uniqueWordsQty</th>\n",
              "      <th>modifiers</th>\n",
              "      <th>logStatementsQty</th>\n",
              "      <th>title</th>\n",
              "      <th>severity</th>\n",
              "      <th>vulnerable</th>\n",
              "      <th>version</th>\n",
              "    </tr>\n",
              "  </thead>\n",
              "  <tbody>\n",
              "    <tr>\n",
              "      <th>0</th>\n",
              "      <td>core/src/main/java/org/apache/struts2/views/fr...</td>\n",
              "      <td>class</td>\n",
              "      <td>5</td>\n",
              "      <td>7</td>\n",
              "      <td>2</td>\n",
              "      <td>5</td>\n",
              "      <td>14</td>\n",
              "      <td>1</td>\n",
              "      <td>0</td>\n",
              "      <td>16</td>\n",
              "      <td>0</td>\n",
              "      <td>0.583333</td>\n",
              "      <td>0.607143</td>\n",
              "      <td>1.0</td>\n",
              "      <td>8</td>\n",
              "      <td>0</td>\n",
              "      <td>8</td>\n",
              "      <td>0</td>\n",
              "      <td>0</td>\n",
              "      <td>0</td>\n",
              "      <td>8</td>\n",
              "      <td>0</td>\n",
              "      <td>0</td>\n",
              "      <td>0</td>\n",
              "      <td>3</td>\n",
              "      <td>0</td>\n",
              "      <td>0</td>\n",
              "      <td>3</td>\n",
              "      <td>0</td>\n",
              "      <td>0</td>\n",
              "      <td>0</td>\n",
              "      <td>0</td>\n",
              "      <td>0</td>\n",
              "      <td>50</td>\n",
              "      <td>8</td>\n",
              "      <td>1</td>\n",
              "      <td>3</td>\n",
              "      <td>0</td>\n",
              "      <td>1</td>\n",
              "      <td>5</td>\n",
              "      <td>7</td>\n",
              "      <td>10</td>\n",
              "      <td>4</td>\n",
              "      <td>10</td>\n",
              "      <td>2</td>\n",
              "      <td>0</td>\n",
              "      <td>0</td>\n",
              "      <td>0</td>\n",
              "      <td>50</td>\n",
              "      <td>1</td>\n",
              "      <td>0</td>\n",
              "      <td>0</td>\n",
              "      <td>0</td>\n",
              "      <td>0.0</td>\n",
              "      <td>2.3.20</td>\n",
              "    </tr>\n",
              "    <tr>\n",
              "      <th>1</th>\n",
              "      <td>core/src/test/java/org/apache/struts2/views/js...</td>\n",
              "      <td>class</td>\n",
              "      <td>3</td>\n",
              "      <td>3</td>\n",
              "      <td>0</td>\n",
              "      <td>3</td>\n",
              "      <td>4</td>\n",
              "      <td>4</td>\n",
              "      <td>0</td>\n",
              "      <td>14</td>\n",
              "      <td>6</td>\n",
              "      <td>0.000000</td>\n",
              "      <td>0.000000</td>\n",
              "      <td>0.0</td>\n",
              "      <td>4</td>\n",
              "      <td>0</td>\n",
              "      <td>4</td>\n",
              "      <td>0</td>\n",
              "      <td>0</td>\n",
              "      <td>0</td>\n",
              "      <td>4</td>\n",
              "      <td>0</td>\n",
              "      <td>0</td>\n",
              "      <td>0</td>\n",
              "      <td>0</td>\n",
              "      <td>0</td>\n",
              "      <td>0</td>\n",
              "      <td>0</td>\n",
              "      <td>0</td>\n",
              "      <td>0</td>\n",
              "      <td>0</td>\n",
              "      <td>0</td>\n",
              "      <td>2</td>\n",
              "      <td>53</td>\n",
              "      <td>0</td>\n",
              "      <td>0</td>\n",
              "      <td>0</td>\n",
              "      <td>0</td>\n",
              "      <td>0</td>\n",
              "      <td>11</td>\n",
              "      <td>6</td>\n",
              "      <td>12</td>\n",
              "      <td>0</td>\n",
              "      <td>12</td>\n",
              "      <td>0</td>\n",
              "      <td>0</td>\n",
              "      <td>0</td>\n",
              "      <td>0</td>\n",
              "      <td>26</td>\n",
              "      <td>1</td>\n",
              "      <td>0</td>\n",
              "      <td>0</td>\n",
              "      <td>0</td>\n",
              "      <td>0.0</td>\n",
              "      <td>2.3.20</td>\n",
              "    </tr>\n",
              "    <tr>\n",
              "      <th>2</th>\n",
              "      <td>plugins/cdi/src/test/java/org/apache/struts2/c...</td>\n",
              "      <td>class</td>\n",
              "      <td>8</td>\n",
              "      <td>8</td>\n",
              "      <td>0</td>\n",
              "      <td>8</td>\n",
              "      <td>4</td>\n",
              "      <td>1</td>\n",
              "      <td>0</td>\n",
              "      <td>12</td>\n",
              "      <td>6</td>\n",
              "      <td>0.000000</td>\n",
              "      <td>0.000000</td>\n",
              "      <td>0.0</td>\n",
              "      <td>4</td>\n",
              "      <td>0</td>\n",
              "      <td>4</td>\n",
              "      <td>0</td>\n",
              "      <td>0</td>\n",
              "      <td>0</td>\n",
              "      <td>4</td>\n",
              "      <td>0</td>\n",
              "      <td>0</td>\n",
              "      <td>0</td>\n",
              "      <td>0</td>\n",
              "      <td>0</td>\n",
              "      <td>0</td>\n",
              "      <td>0</td>\n",
              "      <td>0</td>\n",
              "      <td>0</td>\n",
              "      <td>0</td>\n",
              "      <td>0</td>\n",
              "      <td>0</td>\n",
              "      <td>25</td>\n",
              "      <td>0</td>\n",
              "      <td>0</td>\n",
              "      <td>0</td>\n",
              "      <td>0</td>\n",
              "      <td>0</td>\n",
              "      <td>0</td>\n",
              "      <td>1</td>\n",
              "      <td>7</td>\n",
              "      <td>0</td>\n",
              "      <td>7</td>\n",
              "      <td>0</td>\n",
              "      <td>0</td>\n",
              "      <td>0</td>\n",
              "      <td>0</td>\n",
              "      <td>35</td>\n",
              "      <td>1</td>\n",
              "      <td>0</td>\n",
              "      <td>0</td>\n",
              "      <td>0</td>\n",
              "      <td>0.0</td>\n",
              "      <td>2.3.20</td>\n",
              "    </tr>\n",
              "    <tr>\n",
              "      <th>3</th>\n",
              "      <td>apps/portlet/src/test/java/JettyPlutoLauncher....</td>\n",
              "      <td>class</td>\n",
              "      <td>4</td>\n",
              "      <td>4</td>\n",
              "      <td>0</td>\n",
              "      <td>4</td>\n",
              "      <td>1</td>\n",
              "      <td>1</td>\n",
              "      <td>0</td>\n",
              "      <td>7</td>\n",
              "      <td>0</td>\n",
              "      <td>0.000000</td>\n",
              "      <td>0.000000</td>\n",
              "      <td>0.0</td>\n",
              "      <td>1</td>\n",
              "      <td>1</td>\n",
              "      <td>1</td>\n",
              "      <td>0</td>\n",
              "      <td>0</td>\n",
              "      <td>0</td>\n",
              "      <td>1</td>\n",
              "      <td>0</td>\n",
              "      <td>0</td>\n",
              "      <td>0</td>\n",
              "      <td>0</td>\n",
              "      <td>0</td>\n",
              "      <td>0</td>\n",
              "      <td>0</td>\n",
              "      <td>0</td>\n",
              "      <td>0</td>\n",
              "      <td>0</td>\n",
              "      <td>0</td>\n",
              "      <td>1</td>\n",
              "      <td>14</td>\n",
              "      <td>0</td>\n",
              "      <td>0</td>\n",
              "      <td>0</td>\n",
              "      <td>0</td>\n",
              "      <td>0</td>\n",
              "      <td>8</td>\n",
              "      <td>2</td>\n",
              "      <td>3</td>\n",
              "      <td>0</td>\n",
              "      <td>3</td>\n",
              "      <td>0</td>\n",
              "      <td>0</td>\n",
              "      <td>0</td>\n",
              "      <td>0</td>\n",
              "      <td>26</td>\n",
              "      <td>1</td>\n",
              "      <td>0</td>\n",
              "      <td>0</td>\n",
              "      <td>0</td>\n",
              "      <td>0.0</td>\n",
              "      <td>2.3.20</td>\n",
              "    </tr>\n",
              "    <tr>\n",
              "      <th>4</th>\n",
              "      <td>plugins/codebehind/src/test/java/org/apache/st...</td>\n",
              "      <td>class</td>\n",
              "      <td>1</td>\n",
              "      <td>1</td>\n",
              "      <td>0</td>\n",
              "      <td>1</td>\n",
              "      <td>0</td>\n",
              "      <td>1</td>\n",
              "      <td>0</td>\n",
              "      <td>0</td>\n",
              "      <td>0</td>\n",
              "      <td>0.000000</td>\n",
              "      <td>-1.000000</td>\n",
              "      <td>-1.0</td>\n",
              "      <td>0</td>\n",
              "      <td>0</td>\n",
              "      <td>0</td>\n",
              "      <td>0</td>\n",
              "      <td>0</td>\n",
              "      <td>0</td>\n",
              "      <td>0</td>\n",
              "      <td>0</td>\n",
              "      <td>0</td>\n",
              "      <td>0</td>\n",
              "      <td>0</td>\n",
              "      <td>0</td>\n",
              "      <td>0</td>\n",
              "      <td>0</td>\n",
              "      <td>0</td>\n",
              "      <td>0</td>\n",
              "      <td>0</td>\n",
              "      <td>0</td>\n",
              "      <td>0</td>\n",
              "      <td>2</td>\n",
              "      <td>0</td>\n",
              "      <td>0</td>\n",
              "      <td>0</td>\n",
              "      <td>0</td>\n",
              "      <td>0</td>\n",
              "      <td>1</td>\n",
              "      <td>0</td>\n",
              "      <td>0</td>\n",
              "      <td>0</td>\n",
              "      <td>0</td>\n",
              "      <td>0</td>\n",
              "      <td>0</td>\n",
              "      <td>0</td>\n",
              "      <td>0</td>\n",
              "      <td>4</td>\n",
              "      <td>1</td>\n",
              "      <td>0</td>\n",
              "      <td>0</td>\n",
              "      <td>0</td>\n",
              "      <td>0.0</td>\n",
              "      <td>2.3.20</td>\n",
              "    </tr>\n",
              "    <tr>\n",
              "      <th>...</th>\n",
              "      <td>...</td>\n",
              "      <td>...</td>\n",
              "      <td>...</td>\n",
              "      <td>...</td>\n",
              "      <td>...</td>\n",
              "      <td>...</td>\n",
              "      <td>...</td>\n",
              "      <td>...</td>\n",
              "      <td>...</td>\n",
              "      <td>...</td>\n",
              "      <td>...</td>\n",
              "      <td>...</td>\n",
              "      <td>...</td>\n",
              "      <td>...</td>\n",
              "      <td>...</td>\n",
              "      <td>...</td>\n",
              "      <td>...</td>\n",
              "      <td>...</td>\n",
              "      <td>...</td>\n",
              "      <td>...</td>\n",
              "      <td>...</td>\n",
              "      <td>...</td>\n",
              "      <td>...</td>\n",
              "      <td>...</td>\n",
              "      <td>...</td>\n",
              "      <td>...</td>\n",
              "      <td>...</td>\n",
              "      <td>...</td>\n",
              "      <td>...</td>\n",
              "      <td>...</td>\n",
              "      <td>...</td>\n",
              "      <td>...</td>\n",
              "      <td>...</td>\n",
              "      <td>...</td>\n",
              "      <td>...</td>\n",
              "      <td>...</td>\n",
              "      <td>...</td>\n",
              "      <td>...</td>\n",
              "      <td>...</td>\n",
              "      <td>...</td>\n",
              "      <td>...</td>\n",
              "      <td>...</td>\n",
              "      <td>...</td>\n",
              "      <td>...</td>\n",
              "      <td>...</td>\n",
              "      <td>...</td>\n",
              "      <td>...</td>\n",
              "      <td>...</td>\n",
              "      <td>...</td>\n",
              "      <td>...</td>\n",
              "      <td>...</td>\n",
              "      <td>...</td>\n",
              "      <td>...</td>\n",
              "      <td>...</td>\n",
              "      <td>...</td>\n",
              "    </tr>\n",
              "    <tr>\n",
              "      <th>19367</th>\n",
              "      <td>plugins/convention/src/test/java/org/apache/st...</td>\n",
              "      <td>class</td>\n",
              "      <td>0</td>\n",
              "      <td>1</td>\n",
              "      <td>1</td>\n",
              "      <td>0</td>\n",
              "      <td>1</td>\n",
              "      <td>1</td>\n",
              "      <td>0</td>\n",
              "      <td>0</td>\n",
              "      <td>0</td>\n",
              "      <td>0.000000</td>\n",
              "      <td>0.000000</td>\n",
              "      <td>0.0</td>\n",
              "      <td>1</td>\n",
              "      <td>0</td>\n",
              "      <td>1</td>\n",
              "      <td>0</td>\n",
              "      <td>0</td>\n",
              "      <td>0</td>\n",
              "      <td>1</td>\n",
              "      <td>0</td>\n",
              "      <td>0</td>\n",
              "      <td>0</td>\n",
              "      <td>0</td>\n",
              "      <td>0</td>\n",
              "      <td>0</td>\n",
              "      <td>0</td>\n",
              "      <td>0</td>\n",
              "      <td>0</td>\n",
              "      <td>0</td>\n",
              "      <td>0</td>\n",
              "      <td>0</td>\n",
              "      <td>5</td>\n",
              "      <td>1</td>\n",
              "      <td>0</td>\n",
              "      <td>0</td>\n",
              "      <td>0</td>\n",
              "      <td>0</td>\n",
              "      <td>0</td>\n",
              "      <td>0</td>\n",
              "      <td>0</td>\n",
              "      <td>0</td>\n",
              "      <td>0</td>\n",
              "      <td>0</td>\n",
              "      <td>0</td>\n",
              "      <td>0</td>\n",
              "      <td>0</td>\n",
              "      <td>16</td>\n",
              "      <td>1</td>\n",
              "      <td>0</td>\n",
              "      <td>0</td>\n",
              "      <td>0</td>\n",
              "      <td>0.0</td>\n",
              "      <td>2.5.26</td>\n",
              "    </tr>\n",
              "    <tr>\n",
              "      <th>19368</th>\n",
              "      <td>core/src/main/java/com/opensymphony/xwork2/Act...</td>\n",
              "      <td>class</td>\n",
              "      <td>14</td>\n",
              "      <td>33</td>\n",
              "      <td>19</td>\n",
              "      <td>14</td>\n",
              "      <td>49</td>\n",
              "      <td>1</td>\n",
              "      <td>19</td>\n",
              "      <td>56</td>\n",
              "      <td>585</td>\n",
              "      <td>0.883721</td>\n",
              "      <td>0.000000</td>\n",
              "      <td>0.0</td>\n",
              "      <td>43</td>\n",
              "      <td>0</td>\n",
              "      <td>40</td>\n",
              "      <td>0</td>\n",
              "      <td>3</td>\n",
              "      <td>0</td>\n",
              "      <td>43</td>\n",
              "      <td>0</td>\n",
              "      <td>0</td>\n",
              "      <td>0</td>\n",
              "      <td>5</td>\n",
              "      <td>1</td>\n",
              "      <td>0</td>\n",
              "      <td>4</td>\n",
              "      <td>1</td>\n",
              "      <td>0</td>\n",
              "      <td>2</td>\n",
              "      <td>0</td>\n",
              "      <td>5</td>\n",
              "      <td>168</td>\n",
              "      <td>30</td>\n",
              "      <td>0</td>\n",
              "      <td>4</td>\n",
              "      <td>0</td>\n",
              "      <td>0</td>\n",
              "      <td>3</td>\n",
              "      <td>1</td>\n",
              "      <td>15</td>\n",
              "      <td>0</td>\n",
              "      <td>14</td>\n",
              "      <td>3</td>\n",
              "      <td>0</td>\n",
              "      <td>0</td>\n",
              "      <td>0</td>\n",
              "      <td>194</td>\n",
              "      <td>1</td>\n",
              "      <td>3</td>\n",
              "      <td>0</td>\n",
              "      <td>0</td>\n",
              "      <td>0.0</td>\n",
              "      <td>2.5.26</td>\n",
              "    </tr>\n",
              "    <tr>\n",
              "      <th>19369</th>\n",
              "      <td>apps/showcase/src/test/java/it/org/apache/stru...</td>\n",
              "      <td>class</td>\n",
              "      <td>2</td>\n",
              "      <td>13</td>\n",
              "      <td>11</td>\n",
              "      <td>2</td>\n",
              "      <td>1</td>\n",
              "      <td>2</td>\n",
              "      <td>11</td>\n",
              "      <td>3</td>\n",
              "      <td>0</td>\n",
              "      <td>0.000000</td>\n",
              "      <td>0.000000</td>\n",
              "      <td>0.0</td>\n",
              "      <td>1</td>\n",
              "      <td>0</td>\n",
              "      <td>1</td>\n",
              "      <td>0</td>\n",
              "      <td>0</td>\n",
              "      <td>0</td>\n",
              "      <td>1</td>\n",
              "      <td>0</td>\n",
              "      <td>0</td>\n",
              "      <td>0</td>\n",
              "      <td>0</td>\n",
              "      <td>0</td>\n",
              "      <td>0</td>\n",
              "      <td>0</td>\n",
              "      <td>0</td>\n",
              "      <td>0</td>\n",
              "      <td>0</td>\n",
              "      <td>0</td>\n",
              "      <td>1</td>\n",
              "      <td>5</td>\n",
              "      <td>0</td>\n",
              "      <td>0</td>\n",
              "      <td>0</td>\n",
              "      <td>0</td>\n",
              "      <td>0</td>\n",
              "      <td>0</td>\n",
              "      <td>0</td>\n",
              "      <td>0</td>\n",
              "      <td>0</td>\n",
              "      <td>0</td>\n",
              "      <td>0</td>\n",
              "      <td>0</td>\n",
              "      <td>0</td>\n",
              "      <td>0</td>\n",
              "      <td>11</td>\n",
              "      <td>1025</td>\n",
              "      <td>0</td>\n",
              "      <td>0</td>\n",
              "      <td>0</td>\n",
              "      <td>0.0</td>\n",
              "      <td>2.5.26</td>\n",
              "    </tr>\n",
              "    <tr>\n",
              "      <th>19370</th>\n",
              "      <td>core/src/main/java/org/apache/struts2/views/xs...</td>\n",
              "      <td>class</td>\n",
              "      <td>2</td>\n",
              "      <td>3</td>\n",
              "      <td>1</td>\n",
              "      <td>2</td>\n",
              "      <td>4</td>\n",
              "      <td>1</td>\n",
              "      <td>0</td>\n",
              "      <td>8</td>\n",
              "      <td>0</td>\n",
              "      <td>0.166667</td>\n",
              "      <td>0.000000</td>\n",
              "      <td>0.0</td>\n",
              "      <td>2</td>\n",
              "      <td>0</td>\n",
              "      <td>2</td>\n",
              "      <td>0</td>\n",
              "      <td>0</td>\n",
              "      <td>0</td>\n",
              "      <td>2</td>\n",
              "      <td>0</td>\n",
              "      <td>0</td>\n",
              "      <td>0</td>\n",
              "      <td>3</td>\n",
              "      <td>1</td>\n",
              "      <td>0</td>\n",
              "      <td>2</td>\n",
              "      <td>0</td>\n",
              "      <td>1</td>\n",
              "      <td>1</td>\n",
              "      <td>0</td>\n",
              "      <td>0</td>\n",
              "      <td>22</td>\n",
              "      <td>1</td>\n",
              "      <td>0</td>\n",
              "      <td>1</td>\n",
              "      <td>0</td>\n",
              "      <td>0</td>\n",
              "      <td>7</td>\n",
              "      <td>0</td>\n",
              "      <td>5</td>\n",
              "      <td>2</td>\n",
              "      <td>5</td>\n",
              "      <td>2</td>\n",
              "      <td>0</td>\n",
              "      <td>0</td>\n",
              "      <td>0</td>\n",
              "      <td>58</td>\n",
              "      <td>1</td>\n",
              "      <td>3</td>\n",
              "      <td>0</td>\n",
              "      <td>0</td>\n",
              "      <td>0.0</td>\n",
              "      <td>2.5.26</td>\n",
              "    </tr>\n",
              "    <tr>\n",
              "      <th>19371</th>\n",
              "      <td>core/src/main/java/com/opensymphony/xwork2/Def...</td>\n",
              "      <td>class</td>\n",
              "      <td>8</td>\n",
              "      <td>11</td>\n",
              "      <td>3</td>\n",
              "      <td>8</td>\n",
              "      <td>10</td>\n",
              "      <td>1</td>\n",
              "      <td>1</td>\n",
              "      <td>7</td>\n",
              "      <td>39</td>\n",
              "      <td>0.700000</td>\n",
              "      <td>0.000000</td>\n",
              "      <td>0.0</td>\n",
              "      <td>10</td>\n",
              "      <td>0</td>\n",
              "      <td>9</td>\n",
              "      <td>0</td>\n",
              "      <td>1</td>\n",
              "      <td>0</td>\n",
              "      <td>10</td>\n",
              "      <td>0</td>\n",
              "      <td>0</td>\n",
              "      <td>0</td>\n",
              "      <td>1</td>\n",
              "      <td>0</td>\n",
              "      <td>0</td>\n",
              "      <td>0</td>\n",
              "      <td>1</td>\n",
              "      <td>0</td>\n",
              "      <td>0</td>\n",
              "      <td>0</td>\n",
              "      <td>0</td>\n",
              "      <td>38</td>\n",
              "      <td>8</td>\n",
              "      <td>0</td>\n",
              "      <td>0</td>\n",
              "      <td>0</td>\n",
              "      <td>0</td>\n",
              "      <td>0</td>\n",
              "      <td>0</td>\n",
              "      <td>3</td>\n",
              "      <td>0</td>\n",
              "      <td>3</td>\n",
              "      <td>0</td>\n",
              "      <td>0</td>\n",
              "      <td>0</td>\n",
              "      <td>0</td>\n",
              "      <td>22</td>\n",
              "      <td>1</td>\n",
              "      <td>0</td>\n",
              "      <td>0</td>\n",
              "      <td>0</td>\n",
              "      <td>0.0</td>\n",
              "      <td>2.5.26</td>\n",
              "    </tr>\n",
              "  </tbody>\n",
              "</table>\n",
              "<p>19372 rows × 55 columns</p>\n",
              "</div>\n",
              "      <button class=\"colab-df-convert\" onclick=\"convertToInteractive('df-b2b69127-d965-4ff2-a2e9-35005799a280')\"\n",
              "              title=\"Convert this dataframe to an interactive table.\"\n",
              "              style=\"display:none;\">\n",
              "        \n",
              "  <svg xmlns=\"http://www.w3.org/2000/svg\" height=\"24px\"viewBox=\"0 0 24 24\"\n",
              "       width=\"24px\">\n",
              "    <path d=\"M0 0h24v24H0V0z\" fill=\"none\"/>\n",
              "    <path d=\"M18.56 5.44l.94 2.06.94-2.06 2.06-.94-2.06-.94-.94-2.06-.94 2.06-2.06.94zm-11 1L8.5 8.5l.94-2.06 2.06-.94-2.06-.94L8.5 2.5l-.94 2.06-2.06.94zm10 10l.94 2.06.94-2.06 2.06-.94-2.06-.94-.94-2.06-.94 2.06-2.06.94z\"/><path d=\"M17.41 7.96l-1.37-1.37c-.4-.4-.92-.59-1.43-.59-.52 0-1.04.2-1.43.59L10.3 9.45l-7.72 7.72c-.78.78-.78 2.05 0 2.83L4 21.41c.39.39.9.59 1.41.59.51 0 1.02-.2 1.41-.59l7.78-7.78 2.81-2.81c.8-.78.8-2.07 0-2.86zM5.41 20L4 18.59l7.72-7.72 1.47 1.35L5.41 20z\"/>\n",
              "  </svg>\n",
              "      </button>\n",
              "      \n",
              "  <style>\n",
              "    .colab-df-container {\n",
              "      display:flex;\n",
              "      flex-wrap:wrap;\n",
              "      gap: 12px;\n",
              "    }\n",
              "\n",
              "    .colab-df-convert {\n",
              "      background-color: #E8F0FE;\n",
              "      border: none;\n",
              "      border-radius: 50%;\n",
              "      cursor: pointer;\n",
              "      display: none;\n",
              "      fill: #1967D2;\n",
              "      height: 32px;\n",
              "      padding: 0 0 0 0;\n",
              "      width: 32px;\n",
              "    }\n",
              "\n",
              "    .colab-df-convert:hover {\n",
              "      background-color: #E2EBFA;\n",
              "      box-shadow: 0px 1px 2px rgba(60, 64, 67, 0.3), 0px 1px 3px 1px rgba(60, 64, 67, 0.15);\n",
              "      fill: #174EA6;\n",
              "    }\n",
              "\n",
              "    [theme=dark] .colab-df-convert {\n",
              "      background-color: #3B4455;\n",
              "      fill: #D2E3FC;\n",
              "    }\n",
              "\n",
              "    [theme=dark] .colab-df-convert:hover {\n",
              "      background-color: #434B5C;\n",
              "      box-shadow: 0px 1px 3px 1px rgba(0, 0, 0, 0.15);\n",
              "      filter: drop-shadow(0px 1px 2px rgba(0, 0, 0, 0.3));\n",
              "      fill: #FFFFFF;\n",
              "    }\n",
              "  </style>\n",
              "\n",
              "      <script>\n",
              "        const buttonEl =\n",
              "          document.querySelector('#df-b2b69127-d965-4ff2-a2e9-35005799a280 button.colab-df-convert');\n",
              "        buttonEl.style.display =\n",
              "          google.colab.kernel.accessAllowed ? 'block' : 'none';\n",
              "\n",
              "        async function convertToInteractive(key) {\n",
              "          const element = document.querySelector('#df-b2b69127-d965-4ff2-a2e9-35005799a280');\n",
              "          const dataTable =\n",
              "            await google.colab.kernel.invokeFunction('convertToInteractive',\n",
              "                                                     [key], {});\n",
              "          if (!dataTable) return;\n",
              "\n",
              "          const docLinkHtml = 'Like what you see? Visit the ' +\n",
              "            '<a target=\"_blank\" href=https://colab.research.google.com/notebooks/data_table.ipynb>data table notebook</a>'\n",
              "            + ' to learn more about interactive tables.';\n",
              "          element.innerHTML = '';\n",
              "          dataTable['output_type'] = 'display_data';\n",
              "          await google.colab.output.renderOutput(dataTable, element);\n",
              "          const docLink = document.createElement('div');\n",
              "          docLink.innerHTML = docLinkHtml;\n",
              "          element.appendChild(docLink);\n",
              "        }\n",
              "      </script>\n",
              "    </div>\n",
              "  </div>\n",
              "  "
            ]
          },
          "metadata": {},
          "execution_count": 4
        }
      ],
      "source": [
        "df"
      ]
    },
    {
      "cell_type": "markdown",
      "metadata": {
        "id": "qPqFGx8-ZKQq"
      },
      "source": [
        "### Data preprocessing and cleanup"
      ]
    },
    {
      "cell_type": "code",
      "execution_count": 5,
      "metadata": {
        "id": "MX6JZPhgZKQr"
      },
      "outputs": [],
      "source": [
        "df.loc[df['title'].str.contains('Denial', case=False),'title'] = 'DoS'\n",
        "df.loc[df['title'].str.contains('CSRF', case=False),'title'] = 'CSRF'\n",
        "df.loc[df['title'].str.contains('information disclosure', case=False),'title'] = 'Information Disclosure'\n",
        "df.loc[df['title'].str.contains('cve-2020-9484', case=False),'title'] = 'Remote Code execution'\n",
        "df.loc[df['title'].str.contains('session hijacking', case=False),'title'] = 'Remote Code execution'\n",
        "df = df.drop_duplicates(keep='first').reset_index(drop=True)"
      ]
    },
    {
      "cell_type": "markdown",
      "metadata": {
        "id": "tmuhlEV2ZKQs"
      },
      "source": [
        "Unique severities (Debugging)"
      ]
    },
    {
      "cell_type": "code",
      "execution_count": 6,
      "metadata": {
        "id": "4d3h-sUqZKQs",
        "colab": {
          "base_uri": "https://localhost:8080/"
        },
        "outputId": "dcc6036c-c4f1-4e6b-a4ab-e0b96cd248c4"
      },
      "outputs": [
        {
          "output_type": "execute_result",
          "data": {
            "text/plain": [
              "array(['0', 'high', 'critical', 'medium'], dtype=object)"
            ]
          },
          "metadata": {},
          "execution_count": 6
        }
      ],
      "source": [
        "df.severity.unique()"
      ]
    },
    {
      "cell_type": "markdown",
      "metadata": {
        "id": "1C-fZQURZKQt"
      },
      "source": [
        "### K-fold cross validation"
      ]
    },
    {
      "cell_type": "code",
      "source": [
        "print(f'Total number of versions / releases: {len(df.version.unique())}')"
      ],
      "metadata": {
        "id": "urYMr3YMRPen",
        "outputId": "e46c6a37-837c-4b80-9145-c4732936b343",
        "colab": {
          "base_uri": "https://localhost:8080/"
        }
      },
      "execution_count": 7,
      "outputs": [
        {
          "output_type": "stream",
          "name": "stdout",
          "text": [
            "Total number of versions / releases: 11\n"
          ]
        }
      ]
    },
    {
      "cell_type": "code",
      "execution_count": 8,
      "metadata": {
        "colab": {
          "base_uri": "https://localhost:8080/"
        },
        "id": "SBUwGUHOZKQt",
        "outputId": "269d36de-234b-4f08-ec51-c16588c327ad"
      },
      "outputs": [
        {
          "output_type": "stream",
          "name": "stdout",
          "text": [
            "Shape of dataframe (19365, 55)\n"
          ]
        }
      ],
      "source": [
        "train = df.loc[~(df.version==\"2.3.20\")]\n",
        "test = df.loc[df.version==\"2.3.20\"]\n",
        "kfold = KFold(10, shuffle=True, random_state=1)\n",
        "feature_columns =df.columns[2:-4] \n",
        "print(\"Shape of dataframe\", df.shape)"
      ]
    },
    {
      "cell_type": "markdown",
      "metadata": {
        "id": "l-tbZ4bXZKQt"
      },
      "source": [
        "### Label encoding the string values in the columns"
      ]
    },
    {
      "cell_type": "code",
      "execution_count": 9,
      "metadata": {
        "colab": {
          "base_uri": "https://localhost:8080/"
        },
        "id": "UxQ0eUsTZKQu",
        "outputId": "3eb9d5cc-b181-448e-c18e-24e1c77900e8"
      },
      "outputs": [
        {
          "output_type": "stream",
          "name": "stdout",
          "text": [
            "Encoded...\n"
          ]
        }
      ],
      "source": [
        "s = (train.dtypes == 'object')\n",
        "object_cols = ['severity', 'title']\n",
        "\n",
        "label_X_train = train.copy()\n",
        "label_X_test = test.copy()\n",
        "\n",
        "le = LabelEncoder()\n",
        "label_X_train[object_cols] = train[object_cols].apply(le.fit_transform)\n",
        "label_X_test[object_cols] = test[object_cols].apply(le.fit_transform)\n",
        "print('Encoded...')"
      ]
    },
    {
      "cell_type": "code",
      "source": [
        "def x_y_split(index):\n",
        "  y_cols = ['vulnerable','severity','title']\n",
        "  X = train[feature_columns]\n",
        "  test_X = test[feature_columns]\n",
        "  if y_cols[index] == 'vulnerable':\n",
        "    y = train[y_cols[index]]\n",
        "    test_Y = test[y_cols[index]]\n",
        "  else:\n",
        "    y = label_X_train[y_cols[index]]\n",
        "    test_Y = label_X_test[y_cols[index]]\n",
        "  return X , y, test_X, test_Y"
      ],
      "metadata": {
        "id": "K5TKAisEH4C1"
      },
      "execution_count": 10,
      "outputs": []
    },
    {
      "cell_type": "markdown",
      "source": [
        "### Change target variables here.\n",
        "The target variables are vulnerable, severity and title. Thus changing the value of index between 0-2 will change the target variable required for prediction."
      ],
      "metadata": {
        "id": "pIvLHEPuH8t4"
      }
    },
    {
      "cell_type": "code",
      "source": [
        "X, y, test_X, test_Y = x_y_split(0)"
      ],
      "metadata": {
        "id": "fIWQlFS-KLKR"
      },
      "execution_count": 41,
      "outputs": []
    },
    {
      "cell_type": "markdown",
      "metadata": {
        "id": "dDghBdCHZKQu"
      },
      "source": [
        "### Random over-sampling"
      ]
    },
    {
      "cell_type": "code",
      "execution_count": 42,
      "metadata": {
        "id": "liN5I3MgZKQv"
      },
      "outputs": [],
      "source": [
        "ros = RandomOverSampler()\n",
        "X_ros, y_ros = ros.fit_resample(X, y)"
      ]
    },
    {
      "cell_type": "markdown",
      "metadata": {
        "id": "eL-HeNc2ZKQv"
      },
      "source": [
        "### Feature selection"
      ]
    },
    {
      "cell_type": "markdown",
      "metadata": {
        "id": "d_Kof_QsZKQv"
      },
      "source": [
        "#### Sequential Feature Selection"
      ]
    },
    {
      "cell_type": "code",
      "execution_count": null,
      "metadata": {
        "id": "O2MRwdSxZKQv",
        "outputId": "4818d2a3-ddf6-43ae-9ca5-12638cf161d0"
      },
      "outputs": [
        {
          "name": "stderr",
          "output_type": "stream",
          "text": [
            "/Users/sundarakrishnang/Library/Python/3.8/lib/python/site-packages/sklearn/linear_model/_logistic.py:814: ConvergenceWarning: lbfgs failed to converge (status=2):\n",
            "ABNORMAL_TERMINATION_IN_LNSRCH.\n",
            "\n",
            "Increase the number of iterations (max_iter) or scale the data as shown in:\n",
            "    https://scikit-learn.org/stable/modules/preprocessing.html\n",
            "Please also refer to the documentation for alternative solver options:\n",
            "    https://scikit-learn.org/stable/modules/linear_model.html#logistic-regression\n",
            "  n_iter_i = _check_optimize_result(\n",
            "/Users/sundarakrishnang/Library/Python/3.8/lib/python/site-packages/sklearn/linear_model/_logistic.py:814: ConvergenceWarning: lbfgs failed to converge (status=1):\n",
            "STOP: TOTAL NO. of ITERATIONS REACHED LIMIT.\n",
            "\n",
            "Increase the number of iterations (max_iter) or scale the data as shown in:\n",
            "    https://scikit-learn.org/stable/modules/preprocessing.html\n",
            "Please also refer to the documentation for alternative solver options:\n",
            "    https://scikit-learn.org/stable/modules/linear_model.html#logistic-regression\n",
            "  n_iter_i = _check_optimize_result(\n",
            "\n",
            "STOPPING EARLY DUE TO KEYBOARD INTERRUPT..."
          ]
        },
        {
          "data": {
            "text/plain": [
              "['cbo']"
            ]
          },
          "execution_count": 11,
          "metadata": {},
          "output_type": "execute_result"
        }
      ],
      "source": [
        "sfs = SFS(LogisticRegression(), \n",
        "           k_features='best', \n",
        "           forward=True, # if forward = True then SFS otherwise SBS\n",
        "           floating=False, \n",
        "           scoring='r2',\n",
        "          cv=5)\n",
        "sfs.fit(X,y)\n",
        "sfs_features = list(sfs.k_feature_names_)\n",
        "sfs_features"
      ]
    },
    {
      "cell_type": "markdown",
      "metadata": {
        "id": "rGxuzHP_ZKQw"
      },
      "source": [
        "#### Random Feature Elimination"
      ]
    },
    {
      "cell_type": "code",
      "execution_count": 43,
      "metadata": {
        "id": "jJdOcJQOZKQw"
      },
      "outputs": [],
      "source": [
        "rfe = RFE(estimator=DecisionTreeClassifier())\n",
        "rfe.fit(X_ros, y_ros)\n",
        "rfe_features = []\n",
        "for i in range(X.shape[1]):\n",
        "    if(rfe.support_[i] == 1):\n",
        "        rfe_features.append(X.columns[i])"
      ]
    },
    {
      "cell_type": "markdown",
      "source": [
        "### Features vs rankings visualizations"
      ],
      "metadata": {
        "id": "o0Z-3F70LHbO"
      }
    },
    {
      "cell_type": "code",
      "source": [
        "rfe_rankings = []\n",
        "for i in range(len(X.columns)):\n",
        "  rfe_rankings.append({\"feature\":X.columns[i], \"rank\":rfe.ranking_[i]})"
      ],
      "metadata": {
        "id": "CD3GP_fF2pJg"
      },
      "execution_count": null,
      "outputs": []
    },
    {
      "cell_type": "code",
      "source": [
        "ranks_df = pd.DataFrame(rfe_rankings)\n",
        "features = ranks_df.feature.values[:]\n",
        "ranks = ranks_df['rank'].values[:]\n",
        "fig, ax = plt.subplots(figsize=(10,10))\n",
        "ax.barh(features, ranks, color='black')\n",
        "ax.grid(b = True, color ='grey',\n",
        "        linestyle ='-.', linewidth = 0.5,\n",
        "        alpha = 0.2)\n",
        "for i in ax.patches:\n",
        "    plt.text(i.get_width()+0.2, i.get_y()+0.1,\n",
        "             str(round((i.get_width()), 2)),\n",
        "             fontsize = 8,\n",
        "             color ='black')\n",
        "plt.xlabel(\"Ranks\")\n",
        "plt.ylabel(\"Features\")\n",
        "plt.title(\"Features ranked by RFE\")"
      ],
      "metadata": {
        "id": "LpNa3Dyp6yrw",
        "outputId": "8e1ba8f7-8eca-4df8-defa-baf1844344d6",
        "colab": {
          "base_uri": "https://localhost:8080/",
          "height": 639
        }
      },
      "execution_count": null,
      "outputs": [
        {
          "output_type": "execute_result",
          "data": {
            "text/plain": [
              "Text(0.5, 1.0, 'Features ranked by RFE')"
            ]
          },
          "metadata": {},
          "execution_count": 17
        },
        {
          "output_type": "display_data",
          "data": {
            "text/plain": [
              "<Figure size 720x720 with 1 Axes>"
            ],
            "image/png": "[encoded data removed]"
          },
          "metadata": {
            "needs_background": "light"
          }
        }
      ]
    },
    {
      "cell_type": "markdown",
      "metadata": {
        "id": "R-es0hypZKQw"
      },
      "source": [
        "fit_feature_set() - A simple function to fit a feature set."
      ]
    },
    {
      "cell_type": "code",
      "execution_count": 44,
      "metadata": {
        "id": "OPTgEismZKQw"
      },
      "outputs": [],
      "source": [
        "def fit_feature_set(feature_set):\n",
        "    X_ros = train[feature_set]\n",
        "    test_X = test[feature_set]"
      ]
    },
    {
      "cell_type": "markdown",
      "metadata": {
        "id": "BFljmawxZKQw"
      },
      "source": [
        "### Machine learning"
      ]
    },
    {
      "cell_type": "markdown",
      "source": [
        "So if I run the models using cross_val_score(), ie., with k fold cross validation within themselves, then I get different accuracies for different \"folds\" of data."
      ],
      "metadata": {
        "id": "9jUXdvPKSHUm"
      }
    },
    {
      "cell_type": "code",
      "execution_count": 45,
      "metadata": {
        "id": "CeQ5B7IbZKQx"
      },
      "outputs": [],
      "source": [
        "fit_feature_set(rfe_features)"
      ]
    },
    {
      "cell_type": "code",
      "execution_count": 51,
      "metadata": {
        "trusted": true,
        "id": "NrD2jbj0ZKQx"
      },
      "outputs": [],
      "source": [
        "def predict(model):\n",
        "  model.fit(X_ros, y_ros)\n",
        "  predictions = model.predict(test_X)\n",
        "  accuracy = accuracy_score(test_Y,predictions)\n",
        "  precision = precision_score(test_Y, predictions, average='micro')\n",
        "  recall =recall_score(test_Y, predictions)\n",
        "  return [accuracy, precision, recall, predictions]"
      ]
    },
    {
      "cell_type": "markdown",
      "metadata": {
        "id": "Ccq-TL1iZKQx"
      },
      "source": [
        "#### Decision tree classifier"
      ]
    },
    {
      "cell_type": "code",
      "source": [
        "dt = DecisionTreeClassifier(ccp_alpha=0.036)\n",
        "metrics = []\n",
        "for i in range(10):\n",
        "  metrics.append(predict(dt)[0])\n",
        "metrics"
      ],
      "metadata": {
        "colab": {
          "base_uri": "https://localhost:8080/"
        },
        "id": "nLnh2aKTM4v8",
        "outputId": "cee40829-b4a8-4018-8880-d24d5abd3fd1"
      },
      "execution_count": 56,
      "outputs": [
        {
          "output_type": "execute_result",
          "data": {
            "text/plain": [
              "[0.8277216610549943,\n",
              " 0.8277216610549943,\n",
              " 0.8277216610549943,\n",
              " 0.8277216610549943,\n",
              " 0.8277216610549943,\n",
              " 0.8277216610549943,\n",
              " 0.8277216610549943,\n",
              " 0.8277216610549943,\n",
              " 0.8277216610549943,\n",
              " 0.8277216610549943]"
            ]
          },
          "metadata": {},
          "execution_count": 56
        }
      ]
    },
    {
      "cell_type": "code",
      "execution_count": 57,
      "metadata": {
        "id": "Xn4RJGABZKQx",
        "outputId": "fe00d770-ce60-4021-b202-faa2d9a817fb",
        "colab": {
          "base_uri": "https://localhost:8080/",
          "height": 424
        }
      },
      "outputs": [
        {
          "output_type": "execute_result",
          "data": {
            "text/plain": [
              "      prediction  actual\n",
              "0              0       0\n",
              "1              0       0\n",
              "2              0       0\n",
              "3              0       0\n",
              "4              0       0\n",
              "...          ...     ...\n",
              "1777           0       0\n",
              "1778           0       0\n",
              "1779           0       0\n",
              "1780           0       0\n",
              "1781           0       0\n",
              "\n",
              "[1475 rows x 2 columns]"
            ],
            "text/html": [
              "\n",
              "  <div id=\"df-388240ea-823a-4f7f-8b93-ede025aecdd7\">\n",
              "    <div class=\"colab-df-container\">\n",
              "      <div>\n",
              "<style scoped>\n",
              "    .dataframe tbody tr th:only-of-type {\n",
              "        vertical-align: middle;\n",
              "    }\n",
              "\n",
              "    .dataframe tbody tr th {\n",
              "        vertical-align: top;\n",
              "    }\n",
              "\n",
              "    .dataframe thead th {\n",
              "        text-align: right;\n",
              "    }\n",
              "</style>\n",
              "<table border=\"1\" class=\"dataframe\">\n",
              "  <thead>\n",
              "    <tr style=\"text-align: right;\">\n",
              "      <th></th>\n",
              "      <th>prediction</th>\n",
              "      <th>actual</th>\n",
              "    </tr>\n",
              "  </thead>\n",
              "  <tbody>\n",
              "    <tr>\n",
              "      <th>0</th>\n",
              "      <td>0</td>\n",
              "      <td>0</td>\n",
              "    </tr>\n",
              "    <tr>\n",
              "      <th>1</th>\n",
              "      <td>0</td>\n",
              "      <td>0</td>\n",
              "    </tr>\n",
              "    <tr>\n",
              "      <th>2</th>\n",
              "      <td>0</td>\n",
              "      <td>0</td>\n",
              "    </tr>\n",
              "    <tr>\n",
              "      <th>3</th>\n",
              "      <td>0</td>\n",
              "      <td>0</td>\n",
              "    </tr>\n",
              "    <tr>\n",
              "      <th>4</th>\n",
              "      <td>0</td>\n",
              "      <td>0</td>\n",
              "    </tr>\n",
              "    <tr>\n",
              "      <th>...</th>\n",
              "      <td>...</td>\n",
              "      <td>...</td>\n",
              "    </tr>\n",
              "    <tr>\n",
              "      <th>1777</th>\n",
              "      <td>0</td>\n",
              "      <td>0</td>\n",
              "    </tr>\n",
              "    <tr>\n",
              "      <th>1778</th>\n",
              "      <td>0</td>\n",
              "      <td>0</td>\n",
              "    </tr>\n",
              "    <tr>\n",
              "      <th>1779</th>\n",
              "      <td>0</td>\n",
              "      <td>0</td>\n",
              "    </tr>\n",
              "    <tr>\n",
              "      <th>1780</th>\n",
              "      <td>0</td>\n",
              "      <td>0</td>\n",
              "    </tr>\n",
              "    <tr>\n",
              "      <th>1781</th>\n",
              "      <td>0</td>\n",
              "      <td>0</td>\n",
              "    </tr>\n",
              "  </tbody>\n",
              "</table>\n",
              "<p>1475 rows × 2 columns</p>\n",
              "</div>\n",
              "      <button class=\"colab-df-convert\" onclick=\"convertToInteractive('df-388240ea-823a-4f7f-8b93-ede025aecdd7')\"\n",
              "              title=\"Convert this dataframe to an interactive table.\"\n",
              "              style=\"display:none;\">\n",
              "        \n",
              "  <svg xmlns=\"http://www.w3.org/2000/svg\" height=\"24px\"viewBox=\"0 0 24 24\"\n",
              "       width=\"24px\">\n",
              "    <path d=\"M0 0h24v24H0V0z\" fill=\"none\"/>\n",
              "    <path d=\"M18.56 5.44l.94 2.06.94-2.06 2.06-.94-2.06-.94-.94-2.06-.94 2.06-2.06.94zm-11 1L8.5 8.5l.94-2.06 2.06-.94-2.06-.94L8.5 2.5l-.94 2.06-2.06.94zm10 10l.94 2.06.94-2.06 2.06-.94-2.06-.94-.94-2.06-.94 2.06-2.06.94z\"/><path d=\"M17.41 7.96l-1.37-1.37c-.4-.4-.92-.59-1.43-.59-.52 0-1.04.2-1.43.59L10.3 9.45l-7.72 7.72c-.78.78-.78 2.05 0 2.83L4 21.41c.39.39.9.59 1.41.59.51 0 1.02-.2 1.41-.59l7.78-7.78 2.81-2.81c.8-.78.8-2.07 0-2.86zM5.41 20L4 18.59l7.72-7.72 1.47 1.35L5.41 20z\"/>\n",
              "  </svg>\n",
              "      </button>\n",
              "      \n",
              "  <style>\n",
              "    .colab-df-container {\n",
              "      display:flex;\n",
              "      flex-wrap:wrap;\n",
              "      gap: 12px;\n",
              "    }\n",
              "\n",
              "    .colab-df-convert {\n",
              "      background-color: #E8F0FE;\n",
              "      border: none;\n",
              "      border-radius: 50%;\n",
              "      cursor: pointer;\n",
              "      display: none;\n",
              "      fill: #1967D2;\n",
              "      height: 32px;\n",
              "      padding: 0 0 0 0;\n",
              "      width: 32px;\n",
              "    }\n",
              "\n",
              "    .colab-df-convert:hover {\n",
              "      background-color: #E2EBFA;\n",
              "      box-shadow: 0px 1px 2px rgba(60, 64, 67, 0.3), 0px 1px 3px 1px rgba(60, 64, 67, 0.15);\n",
              "      fill: #174EA6;\n",
              "    }\n",
              "\n",
              "    [theme=dark] .colab-df-convert {\n",
              "      background-color: #3B4455;\n",
              "      fill: #D2E3FC;\n",
              "    }\n",
              "\n",
              "    [theme=dark] .colab-df-convert:hover {\n",
              "      background-color: #434B5C;\n",
              "      box-shadow: 0px 1px 3px 1px rgba(0, 0, 0, 0.15);\n",
              "      filter: drop-shadow(0px 1px 2px rgba(0, 0, 0, 0.3));\n",
              "      fill: #FFFFFF;\n",
              "    }\n",
              "  </style>\n",
              "\n",
              "      <script>\n",
              "        const buttonEl =\n",
              "          document.querySelector('#df-388240ea-823a-4f7f-8b93-ede025aecdd7 button.colab-df-convert');\n",
              "        buttonEl.style.display =\n",
              "          google.colab.kernel.accessAllowed ? 'block' : 'none';\n",
              "\n",
              "        async function convertToInteractive(key) {\n",
              "          const element = document.querySelector('#df-388240ea-823a-4f7f-8b93-ede025aecdd7');\n",
              "          const dataTable =\n",
              "            await google.colab.kernel.invokeFunction('convertToInteractive',\n",
              "                                                     [key], {});\n",
              "          if (!dataTable) return;\n",
              "\n",
              "          const docLinkHtml = 'Like what you see? Visit the ' +\n",
              "            '<a target=\"_blank\" href=https://colab.research.google.com/notebooks/data_table.ipynb>data table notebook</a>'\n",
              "            + ' to learn more about interactive tables.';\n",
              "          element.innerHTML = '';\n",
              "          dataTable['output_type'] = 'display_data';\n",
              "          await google.colab.output.renderOutput(dataTable, element);\n",
              "          const docLink = document.createElement('div');\n",
              "          docLink.innerHTML = docLinkHtml;\n",
              "          element.appendChild(docLink);\n",
              "        }\n",
              "      </script>\n",
              "    </div>\n",
              "  </div>\n",
              "  "
            ]
          },
          "metadata": {},
          "execution_count": 57
        }
      ],
      "source": [
        "dt_df = pd.DataFrame([predict(dt)[3], test_Y]).T\n",
        "dt_df.columns = ['prediction', 'actual']\n",
        "dt_df['prediction'] = dt_df['prediction'].astype(int)\n",
        "dt_df['actual'] = dt_df['actual'].astype(int)\n",
        "dt_df.loc[(dt_df['prediction'] == dt_df['actual'])]"
      ]
    },
    {
      "cell_type": "markdown",
      "metadata": {
        "id": "3ZLpS8sFZKQy"
      },
      "source": [
        "#### KNN-classifier"
      ]
    },
    {
      "cell_type": "code",
      "source": [
        "metrics = []\n",
        "for i in range(11,20):\n",
        "  metrics.append(predict(KNN(n_neighbors=i))[0])\n",
        "metrics"
      ],
      "metadata": {
        "id": "EwY03BTUUfSN",
        "colab": {
          "base_uri": "https://localhost:8080/"
        },
        "outputId": "78eae8d9-844d-47d7-ea47-105bd8e7d9ed"
      },
      "execution_count": 62,
      "outputs": [
        {
          "output_type": "execute_result",
          "data": {
            "text/plain": [
              "[0.9932659932659933,\n",
              " 0.9932659932659933,\n",
              " 0.9932659932659933,\n",
              " 0.9932659932659933,\n",
              " 0.9932659932659933,\n",
              " 0.9932659932659933,\n",
              " 0.9932659932659933,\n",
              " 0.9932659932659933,\n",
              " 0.9927048260381593]"
            ]
          },
          "metadata": {},
          "execution_count": 62
        }
      ]
    },
    {
      "cell_type": "markdown",
      "source": [
        "Simplifying the KNN + RFE using a pipeline"
      ],
      "metadata": {
        "id": "b0Omk_Qt0Bls"
      }
    },
    {
      "cell_type": "code",
      "source": [
        "rfe_ = RFE(estimator=DecisionTreeClassifier())\n",
        "knn_model = KNN(metric='manhattan',algorithm='kd_tree')\n",
        "pipeline = Pipeline(steps=[('s',rfe_),('m',knn_model)])\n",
        "pipeline.fit(X_ros, y_ros)\n",
        "y_train_pred = pipeline.predict(X_ros)\n",
        "y_test_pred = pipeline.predict(test_X)\n",
        "train_scores, test_scores = list(), list()\n",
        "train_acc = accuracy_score(y_ros, y_train_pred)\n",
        "test_acc = accuracy_score(test_Y, y_test_pred)\n",
        "train_scores.append(accuracy_score(y_ros, y_train_pred))\n",
        "test_scores.append(accuracy_score(test_Y, y_test_pred))\n",
        "print('>%d, train: %.3f, test: %.3f' % (1, train_acc, test_acc))    "
      ],
      "metadata": {
        "id": "azJ8BsmQZPgg",
        "outputId": "846822ba-0e71-43f6-ab9d-8a2fde9341e5",
        "colab": {
          "base_uri": "https://localhost:8080/"
        }
      },
      "execution_count": null,
      "outputs": [
        {
          "output_type": "stream",
          "name": "stdout",
          "text": [
            ">1, train: 0.987, test: 0.994\n"
          ]
        }
      ]
    },
    {
      "cell_type": "markdown",
      "source": [
        "Debugging (IGNORE)"
      ],
      "metadata": {
        "id": "wnq3JcvV0L8t"
      }
    },
    {
      "cell_type": "code",
      "execution_count": 64,
      "metadata": {
        "id": "ZckFVKQTZKQy"
      },
      "outputs": [],
      "source": [
        "knn_df = pd.DataFrame([predict(KNN(n_neighbors=20))[3], test_Y]).T\n",
        "knn_df.columns = ['prediction', 'actual']\n",
        "knn_df['prediction'] = knn_df['prediction'].astype(int)\n",
        "knn_df['actual'] = knn_df['actual'].astype(int)"
      ]
    },
    {
      "cell_type": "code",
      "source": [
        "knn_df.loc[(knn_df['actual'] == knn_df['prediction'])]"
      ],
      "metadata": {
        "colab": {
          "base_uri": "https://localhost:8080/",
          "height": 424
        },
        "id": "r78CngU6Idl4",
        "outputId": "699570de-6771-46fd-fddc-8c35c6a9f603"
      },
      "execution_count": 66,
      "outputs": [
        {
          "output_type": "execute_result",
          "data": {
            "text/plain": [
              "      prediction  actual\n",
              "0              0       0\n",
              "1              0       0\n",
              "2              0       0\n",
              "3              0       0\n",
              "4              0       0\n",
              "...          ...     ...\n",
              "1777           0       0\n",
              "1778           0       0\n",
              "1779           0       0\n",
              "1780           0       0\n",
              "1781           0       0\n",
              "\n",
              "[1769 rows x 2 columns]"
            ],
            "text/html": [
              "\n",
              "  <div id=\"df-706af1c7-3989-4cf8-9e08-578bee34badb\">\n",
              "    <div class=\"colab-df-container\">\n",
              "      <div>\n",
              "<style scoped>\n",
              "    .dataframe tbody tr th:only-of-type {\n",
              "        vertical-align: middle;\n",
              "    }\n",
              "\n",
              "    .dataframe tbody tr th {\n",
              "        vertical-align: top;\n",
              "    }\n",
              "\n",
              "    .dataframe thead th {\n",
              "        text-align: right;\n",
              "    }\n",
              "</style>\n",
              "<table border=\"1\" class=\"dataframe\">\n",
              "  <thead>\n",
              "    <tr style=\"text-align: right;\">\n",
              "      <th></th>\n",
              "      <th>prediction</th>\n",
              "      <th>actual</th>\n",
              "    </tr>\n",
              "  </thead>\n",
              "  <tbody>\n",
              "    <tr>\n",
              "      <th>0</th>\n",
              "      <td>0</td>\n",
              "      <td>0</td>\n",
              "    </tr>\n",
              "    <tr>\n",
              "      <th>1</th>\n",
              "      <td>0</td>\n",
              "      <td>0</td>\n",
              "    </tr>\n",
              "    <tr>\n",
              "      <th>2</th>\n",
              "      <td>0</td>\n",
              "      <td>0</td>\n",
              "    </tr>\n",
              "    <tr>\n",
              "      <th>3</th>\n",
              "      <td>0</td>\n",
              "      <td>0</td>\n",
              "    </tr>\n",
              "    <tr>\n",
              "      <th>4</th>\n",
              "      <td>0</td>\n",
              "      <td>0</td>\n",
              "    </tr>\n",
              "    <tr>\n",
              "      <th>...</th>\n",
              "      <td>...</td>\n",
              "      <td>...</td>\n",
              "    </tr>\n",
              "    <tr>\n",
              "      <th>1777</th>\n",
              "      <td>0</td>\n",
              "      <td>0</td>\n",
              "    </tr>\n",
              "    <tr>\n",
              "      <th>1778</th>\n",
              "      <td>0</td>\n",
              "      <td>0</td>\n",
              "    </tr>\n",
              "    <tr>\n",
              "      <th>1779</th>\n",
              "      <td>0</td>\n",
              "      <td>0</td>\n",
              "    </tr>\n",
              "    <tr>\n",
              "      <th>1780</th>\n",
              "      <td>0</td>\n",
              "      <td>0</td>\n",
              "    </tr>\n",
              "    <tr>\n",
              "      <th>1781</th>\n",
              "      <td>0</td>\n",
              "      <td>0</td>\n",
              "    </tr>\n",
              "  </tbody>\n",
              "</table>\n",
              "<p>1769 rows × 2 columns</p>\n",
              "</div>\n",
              "      <button class=\"colab-df-convert\" onclick=\"convertToInteractive('df-706af1c7-3989-4cf8-9e08-578bee34badb')\"\n",
              "              title=\"Convert this dataframe to an interactive table.\"\n",
              "              style=\"display:none;\">\n",
              "        \n",
              "  <svg xmlns=\"http://www.w3.org/2000/svg\" height=\"24px\"viewBox=\"0 0 24 24\"\n",
              "       width=\"24px\">\n",
              "    <path d=\"M0 0h24v24H0V0z\" fill=\"none\"/>\n",
              "    <path d=\"M18.56 5.44l.94 2.06.94-2.06 2.06-.94-2.06-.94-.94-2.06-.94 2.06-2.06.94zm-11 1L8.5 8.5l.94-2.06 2.06-.94-2.06-.94L8.5 2.5l-.94 2.06-2.06.94zm10 10l.94 2.06.94-2.06 2.06-.94-2.06-.94-.94-2.06-.94 2.06-2.06.94z\"/><path d=\"M17.41 7.96l-1.37-1.37c-.4-.4-.92-.59-1.43-.59-.52 0-1.04.2-1.43.59L10.3 9.45l-7.72 7.72c-.78.78-.78 2.05 0 2.83L4 21.41c.39.39.9.59 1.41.59.51 0 1.02-.2 1.41-.59l7.78-7.78 2.81-2.81c.8-.78.8-2.07 0-2.86zM5.41 20L4 18.59l7.72-7.72 1.47 1.35L5.41 20z\"/>\n",
              "  </svg>\n",
              "      </button>\n",
              "      \n",
              "  <style>\n",
              "    .colab-df-container {\n",
              "      display:flex;\n",
              "      flex-wrap:wrap;\n",
              "      gap: 12px;\n",
              "    }\n",
              "\n",
              "    .colab-df-convert {\n",
              "      background-color: #E8F0FE;\n",
              "      border: none;\n",
              "      border-radius: 50%;\n",
              "      cursor: pointer;\n",
              "      display: none;\n",
              "      fill: #1967D2;\n",
              "      height: 32px;\n",
              "      padding: 0 0 0 0;\n",
              "      width: 32px;\n",
              "    }\n",
              "\n",
              "    .colab-df-convert:hover {\n",
              "      background-color: #E2EBFA;\n",
              "      box-shadow: 0px 1px 2px rgba(60, 64, 67, 0.3), 0px 1px 3px 1px rgba(60, 64, 67, 0.15);\n",
              "      fill: #174EA6;\n",
              "    }\n",
              "\n",
              "    [theme=dark] .colab-df-convert {\n",
              "      background-color: #3B4455;\n",
              "      fill: #D2E3FC;\n",
              "    }\n",
              "\n",
              "    [theme=dark] .colab-df-convert:hover {\n",
              "      background-color: #434B5C;\n",
              "      box-shadow: 0px 1px 3px 1px rgba(0, 0, 0, 0.15);\n",
              "      filter: drop-shadow(0px 1px 2px rgba(0, 0, 0, 0.3));\n",
              "      fill: #FFFFFF;\n",
              "    }\n",
              "  </style>\n",
              "\n",
              "      <script>\n",
              "        const buttonEl =\n",
              "          document.querySelector('#df-706af1c7-3989-4cf8-9e08-578bee34badb button.colab-df-convert');\n",
              "        buttonEl.style.display =\n",
              "          google.colab.kernel.accessAllowed ? 'block' : 'none';\n",
              "\n",
              "        async function convertToInteractive(key) {\n",
              "          const element = document.querySelector('#df-706af1c7-3989-4cf8-9e08-578bee34badb');\n",
              "          const dataTable =\n",
              "            await google.colab.kernel.invokeFunction('convertToInteractive',\n",
              "                                                     [key], {});\n",
              "          if (!dataTable) return;\n",
              "\n",
              "          const docLinkHtml = 'Like what you see? Visit the ' +\n",
              "            '<a target=\"_blank\" href=https://colab.research.google.com/notebooks/data_table.ipynb>data table notebook</a>'\n",
              "            + ' to learn more about interactive tables.';\n",
              "          element.innerHTML = '';\n",
              "          dataTable['output_type'] = 'display_data';\n",
              "          await google.colab.output.renderOutput(dataTable, element);\n",
              "          const docLink = document.createElement('div');\n",
              "          docLink.innerHTML = docLinkHtml;\n",
              "          element.appendChild(docLink);\n",
              "        }\n",
              "      </script>\n",
              "    </div>\n",
              "  </div>\n",
              "  "
            ]
          },
          "metadata": {},
          "execution_count": 66
        }
      ]
    },
    {
      "cell_type": "code",
      "source": [
        "test_X.shape[0]"
      ],
      "metadata": {
        "id": "s1hMIG0L5Na5",
        "outputId": "306b69bc-d488-4d40-e387-3ce93bd73610",
        "colab": {
          "base_uri": "https://localhost:8080/"
        }
      },
      "execution_count": 27,
      "outputs": [
        {
          "output_type": "execute_result",
          "data": {
            "text/plain": [
              "1782"
            ]
          },
          "metadata": {},
          "execution_count": 27
        }
      ]
    },
    {
      "cell_type": "code",
      "execution_count": null,
      "metadata": {
        "colab": {
          "base_uri": "https://localhost:8080/"
        },
        "id": "hfb3IVESZKQy",
        "outputId": "b904c391-8c3c-44fc-e3a9-2e31764bdf64"
      },
      "outputs": [
        {
          "output_type": "execute_result",
          "data": {
            "text/plain": [
              "6"
            ]
          },
          "metadata": {},
          "execution_count": 23
        }
      ],
      "source": [
        "knn_df.loc[knn_df.actual==1].shape[0]"
      ]
    },
    {
      "cell_type": "code",
      "source": [
        "knn_df.loc[knn_df.prediction==1].shape[0]"
      ],
      "metadata": {
        "colab": {
          "base_uri": "https://localhost:8080/"
        },
        "id": "NfbXRSDxdwnp",
        "outputId": "4b92fec9-c54b-42de-93ed-62d960400f85"
      },
      "execution_count": null,
      "outputs": [
        {
          "output_type": "execute_result",
          "data": {
            "text/plain": [
              "14"
            ]
          },
          "metadata": {},
          "execution_count": 52
        }
      ]
    },
    {
      "cell_type": "markdown",
      "metadata": {
        "id": "Vc_BnSFSZKQz"
      },
      "source": [
        "#### Logistic regression"
      ]
    },
    {
      "cell_type": "code",
      "execution_count": 68,
      "metadata": {
        "trusted": true,
        "colab": {
          "base_uri": "https://localhost:8080/"
        },
        "id": "rVVoTBxXZKQz",
        "outputId": "da8cb0f1-4727-4654-b92d-267867c09ef6"
      },
      "outputs": [
        {
          "output_type": "execute_result",
          "data": {
            "text/plain": [
              "[0.8496071829405163,\n",
              " 0.8496071829405163,\n",
              " 0.8496071829405163,\n",
              " 0.8496071829405163,\n",
              " 0.8496071829405163,\n",
              " 0.8496071829405163,\n",
              " 0.8496071829405163,\n",
              " 0.8496071829405163,\n",
              " 0.8496071829405163,\n",
              " 0.8496071829405163]"
            ]
          },
          "metadata": {},
          "execution_count": 68
        }
      ],
      "source": [
        "lr = LogisticRegression(solver='saga', class_weight='balanced', max_iter=4000)\n",
        "metrics = []\n",
        "for i in range(10):\n",
        "  metrics.append(predict(lr)[0])\n",
        "metrics"
      ]
    },
    {
      "cell_type": "markdown",
      "metadata": {
        "id": "MdCCNgVhZKQz"
      },
      "source": [
        "#### Naive Bayes classifier"
      ]
    },
    {
      "cell_type": "code",
      "execution_count": 69,
      "metadata": {
        "trusted": true,
        "colab": {
          "base_uri": "https://localhost:8080/"
        },
        "id": "sxWbNC8OZKQz",
        "outputId": "83f935af-59c6-4bc8-f223-61736b4ea5e4"
      },
      "outputs": [
        {
          "output_type": "execute_result",
          "data": {
            "text/plain": [
              "[0.8400673400673401,\n",
              " 0.8400673400673401,\n",
              " 0.8400673400673401,\n",
              " 0.8400673400673401,\n",
              " 0.8400673400673401,\n",
              " 0.8400673400673401,\n",
              " 0.8400673400673401,\n",
              " 0.8400673400673401,\n",
              " 0.8400673400673401,\n",
              " 0.8400673400673401]"
            ]
          },
          "metadata": {},
          "execution_count": 69
        }
      ],
      "source": [
        "nb = GaussianNB()\n",
        "metrics = []\n",
        "for i in range(10):\n",
        "  metrics.append(predict(nb)[0])\n",
        "metrics"
      ]
    },
    {
      "cell_type": "markdown",
      "source": [
        "### XGBoost classifier"
      ],
      "metadata": {
        "id": "sRA6C5aULz_4"
      }
    },
    {
      "cell_type": "code",
      "source": [
        "xgb = xgb.XGBClassifier()\n",
        "metrics = []\n",
        "for i in range(10):\n",
        "  metrics.append(predict(xgb)[0])\n",
        "metrics"
      ],
      "metadata": {
        "colab": {
          "base_uri": "https://localhost:8080/"
        },
        "id": "a9glcwCvL5oI",
        "outputId": "439150ec-f5e2-4524-d494-09b44df23cfc"
      },
      "execution_count": 70,
      "outputs": [
        {
          "output_type": "execute_result",
          "data": {
            "text/plain": [
              "[0.9927048260381593,\n",
              " 0.9927048260381593,\n",
              " 0.9927048260381593,\n",
              " 0.9927048260381593,\n",
              " 0.9927048260381593,\n",
              " 0.9927048260381593,\n",
              " 0.9927048260381593,\n",
              " 0.9927048260381593,\n",
              " 0.9927048260381593,\n",
              " 0.9927048260381593]"
            ]
          },
          "metadata": {},
          "execution_count": 70
        }
      ]
    },
    {
      "cell_type": "code",
      "source": [
        "xgb_df = pd.DataFrame([predict(xgb)[3], test_Y]).T\n",
        "xgb_df.columns = ['prediction', 'actual']\n",
        "xgb_df['prediction'] = xgb_df['prediction'].astype(int)\n",
        "xgb_df['actual'] = xgb_df['actual'].astype(int)\n",
        "xgb_df.loc[~(xgb_df['prediction'] == xgb_df['actual'])]"
      ],
      "metadata": {
        "colab": {
          "base_uri": "https://localhost:8080/",
          "height": 457
        },
        "id": "AkDVz2KuNf-v",
        "outputId": "82561fa4-2f73-433f-abdb-791c8713c4ba"
      },
      "execution_count": 71,
      "outputs": [
        {
          "output_type": "execute_result",
          "data": {
            "text/plain": [
              "      prediction  actual\n",
              "80             1       0\n",
              "95             1       0\n",
              "521            1       0\n",
              "554            1       0\n",
              "671            1       0\n",
              "674            1       0\n",
              "914            1       0\n",
              "1044           1       0\n",
              "1331           1       0\n",
              "1334           1       0\n",
              "1563           1       0\n",
              "1606           1       0\n",
              "1687           1       0"
            ],
            "text/html": [
              "\n",
              "  <div id=\"df-796edf24-8881-466c-9eec-80704356493c\">\n",
              "    <div class=\"colab-df-container\">\n",
              "      <div>\n",
              "<style scoped>\n",
              "    .dataframe tbody tr th:only-of-type {\n",
              "        vertical-align: middle;\n",
              "    }\n",
              "\n",
              "    .dataframe tbody tr th {\n",
              "        vertical-align: top;\n",
              "    }\n",
              "\n",
              "    .dataframe thead th {\n",
              "        text-align: right;\n",
              "    }\n",
              "</style>\n",
              "<table border=\"1\" class=\"dataframe\">\n",
              "  <thead>\n",
              "    <tr style=\"text-align: right;\">\n",
              "      <th></th>\n",
              "      <th>prediction</th>\n",
              "      <th>actual</th>\n",
              "    </tr>\n",
              "  </thead>\n",
              "  <tbody>\n",
              "    <tr>\n",
              "      <th>80</th>\n",
              "      <td>1</td>\n",
              "      <td>0</td>\n",
              "    </tr>\n",
              "    <tr>\n",
              "      <th>95</th>\n",
              "      <td>1</td>\n",
              "      <td>0</td>\n",
              "    </tr>\n",
              "    <tr>\n",
              "      <th>521</th>\n",
              "      <td>1</td>\n",
              "      <td>0</td>\n",
              "    </tr>\n",
              "    <tr>\n",
              "      <th>554</th>\n",
              "      <td>1</td>\n",
              "      <td>0</td>\n",
              "    </tr>\n",
              "    <tr>\n",
              "      <th>671</th>\n",
              "      <td>1</td>\n",
              "      <td>0</td>\n",
              "    </tr>\n",
              "    <tr>\n",
              "      <th>674</th>\n",
              "      <td>1</td>\n",
              "      <td>0</td>\n",
              "    </tr>\n",
              "    <tr>\n",
              "      <th>914</th>\n",
              "      <td>1</td>\n",
              "      <td>0</td>\n",
              "    </tr>\n",
              "    <tr>\n",
              "      <th>1044</th>\n",
              "      <td>1</td>\n",
              "      <td>0</td>\n",
              "    </tr>\n",
              "    <tr>\n",
              "      <th>1331</th>\n",
              "      <td>1</td>\n",
              "      <td>0</td>\n",
              "    </tr>\n",
              "    <tr>\n",
              "      <th>1334</th>\n",
              "      <td>1</td>\n",
              "      <td>0</td>\n",
              "    </tr>\n",
              "    <tr>\n",
              "      <th>1563</th>\n",
              "      <td>1</td>\n",
              "      <td>0</td>\n",
              "    </tr>\n",
              "    <tr>\n",
              "      <th>1606</th>\n",
              "      <td>1</td>\n",
              "      <td>0</td>\n",
              "    </tr>\n",
              "    <tr>\n",
              "      <th>1687</th>\n",
              "      <td>1</td>\n",
              "      <td>0</td>\n",
              "    </tr>\n",
              "  </tbody>\n",
              "</table>\n",
              "</div>\n",
              "      <button class=\"colab-df-convert\" onclick=\"convertToInteractive('df-796edf24-8881-466c-9eec-80704356493c')\"\n",
              "              title=\"Convert this dataframe to an interactive table.\"\n",
              "              style=\"display:none;\">\n",
              "        \n",
              "  <svg xmlns=\"http://www.w3.org/2000/svg\" height=\"24px\"viewBox=\"0 0 24 24\"\n",
              "       width=\"24px\">\n",
              "    <path d=\"M0 0h24v24H0V0z\" fill=\"none\"/>\n",
              "    <path d=\"M18.56 5.44l.94 2.06.94-2.06 2.06-.94-2.06-.94-.94-2.06-.94 2.06-2.06.94zm-11 1L8.5 8.5l.94-2.06 2.06-.94-2.06-.94L8.5 2.5l-.94 2.06-2.06.94zm10 10l.94 2.06.94-2.06 2.06-.94-2.06-.94-.94-2.06-.94 2.06-2.06.94z\"/><path d=\"M17.41 7.96l-1.37-1.37c-.4-.4-.92-.59-1.43-.59-.52 0-1.04.2-1.43.59L10.3 9.45l-7.72 7.72c-.78.78-.78 2.05 0 2.83L4 21.41c.39.39.9.59 1.41.59.51 0 1.02-.2 1.41-.59l7.78-7.78 2.81-2.81c.8-.78.8-2.07 0-2.86zM5.41 20L4 18.59l7.72-7.72 1.47 1.35L5.41 20z\"/>\n",
              "  </svg>\n",
              "      </button>\n",
              "      \n",
              "  <style>\n",
              "    .colab-df-container {\n",
              "      display:flex;\n",
              "      flex-wrap:wrap;\n",
              "      gap: 12px;\n",
              "    }\n",
              "\n",
              "    .colab-df-convert {\n",
              "      background-color: #E8F0FE;\n",
              "      border: none;\n",
              "      border-radius: 50%;\n",
              "      cursor: pointer;\n",
              "      display: none;\n",
              "      fill: #1967D2;\n",
              "      height: 32px;\n",
              "      padding: 0 0 0 0;\n",
              "      width: 32px;\n",
              "    }\n",
              "\n",
              "    .colab-df-convert:hover {\n",
              "      background-color: #E2EBFA;\n",
              "      box-shadow: 0px 1px 2px rgba(60, 64, 67, 0.3), 0px 1px 3px 1px rgba(60, 64, 67, 0.15);\n",
              "      fill: #174EA6;\n",
              "    }\n",
              "\n",
              "    [theme=dark] .colab-df-convert {\n",
              "      background-color: #3B4455;\n",
              "      fill: #D2E3FC;\n",
              "    }\n",
              "\n",
              "    [theme=dark] .colab-df-convert:hover {\n",
              "      background-color: #434B5C;\n",
              "      box-shadow: 0px 1px 3px 1px rgba(0, 0, 0, 0.15);\n",
              "      filter: drop-shadow(0px 1px 2px rgba(0, 0, 0, 0.3));\n",
              "      fill: #FFFFFF;\n",
              "    }\n",
              "  </style>\n",
              "\n",
              "      <script>\n",
              "        const buttonEl =\n",
              "          document.querySelector('#df-796edf24-8881-466c-9eec-80704356493c button.colab-df-convert');\n",
              "        buttonEl.style.display =\n",
              "          google.colab.kernel.accessAllowed ? 'block' : 'none';\n",
              "\n",
              "        async function convertToInteractive(key) {\n",
              "          const element = document.querySelector('#df-796edf24-8881-466c-9eec-80704356493c');\n",
              "          const dataTable =\n",
              "            await google.colab.kernel.invokeFunction('convertToInteractive',\n",
              "                                                     [key], {});\n",
              "          if (!dataTable) return;\n",
              "\n",
              "          const docLinkHtml = 'Like what you see? Visit the ' +\n",
              "            '<a target=\"_blank\" href=https://colab.research.google.com/notebooks/data_table.ipynb>data table notebook</a>'\n",
              "            + ' to learn more about interactive tables.';\n",
              "          element.innerHTML = '';\n",
              "          dataTable['output_type'] = 'display_data';\n",
              "          await google.colab.output.renderOutput(dataTable, element);\n",
              "          const docLink = document.createElement('div');\n",
              "          docLink.innerHTML = docLinkHtml;\n",
              "          element.appendChild(docLink);\n",
              "        }\n",
              "      </script>\n",
              "    </div>\n",
              "  </div>\n",
              "  "
            ]
          },
          "metadata": {},
          "execution_count": 71
        }
      ]
    },
    {
      "cell_type": "code",
      "source": [
        "len(xgb_df.loc[xgb_df.prediction==xgb_df.actual])"
      ],
      "metadata": {
        "colab": {
          "base_uri": "https://localhost:8080/"
        },
        "id": "kCVTiZB_N61_",
        "outputId": "98570537-d9e6-49d7-ac58-ed7890badd72"
      },
      "execution_count": null,
      "outputs": [
        {
          "output_type": "execute_result",
          "data": {
            "text/plain": [
              "1770"
            ]
          },
          "metadata": {},
          "execution_count": 31
        }
      ]
    },
    {
      "cell_type": "markdown",
      "metadata": {
        "id": "6Ee6uRmaZKQz"
      },
      "source": [
        "#### Ensemble methods\n",
        "Stacking classifier"
      ]
    },
    {
      "cell_type": "code",
      "execution_count": null,
      "metadata": {
        "id": "1FEBa8cqZKQz"
      },
      "outputs": [],
      "source": [
        "def evaluate(model, X, y):\n",
        "    cv = KFold(10, shuffle=True, random_state=1)\n",
        "    return cross_val_score(model, X, y, scoring='accuracy', cv=cv, n_jobs=-1), cross_val_score(model, X, y, scoring='precision', cv=cv, n_jobs=-1), cross_val_score(model, X, y, scoring='recall', cv=cv, n_jobs=-1)\n"
      ]
    },
    {
      "cell_type": "code",
      "execution_count": null,
      "metadata": {
        "id": "LHmz8mj5ZKQz"
      },
      "outputs": [],
      "source": [
        "def stacking():\n",
        "    level0 = list()\n",
        "    level0.append(('lr', LogisticRegression(solver='saga',class_weight='balanced', max_iter=4000)))\n",
        "    level0.append(('dt', DecisionTreeClassifier(ccp_alpha=0.036)))\n",
        "    level0.append(('nb', GaussianNB()))\n",
        "\t\n",
        "    level1 = xgb.XGBClassifier()\n",
        "\t\n",
        "    model = StackingClassifier(estimators=level0, final_estimator=level1, cv=5)\n",
        "    return model"
      ]
    },
    {
      "cell_type": "code",
      "execution_count": null,
      "metadata": {
        "id": "w-FsDe6fZKQ0"
      },
      "outputs": [],
      "source": [
        "def get_models():\n",
        "    models = dict()\n",
        "    models['Decision Tree'] = DecisionTreeClassifier(ccp_alpha=0.036)\n",
        "    models['Logistic Regression'] = LogisticRegression(solver='saga', class_weight='balanced', max_iter=4000)\n",
        "    models['Naive Bayes'] = GaussianNB()\n",
        "    models['Stacking'] = stacking()\n",
        "    return models"
      ]
    },
    {
      "cell_type": "markdown",
      "metadata": {
        "id": "blRo3mxwZKQ0"
      },
      "source": [
        "### Stacking debug"
      ]
    },
    {
      "cell_type": "code",
      "execution_count": null,
      "metadata": {
        "id": "EI1vpyaNZKQ0"
      },
      "outputs": [],
      "source": [
        "stacking_clf = stacking()\n",
        "stacking_clf.fit(X_ros, y_ros)\n",
        "scores = cross_val_score(stacking_clf, X_ros, y_ros, scoring='accuracy', cv=kfold, n_jobs=-1)\n",
        "print('Precision: %.3f' % mean(cross_val_score(stacking_clf, X_ros, y_ros, scoring='precision', cv=kfold, n_jobs=-1)))\n",
        "print('Recall: %.3f' % mean(cross_val_score(stacking_clf, X_ros, y_ros, scoring='recall', cv=kfold, n_jobs=-1)))\n",
        "print('Accuracy: %.3f (%.3f)' % (mean(scores), std(scores)))    \n",
        "st_y_train_pred = stacking_clf.predict(X_ros)\n",
        "st_y_test_pred = stacking_clf.predict(test_X)\n",
        "print(f'Train score {accuracy_score(st_y_train_pred,y_ros)}')\n",
        "print(f'Test score {accuracy_score(st_y_test_pred,test_Y)}')"
      ]
    },
    {
      "cell_type": "code",
      "execution_count": null,
      "metadata": {
        "id": "oMWm32h-ZKQ0"
      },
      "outputs": [],
      "source": [
        "st_df = pd.DataFrame([st_y_test_pred, test_Y]).T\n",
        "st_df.columns = ['prediction', 'actual']\n",
        "st_df['prediction'] = st_df['prediction'].astype(int)\n",
        "st_df['actual'] = st_df['actual'].astype(int)\n",
        "st_df.loc[(st_df['prediction']==1)&(st_df['actual']==1)]"
      ]
    },
    {
      "cell_type": "code",
      "execution_count": null,
      "metadata": {
        "id": "G4aBoYaKZKQ0"
      },
      "outputs": [],
      "source": [
        "st_df.loc[st_df.prediction==1].shape[0]"
      ]
    },
    {
      "cell_type": "code",
      "execution_count": null,
      "metadata": {
        "id": "nmbM0VieZKQ0",
        "outputId": "76a2a103-134e-47a3-8788-c8245b04e156"
      },
      "outputs": [
        {
          "name": "stdout",
          "output_type": "stream",
          "text": [
            "Model: Decision Tree\n",
            "Accuracy: 0.845 (0.005)\n",
            "Recall: 0.869 (0.005)\n",
            "Precision: 0.830 (0.009) \n",
            "\n",
            "Model: Logistic Regression\n",
            "Accuracy: 0.838 (0.004)\n",
            "Recall: 0.835 (0.005)\n",
            "Precision: 0.841 (0.006) \n",
            "\n",
            "Model: KNN\n",
            "Accuracy: 0.998 (0.000)\n",
            "Recall: 1.000 (0.000)\n",
            "Precision: 0.996 (0.001) \n",
            "\n",
            "Model: Naive Bayes\n",
            "Accuracy: 0.700 (0.009)\n",
            "Recall: 0.969 (0.004)\n",
            "Precision: 0.630 (0.010) \n",
            "\n",
            "Model: Stacking\n",
            "Accuracy: 0.999 (0.001)\n",
            "Recall: 1.000 (0.000)\n",
            "Precision: 0.997 (0.001) \n",
            "\n"
          ]
        }
      ],
      "source": [
        "models = get_models()\n",
        "results, names = list(), list()\n",
        "for name, model in models.items():\n",
        "    acc, pre, rec = evaluate(model, X_ros, y_ros)\n",
        "    names.append(names)\n",
        "    print('Model: %s' % (name))\n",
        "    print('Accuracy: %.3f (%.3f)' % (mean(acc), std(acc)))\n",
        "    print('Recall: %.3f (%.3f)' % (mean(rec), std(rec)))\n",
        "    print('Precision: %.3f (%.3f) \\n' % (mean(pre), std(pre)))"
      ]
    }
  ],
  "metadata": {
    "kernelspec": {
      "display_name": "Python 3",
      "language": "python",
      "name": "python3"
    },
    "language_info": {
      "codemirror_mode": {
        "name": "ipython",
        "version": 3
      },
      "file_extension": ".py",
      "mimetype": "text/x-python",
      "name": "python",
      "nbconvert_exporter": "python",
      "pygments_lexer": "ipython3",
      "version": "3.8.9"
    },
    "colab": {
      "name": "ml-models.ipynb",
      "provenance": [],
      "collapsed_sections": [
        "d_Kof_QsZKQv"
      ]
    }
  },
  "nbformat": 4,
  "nbformat_minor": 0
}
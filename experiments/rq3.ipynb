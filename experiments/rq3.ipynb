{
  "nbformat": 4,
  "nbformat_minor": 0,
  "metadata": {
    "colab": {
      "name": "rq3.ipynb",
      "provenance": [],
      "collapsed_sections": []
    },
    "kernelspec": {
      "name": "python3",
      "display_name": "Python 3"
    },
    "language_info": {
      "name": "python"
    }
  },
  "cells": [
    {
      "cell_type": "markdown",
      "source": [
        "## RQ3: Cross version prediction\n",
        "## Deliverables\n",
        "1. Confusion matrix for each learner x 1  = 1 CM.\n",
        "2. Performance metrics (Accuracy, Precision and Recall) for each learner x 1 learners = 1 rows of metrics.\n",
        "3. AUC-ROC curve for all learners x 1 graph = 1 AUC-ROC graph.\n",
        "\n",
        "## Learners\n",
        "1. XGBoost Classifier\n",
        "\n",
        "## Feature set\n",
        "1. RFE\n",
        "\n",
        "## Datasets\n",
        "1. Apache Tomcat\n",
        "2. Apache Struts2-core"
      ],
      "metadata": {
        "id": "EAlFQvA1zLf4"
      }
    },
    {
      "cell_type": "markdown",
      "source": [
        "### Prerequisites"
      ],
      "metadata": {
        "id": "7lFK0Z8Xcuqm"
      }
    },
    {
      "cell_type": "code",
      "execution_count": null,
      "metadata": {
        "id": "40IWdSvyy9u4"
      },
      "outputs": [],
      "source": [
        "# Basic imports\n",
        "import numpy as np\n",
        "import pandas as pd\n",
        "import sys\n",
        "\n",
        "# Data preprocessing\n",
        "from sklearn.preprocessing import LabelEncoder\n",
        "from sklearn.model_selection import train_test_split\n",
        "\n",
        "# Feature selection\n",
        "from sklearn.feature_selection import SequentialFeatureSelector as SFS\n",
        "from sklearn.feature_selection import RFE\n",
        "\n",
        "# Handling imbalance data\n",
        "from imblearn.over_sampling  import RandomOverSampler\n",
        "\n",
        "# CV\n",
        "from sklearn.model_selection import RepeatedStratifiedKFold\n",
        "\n",
        "# Performance metrics\n",
        "from sklearn.metrics import accuracy_score, f1_score, precision_score, recall_score\n",
        "from sklearn.model_selection import cross_val_score\n",
        "from matplotlib import pyplot as plt\n",
        "from numpy import mean\n",
        "from sklearn.metrics import ConfusionMatrixDisplay as CMD\n",
        "from sklearn.metrics import roc_curve\n",
        "\n",
        "#ML models\n",
        "from xgboost import XGBClassifier\n",
        "from sklearn.tree import DecisionTreeClassifier\n",
        "\n",
        "def preprocess(dataset_idx, target, version=None):\n",
        "    ds = [\"./datasets/tomcat-final.csv\", \"./datasets/struts-final.csv\"]\n",
        "    df = pd.read_csv(ds[dataset_idx])\n",
        "    np.set_printoptions(threshold=np.inf)\n",
        "    pd.set_option('max_columns', None)\n",
        "    print(f\"Dataframe {ds[dataset_idx][-16:]} created..\\nTotal number of rows: \", df.shape[0])\n",
        "    df = cleanup(df)\n",
        "    return split_features_variables(df, target, version)\n",
        "\n",
        "def cleanup(df):\n",
        "    df.loc[df['title'].str.contains('Denial', case=False), 'title'] = 'DoS'\n",
        "    df.loc[df['title'].str.contains('CSRF', case=False), 'title'] = 'CSRF'\n",
        "    df.loc[df['title'].str.contains(\n",
        "        'information disclosure', case=False), 'title'] = 'Information Disclosure'\n",
        "    df.loc[df['title'].str.contains(\n",
        "        'cve-2020-9484', case=False), 'title'] = 'Remote Code execution'\n",
        "    df.loc[df['title'].str.contains(\n",
        "        'session hijacking', case=False), 'title'] = 'Remote Code execution'\n",
        "    df = df.drop_duplicates(keep='first').reset_index(drop=True)\n",
        "    return df\n",
        "\n",
        "def split_features_variables(df, target, version):\n",
        "    y_cols = ['vulnerable', 'severity', 'title']\n",
        "    feature_columns = df.columns[2:-4]\n",
        "    if version:\n",
        "        train = df.loc[~(df.version == version)]\n",
        "        test = df.loc[df.version == version]\n",
        "    else:\n",
        "        train, test = train_test_split(df, shuffle=True,test_size=0.3)\n",
        "    X = train[feature_columns]\n",
        "    test_X = test[feature_columns]\n",
        "    if y_cols[target] == 'vulnerable':\n",
        "        y = train[y_cols[target]]\n",
        "        test_Y = test[y_cols[target]]\n",
        "    else: \n",
        "        label_X_train, label_X_test = label_encode(train, test)\n",
        "        y = label_X_train[y_cols[target]]\n",
        "        test_Y = label_X_test[y_cols[target]]\n",
        "    return X, test_X, y, test_Y  \n",
        "\n",
        "\n",
        "def label_encode(train, test):\n",
        "    print('Labelled target found..')\n",
        "    s = (train.dtypes == 'object')\n",
        "    object_cols = ['severity', 'title']\n",
        "    label_X_train = train.copy()\n",
        "    label_X_test = test.copy()\n",
        "    le = LabelEncoder()\n",
        "    label_X_train[object_cols] = train[object_cols].apply(le.fit_transform)\n",
        "    label_X_test[object_cols] = test[object_cols].apply(le.fit_transform)\n",
        "    print('Encoded...')\n",
        "    return label_X_train, label_X_test\n",
        "\n",
        "def fit_feature_set(feature_set):\n",
        "    global X_ros\n",
        "    X_ros = X_ros[feature_set]\n",
        "    global test_X\n",
        "    test_X = test_X[feature_set]\n",
        "  \n",
        "def predict(model):\n",
        "    model.fit(X_ros, y_ros)\n",
        "    predictions = model.predict(test_X)\n",
        "    pred_proba = model.predict_proba(test_X)\n",
        "    kfold=RepeatedStratifiedKFold(n_splits=10,n_repeats=3,random_state=1)\n",
        "    accuracy = accuracy_score(test_Y, predictions)\n",
        "    precision = precision_score(test_Y, predictions, average='weighted')\n",
        "    recall = recall_score(test_Y, predictions,average='weighted')\n",
        "    return [accuracy, precision, recall, pred_proba ,predictions]"
      ]
    },
    {
      "cell_type": "code",
      "source": [
        "ds = [\"./datasets/tomcat-final.csv\", \"./datasets/struts-final.csv\"]\n",
        "np.set_printoptions(threshold=np.inf)\n",
        "pd.set_option('max_columns', None)"
      ],
      "metadata": {
        "id": "1oSIYpgfcsbf"
      },
      "execution_count": null,
      "outputs": []
    },
    {
      "cell_type": "markdown",
      "source": [
        "### Train-test split\n",
        "1. train - 10, test - 9\n",
        "2. train - 10+9, test - 8\n",
        "3. train - 10+9+8, test - 7\n",
        "4. train - 10+9+8+7, test - 6\n",
        "5. train - 10+9+8+7+6, test - 5\n",
        "6. train - 10+9+8+7+6+5, test - 4\n"
      ],
      "metadata": {
        "id": "ahsvx8mteG4w"
      }
    },
    {
      "cell_type": "code",
      "source": [
        "def train_test_split(index=0):\n",
        "  df = pd.read_csv(ds[index])\n",
        "  versions = df.version.unique()\n",
        "  train = []\n",
        "  test = []\n",
        "  # Get all the test datasets.\n",
        "  for v in versions:\n",
        "    if not v == versions[0]:\n",
        "      test.append(df.loc[df.version==v])\n",
        "  # Get all the train datasets\n",
        "  for v in versions:\n",
        "    if not v == versions[0]:\n",
        "      temp = []\n",
        "      for v1 in range(0,np.where(versions==v)[0][0]+1):\n",
        "          temp.append(df.loc[df.version==versions[v1]])\n",
        "      train.append(pd.concat(temp))\n",
        "    else:\n",
        "      train.append(df.loc[df.version==v])\n",
        "  train.pop(-1)\n",
        "  return train, test, df"
      ],
      "metadata": {
        "id": "QI4zhTtbd-E2"
      },
      "execution_count": null,
      "outputs": []
    },
    {
      "cell_type": "markdown",
      "source": [
        "1. Each index is the train test split for each experiment. index <= 6. \n",
        "2. Change the target variable to 'vulnerable', 'severity' or 'title'."
      ],
      "metadata": {
        "id": "BeZ6JAh9nLi_"
      }
    },
    {
      "cell_type": "code",
      "source": [
        "train, test, df = train_test_split(1)\n",
        "index = 9\n",
        "target = 'title'\n",
        "feature_columns = df.columns[2:-4]\n",
        "X, test_X = train[index][feature_columns], test[index][feature_columns]\n",
        "if not target == 'vulnerable':\n",
        "    label_X_train, label_X_test = label_encode(train[index],test[index])\n",
        "    y, test_Y = label_X_train.pop(target), label_X_test.pop(target)\n",
        "else:\n",
        "    y, test_Y = train[index].pop(target), test[index].pop(target)\n",
        "ros = RandomOverSampler()\n",
        "X_ros, y_ros = ros.fit_resample(X, y)"
      ],
      "metadata": {
        "colab": {
          "base_uri": "https://localhost:8080/"
        },
        "id": "JUaIwsI4hE1L",
        "outputId": "f3f0a70a-f9a0-4d2e-9018-6e0132cde04f"
      },
      "execution_count": null,
      "outputs": [
        {
          "output_type": "stream",
          "name": "stdout",
          "text": [
            "Labelled target found..\n",
            "Encoded...\n"
          ]
        }
      ]
    },
    {
      "cell_type": "markdown",
      "source": [
        "### Feature selection"
      ],
      "metadata": {
        "id": "sn1uRFOymFD7"
      }
    },
    {
      "cell_type": "code",
      "source": [
        "rfe = RFE(estimator=DecisionTreeClassifier())\n",
        "rfe.fit(X_ros, y_ros)\n",
        "rfe_features = []\n",
        "for i in range(X.shape[1]):\n",
        "    if(rfe.support_[i] == 1):\n",
        "        rfe_features.append(X.columns[i])\n",
        "fit_feature_set(rfe_features)"
      ],
      "metadata": {
        "id": "Nfbx5cs6mEQD"
      },
      "execution_count": null,
      "outputs": []
    },
    {
      "cell_type": "markdown",
      "source": [
        "### Machine Learning"
      ],
      "metadata": {
        "id": "rTSoCPJ7mUvC"
      }
    },
    {
      "cell_type": "code",
      "source": [
        "xgb = XGBClassifier(n_estimators=10)\n",
        "xgb_pred_arr = predict(xgb)\n",
        "xgb_pred = xgb_pred_arr[-2]\n",
        "print(f'Accuracy: {mean(xgb_pred_arr[0])}')\n",
        "print(f'Precision: {mean(xgb_pred_arr[1])}')\n",
        "print(f'Recall: {mean(xgb_pred_arr[2])}')\n",
        "CMD.from_estimator(xgb, test_X, test_Y)"
      ],
      "metadata": {
        "colab": {
          "base_uri": "https://localhost:8080/",
          "height": 409
        },
        "id": "zzB-PdLImUN8",
        "outputId": "68fa8086-3cf3-408d-fa49-481ad6ede6ec"
      },
      "execution_count": null,
      "outputs": [
        {
          "output_type": "stream",
          "name": "stdout",
          "text": [
            "Accuracy: 0.9328703703703703\n",
            "Precision: 0.9964095287237702\n",
            "Recall: 0.9328703703703703\n"
          ]
        },
        {
          "output_type": "stream",
          "name": "stderr",
          "text": [
            "/usr/local/lib/python3.7/dist-packages/sklearn/metrics/_classification.py:1318: UndefinedMetricWarning: Recall is ill-defined and being set to 0.0 in labels with no true samples. Use `zero_division` parameter to control this behavior.\n",
            "  _warn_prf(average, modifier, msg_start, len(result))\n"
          ]
        },
        {
          "output_type": "execute_result",
          "data": {
            "text/plain": [
              "<sklearn.metrics._plot.confusion_matrix.ConfusionMatrixDisplay at 0x7fe0d21a4510>"
            ]
          },
          "metadata": {},
          "execution_count": 126
        },
        {
          "output_type": "display_data",
          "data": {
            "text/plain": [
              "<Figure size 432x288 with 2 Axes>"
            ],
            "image/png": "[encoded data removed]"
          },
          "metadata": {
            "needs_background": "light"
          }
        }
      ]
    },
    {
      "cell_type": "code",
      "source": [
        "# roc curve for models\n",
        "fpr = {}\n",
        "tpr = {}\n",
        "thresh ={}\n",
        "    \n",
        "fpr1, tpr1, thresh1 = roc_curve(test_Y, xgb_pred[:,1], pos_label=1)\n",
        "# roc curve for tpr = fpr \n",
        "random_probs = [0 for i in range(len(test_Y))]\n",
        "p_fpr, p_tpr, _ = roc_curve(test_Y, random_probs, pos_label=1)\n",
        "\n",
        "# plot roc curves\n",
        "plt.plot(fpr1, tpr1, linestyle='--', color='blue', label='XGBoost Classifier')\n",
        "\n",
        "# title\n",
        "plt.title('AUC-ROC curve ('+target.capitalize()+' [Exp-'+str(index+1)+'])')\n",
        "# x label\n",
        "plt.xlabel('False Positive Rate (FPR)')\n",
        "# y label\n",
        "plt.ylabel('True Positive rate (TPR)')\n",
        "\n",
        "plt.legend(loc='best')\n",
        "plt.show();"
      ],
      "metadata": {
        "colab": {
          "base_uri": "https://localhost:8080/",
          "height": 295
        },
        "id": "fUTzRnB2m_oS",
        "outputId": "b7f9db4f-12a4-4f33-ba09-40bf485f2566"
      },
      "execution_count": null,
      "outputs": [
        {
          "output_type": "display_data",
          "data": {
            "text/plain": [
              "<Figure size 432x288 with 1 Axes>"
            ],
            "image/png": "[encoded data removed]"
          },
          "metadata": {
            "needs_background": "light"
          }
        }
      ]
    }
  ]
}
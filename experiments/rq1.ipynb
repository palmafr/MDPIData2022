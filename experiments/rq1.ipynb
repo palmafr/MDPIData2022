{
  "cells": [
    {
      "cell_type": "markdown",
      "metadata": {
        "id": "f1KaQTZFjJWa"
      },
      "source": [
        "## RQ1: What is the accuracy of individual learners in predicting security vulnerabilities?\n",
        "## Deliverables\n",
        "1. Confusion matrix for each learner x 4 (1 for each learner) = 4 CMs.\n",
        "2. Performance metrics (Accuracy, Precision and Recall) for each learner x 4 learners = 4 rows of metrics.\n",
        "3. AUC-ROC curve for all learners x 1 combined graph = 1 AUC-ROC graph.\n",
        "\n",
        "## Learners\n",
        "1. Decision Tree Classifier\n",
        "2. Logistic Regression\n",
        "3. Naive Bayes Classifier\n",
        "4. XGBoost Classifier\n",
        "\n",
        "## Datasets\n",
        "1. Apache Tomcat\n",
        "2. Apache Struts2-core"
      ]
    },
    {
      "cell_type": "markdown",
      "source": [
        "### Prerequisites"
      ],
      "metadata": {
        "id": "3Y5F4MWb_nMH"
      }
    },
    {
      "cell_type": "code",
      "execution_count": null,
      "metadata": {
        "id": "37wzWAzUjJWe"
      },
      "outputs": [],
      "source": [
        "# Basic imports\n",
        "import numpy as np\n",
        "import pandas as pd\n",
        "import sys\n",
        "\n",
        "# Data preprocessing\n",
        "from sklearn.preprocessing import LabelEncoder\n",
        "from sklearn.model_selection import train_test_split\n",
        "\n",
        "# Feature selection\n",
        "from sklearn.feature_selection import SequentialFeatureSelector as SFS\n",
        "from sklearn.feature_selection import RFE\n",
        "\n",
        "# Handling imbalance data\n",
        "from imblearn.over_sampling  import RandomOverSampler\n",
        "\n",
        "# CV\n",
        "from sklearn.model_selection import RepeatedStratifiedKFold\n",
        "\n",
        "# Performance metrics\n",
        "from sklearn.metrics import accuracy_score, f1_score, precision_score, recall_score\n",
        "from sklearn.model_selection import cross_val_score\n",
        "from matplotlib import pyplot as plt\n",
        "from numpy import mean\n",
        "from sklearn.metrics import ConfusionMatrixDisplay as CMD\n",
        "from sklearn.metrics import roc_curve\n",
        "\n",
        "#ML models\n",
        "from sklearn.tree import DecisionTreeClassifier\n",
        "from sklearn.linear_model import LogisticRegression\n",
        "from sklearn.naive_bayes import GaussianNB\n",
        "from xgboost import XGBClassifier\n",
        "\n",
        "def preprocess(dataset_idx, target, version=None):\n",
        "    ds = [\"./datasets/tomcat-final.csv\", \"./datasets/struts-final.csv\"]\n",
        "    df = pd.read_csv(ds[dataset_idx])\n",
        "    np.set_printoptions(threshold=np.inf)\n",
        "    pd.set_option('max_columns', None)\n",
        "    print(f\"Dataframe {ds[dataset_idx][-16:]} created..\\nTotal number of rows: \", df.shape[0])\n",
        "    df = cleanup(df)\n",
        "    return split_features_variables(df, target, version)\n",
        "\n",
        "def cleanup(df):\n",
        "    df.loc[df['title'].str.contains('Denial', case=False), 'title'] = 'DoS'\n",
        "    df.loc[df['title'].str.contains('CSRF', case=False), 'title'] = 'CSRF'\n",
        "    df.loc[df['title'].str.contains(\n",
        "        'information disclosure', case=False), 'title'] = 'Information Disclosure'\n",
        "    df.loc[df['title'].str.contains(\n",
        "        'cve-2020-9484', case=False), 'title'] = 'Remote Code execution'\n",
        "    df.loc[df['title'].str.contains(\n",
        "        'session hijacking', case=False), 'title'] = 'Remote Code execution'\n",
        "    df = df.drop_duplicates(keep='first').reset_index(drop=True)\n",
        "    return df\n",
        "\n",
        "def split_features_variables(df, target, version):\n",
        "    y_cols = ['vulnerable', 'severity', 'title']\n",
        "    feature_columns = df.columns[2:-4]\n",
        "    if version:\n",
        "        train = df.loc[~(df.version == version)]\n",
        "        test = df.loc[df.version == version]\n",
        "    else:\n",
        "        train, test = train_test_split(df, shuffle=True,test_size=0.3)\n",
        "    X = train[feature_columns]\n",
        "    test_X = test[feature_columns]\n",
        "    if y_cols[target] == 'vulnerable':\n",
        "        y = train[y_cols[target]]\n",
        "        test_Y = test[y_cols[target]]\n",
        "    else: \n",
        "        label_X_train, label_X_test = label_encode(train, test)\n",
        "        y = label_X_train[y_cols[target]]\n",
        "        test_Y = label_X_test[y_cols[target]]\n",
        "    return X, test_X, y, test_Y  \n",
        "\n",
        "\n",
        "def label_encode(train, test):\n",
        "    print('Labelled target found..')\n",
        "    s = (train.dtypes == 'object')\n",
        "    object_cols = ['severity', 'title']\n",
        "    label_X_train = train.copy()\n",
        "    label_X_test = test.copy()\n",
        "    le = LabelEncoder()\n",
        "    label_X_train[object_cols] = train[object_cols].apply(le.fit_transform)\n",
        "    label_X_test[object_cols] = test[object_cols].apply(le.fit_transform)\n",
        "    print('Encoded...')\n",
        "    return label_X_train, label_X_test\n",
        "\n",
        "def fit_feature_set(feature_set):\n",
        "    global X_ros\n",
        "    X_ros = X_ros[feature_set]\n",
        "    global test_X\n",
        "    test_X = test_X[feature_set]\n",
        "  \n",
        "def predict(model):\n",
        "    model.fit(X_ros, y_ros)\n",
        "    predictions = model.predict(test_X)\n",
        "    kfold=RepeatedStratifiedKFold(n_splits=10,n_repeats=3,random_state=1)\n",
        "    accuracy = accuracy_score(test_Y, predictions)\n",
        "    precision = precision_score(test_Y, predictions, average='weighted')\n",
        "    recall = recall_score(test_Y, predictions,average='weighted')\n",
        "    return [accuracy, precision, recall, predictions]"
      ]
    },
    {
      "cell_type": "markdown",
      "source": [
        "### Experiments\n"
      ],
      "metadata": {
        "id": "haC06JLI7_eE"
      }
    },
    {
      "cell_type": "code",
      "execution_count": null,
      "metadata": {
        "colab": {
          "base_uri": "https://localhost:8080/"
        },
        "id": "m1n0Xwp0jJWh",
        "outputId": "98f8393d-006f-43f8-9ad3-d3af8514a7b6"
      },
      "outputs": [
        {
          "output_type": "stream",
          "name": "stdout",
          "text": [
            "Dataframe struts-final.csv created..\n",
            "Total number of rows:  19372\n",
            "Labelled target found..\n",
            "Encoded...\n"
          ]
        }
      ],
      "source": [
        "X, test_X, y, test_Y = preprocess(1, 2)\n",
        "ros = RandomOverSampler()\n",
        "X_ros, y_ros = ros.fit_resample(X, y)"
      ]
    },
    {
      "cell_type": "markdown",
      "metadata": {
        "id": "sJxW5JdGjJWh"
      },
      "source": [
        "### Feature selection"
      ]
    },
    {
      "cell_type": "code",
      "execution_count": null,
      "metadata": {
        "id": "D4cxBopEjJWi"
      },
      "outputs": [],
      "source": [
        "sfs = SFS(DecisionTreeClassifier(), \n",
        "          direction='forward',\n",
        "          scoring='r2',\n",
        "          cv=5)\n",
        "sfs.fit(X_ros,y_ros)\n",
        "sfs_features = []\n",
        "for i in range(X.shape[1]):\n",
        "    if(sfs.support_[i] == 1):\n",
        "        sfs_features.append(X.columns[i])\n",
        "\n",
        "rfe = RFE(estimator=DecisionTreeClassifier())\n",
        "rfe.fit(X_ros, y_ros)\n",
        "rfe_features = []\n",
        "for i in range(X.shape[1]):\n",
        "    if(rfe.support_[i] == 1):\n",
        "        rfe_features.append(X.columns[i])"
      ]
    },
    {
      "cell_type": "markdown",
      "metadata": {
        "id": "V6AvtULijJWk"
      },
      "source": [
        "### Machine Learning"
      ]
    },
    {
      "cell_type": "markdown",
      "source": [
        "Change feature set here\n"
      ],
      "metadata": {
        "id": "rVgzMouj2zZ2"
      }
    },
    {
      "cell_type": "code",
      "source": [
        "fit_feature_set(rfe_features)"
      ],
      "metadata": {
        "id": "xrMWSkNZnk08"
      },
      "execution_count": null,
      "outputs": []
    },
    {
      "cell_type": "markdown",
      "metadata": {
        "id": "HnUPFq2zjJWm"
      },
      "source": [
        "#### Decision Tree"
      ]
    },
    {
      "cell_type": "code",
      "execution_count": null,
      "metadata": {
        "colab": {
          "base_uri": "https://localhost:8080/",
          "height": 406
        },
        "id": "fwhp7YtdjJWm",
        "outputId": "5c76b63b-3882-403e-9697-0d85940328e1"
      },
      "outputs": [
        {
          "output_type": "stream",
          "name": "stderr",
          "text": [
            "/usr/local/lib/python3.7/dist-packages/sklearn/metrics/_classification.py:1318: UndefinedMetricWarning: Precision is ill-defined and being set to 0.0 in labels with no predicted samples. Use `zero_division` parameter to control this behavior.\n",
            "  _warn_prf(average, modifier, msg_start, len(result))\n"
          ]
        },
        {
          "output_type": "stream",
          "name": "stdout",
          "text": [
            "Accuracy: 0.6175559380378658\n",
            "Precision: 0.9976719187216818\n",
            "Recall: 0.6175559380378658\n"
          ]
        },
        {
          "output_type": "execute_result",
          "data": {
            "text/plain": [
              "<sklearn.metrics._plot.confusion_matrix.ConfusionMatrixDisplay at 0x7fb18f9336d0>"
            ]
          },
          "metadata": {},
          "execution_count": 200
        },
        {
          "output_type": "display_data",
          "data": {
            "text/plain": [
              "<Figure size 432x288 with 2 Axes>"
            ],
            "image/png": "[encoded data removed]"
          },
          "metadata": {
            "needs_background": "light"
          }
        }
      ],
      "source": [
        "dt = DecisionTreeClassifier(ccp_alpha=0.036)\n",
        "dt_pred_arr = predict(dt)\n",
        "dt_pred = dt_pred_arr[-1]\n",
        "print(f'Accuracy: {mean(dt_pred_arr[0])}')\n",
        "print(f'Precision: {mean(dt_pred_arr[1])}')\n",
        "print(f'Recall: {mean(dt_pred_arr[2])}')\n",
        "CMD.from_estimator(dt, test_X, test_Y)"
      ]
    },
    {
      "cell_type": "markdown",
      "metadata": {
        "id": "Is44gPVQjJWn"
      },
      "source": [
        "#### Logistic Regression"
      ]
    },
    {
      "cell_type": "code",
      "execution_count": null,
      "metadata": {
        "colab": {
          "base_uri": "https://localhost:8080/",
          "height": 407
        },
        "id": "wAlPKqZZjJWn",
        "outputId": "a8c5f87e-ff44-4631-e84b-9f300e7ee222"
      },
      "outputs": [
        {
          "output_type": "stream",
          "name": "stdout",
          "text": [
            "Accuracy: 0.612564543889845\n",
            "Precision: 0.997380909163684\n",
            "Recall: 0.6125645438898452\n"
          ]
        },
        {
          "output_type": "stream",
          "name": "stderr",
          "text": [
            "/usr/local/lib/python3.7/dist-packages/sklearn/linear_model/_sag.py:354: ConvergenceWarning: The max_iter was reached which means the coef_ did not converge\n",
            "  ConvergenceWarning,\n"
          ]
        },
        {
          "output_type": "execute_result",
          "data": {
            "text/plain": [
              "<sklearn.metrics._plot.confusion_matrix.ConfusionMatrixDisplay at 0x7fb18f8461d0>"
            ]
          },
          "metadata": {},
          "execution_count": 201
        },
        {
          "output_type": "display_data",
          "data": {
            "text/plain": [
              "<Figure size 432x288 with 2 Axes>"
            ],
            "image/png": "[encoded data removed]"
          },
          "metadata": {
            "needs_background": "light"
          }
        }
      ],
      "source": [
        "lr = LogisticRegression(solver='saga', class_weight='balanced')\n",
        "lr_pred_arr = predict(lr)\n",
        "lr_pred = lr_pred_arr[-1]\n",
        "print(f'Accuracy: {mean(lr_pred_arr[0])}')\n",
        "print(f'Precision: {mean(lr_pred_arr[1])}')\n",
        "print(f'Recall: {mean(lr_pred_arr[2])}')\n",
        "CMD.from_estimator(lr, test_X, test_Y)"
      ]
    },
    {
      "cell_type": "markdown",
      "metadata": {
        "id": "FSz48r0zjJWn"
      },
      "source": [
        "#### Gaussian NB"
      ]
    },
    {
      "cell_type": "code",
      "execution_count": null,
      "metadata": {
        "colab": {
          "base_uri": "https://localhost:8080/",
          "height": 352
        },
        "id": "Kfv8tLXJjJWn",
        "outputId": "14e48bf8-c212-4b48-decd-1198765dc667"
      },
      "outputs": [
        {
          "output_type": "stream",
          "name": "stdout",
          "text": [
            "Accuracy: 0.4368330464716007\n",
            "Precision: 0.9975849156139023\n",
            "Recall: 0.4368330464716007\n"
          ]
        },
        {
          "output_type": "execute_result",
          "data": {
            "text/plain": [
              "<sklearn.metrics._plot.confusion_matrix.ConfusionMatrixDisplay at 0x7fb195445310>"
            ]
          },
          "metadata": {},
          "execution_count": 202
        },
        {
          "output_type": "display_data",
          "data": {
            "text/plain": [
              "<Figure size 432x288 with 2 Axes>"
            ],
            "image/png": "[encoded data removed]"
          },
          "metadata": {
            "needs_background": "light"
          }
        }
      ],
      "source": [
        "nb = GaussianNB()\n",
        "nb_pred_arr = predict(nb)\n",
        "nb_pred = nb_pred_arr[-1]\n",
        "print(f'Accuracy: {mean(nb_pred_arr[0])}')\n",
        "print(f'Precision: {mean(nb_pred_arr[1])}')\n",
        "print(f'Recall: {mean(nb_pred_arr[2])}')\n",
        "CMD.from_estimator(nb, test_X, test_Y)"
      ]
    },
    {
      "cell_type": "markdown",
      "metadata": {
        "id": "c-O8LXw4jJWn"
      },
      "source": [
        "#### XGBoost Classifier"
      ]
    },
    {
      "cell_type": "code",
      "execution_count": null,
      "metadata": {
        "colab": {
          "base_uri": "https://localhost:8080/",
          "height": 350
        },
        "id": "UmyFa0uBjJWo",
        "outputId": "7f0d892b-b74a-4919-ed29-dc30852e2a4d"
      },
      "outputs": [
        {
          "output_type": "stream",
          "name": "stdout",
          "text": [
            "Accuracy: 0.9194492254733219\n",
            "Precision: 0.9972658594235206\n",
            "Recall: 0.9194492254733219\n"
          ]
        },
        {
          "output_type": "execute_result",
          "data": {
            "text/plain": [
              "<sklearn.metrics._plot.confusion_matrix.ConfusionMatrixDisplay at 0x7fb19012b050>"
            ]
          },
          "metadata": {},
          "execution_count": 203
        },
        {
          "output_type": "display_data",
          "data": {
            "text/plain": [
              "<Figure size 432x288 with 2 Axes>"
            ],
            "image/png": "[encoded data removed]"
          },
          "metadata": {
            "needs_background": "light"
          }
        }
      ],
      "source": [
        "xgb = XGBClassifier(n_estimators=10)\n",
        "xgb_pred_arr = predict(xgb)\n",
        "xgb_pred = xgb_pred_arr[-1]\n",
        "print(f'Accuracy: {mean(xgb_pred_arr[0])}')\n",
        "print(f'Precision: {mean(xgb_pred_arr[1])}')\n",
        "print(f'Recall: {mean(xgb_pred_arr[2])}')\n",
        "CMD.from_estimator(xgb, test_X, test_Y)"
      ]
    },
    {
      "cell_type": "markdown",
      "metadata": {
        "id": "wK_Zfe0jjJWo"
      },
      "source": [
        "#### AUC-ROC curve"
      ]
    },
    {
      "cell_type": "code",
      "execution_count": null,
      "metadata": {
        "colab": {
          "base_uri": "https://localhost:8080/",
          "height": 295
        },
        "id": "iz5Oaa19jJWo",
        "outputId": "c77a0e7e-cb48-41f8-fab2-7614267fdc5a"
      },
      "outputs": [
        {
          "output_type": "display_data",
          "data": {
            "text/plain": [
              "<Figure size 432x288 with 1 Axes>"
            ],
            "image/png": "[encoded data removed]"
          },
          "metadata": {
            "needs_background": "light"
          }
        }
      ],
      "source": [
        "# roc curve for models\n",
        "fpr = {}\n",
        "tpr = {}\n",
        "thresh ={}\n",
        "    \n",
        "fpr1, tpr1, thresh1 = roc_curve(test_Y, dt_pred, pos_label=1)\n",
        "fpr2, tpr2, thresh2 = roc_curve(test_Y, lr_pred, pos_label=1)\n",
        "fpr3, tpr3, thresh3 = roc_curve(test_Y, nb_pred, pos_label=1)\n",
        "fpr4, tpr4, thresh4 = roc_curve(test_Y, xgb_pred, pos_label=1)\n",
        "# roc curve for tpr = fpr \n",
        "random_probs = [0 for i in range(len(test_Y))]\n",
        "p_fpr, p_tpr, _ = roc_curve(test_Y, random_probs, pos_label=1)\n",
        "\n",
        "# plot roc curves\n",
        "plt.plot(fpr1, tpr1, linestyle='--', color='blue', label='Decision Tree')\n",
        "plt.plot(fpr2, tpr2, linestyle='--',color='green', label='Logistic Regression')\n",
        "plt.plot(fpr3, tpr3, linestyle='--',color='yellow', label='Naive Bayes')\n",
        "plt.plot(fpr4, tpr4, linestyle='--',color='red', label='XGBoost')\n",
        "\n",
        "# title\n",
        "plt.title('AUC-ROC curve (Title [SFS])')\n",
        "# x label\n",
        "plt.xlabel('False Positive Rate (FPR)')\n",
        "# y label\n",
        "plt.ylabel('True Positive rate (TPR)')\n",
        "\n",
        "plt.legend(loc='best')\n",
        "plt.show();"
      ]
    }
  ],
  "metadata": {
    "interpreter": {
      "hash": "31f2aee4e71d21fbe5cf8b01ff0e069b9275f58929596ceb00d14d90e3e16cd6"
    },
    "kernelspec": {
      "display_name": "Python 3.8.9 64-bit",
      "language": "python",
      "name": "python3"
    },
    "language_info": {
      "codemirror_mode": {
        "name": "ipython",
        "version": 3
      },
      "file_extension": ".py",
      "mimetype": "text/x-python",
      "name": "python",
      "nbconvert_exporter": "python",
      "pygments_lexer": "ipython3",
      "version": "3.8.9"
    },
    "orig_nbformat": 4,
    "colab": {
      "name": "rq1.ipynb",
      "provenance": [],
      "collapsed_sections": []
    }
  },
  "nbformat": 4,
  "nbformat_minor": 0
}
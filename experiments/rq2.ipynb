{
  "cells": [
    {
      "cell_type": "markdown",
      "metadata": {
        "id": "VrA0gFqjGIpB"
      },
      "source": [
        "## RQ2: How ensemble learning techniques perform in predicting security vulnerbilities?\n",
        "## Deliverables\n",
        "1. Confusion matrix for stacking classifier = 1 CM.\n",
        "2. Performance metrics (Accuracy, Precision and Recall) for stacking classifier = 1 row\n",
        "3. AUC-ROC curve for stacking classifier x 1 combined graph = 1 AUC-ROC graph.\n",
        "\n",
        "## Learners\n",
        "1. Stacking classifier (DT, LR, NB, XGB)\n",
        "\n",
        "##Datasets\n",
        "1. Apache Tomcat\n",
        "2. Apache Struts2-core"
      ]
    },
    {
      "cell_type": "markdown",
      "metadata": {
        "id": "7K3kr2DeWagN"
      },
      "source": [
        "### Prerequisites"
      ]
    },
    {
      "cell_type": "code",
      "execution_count": 1,
      "metadata": {
        "id": "_d5CCxWmUMQn"
      },
      "outputs": [],
      "source": [
        "# Basic imports\n",
        "import numpy as np\n",
        "import pandas as pd\n",
        "import sys\n",
        "\n",
        "# Data preprocessing\n",
        "from sklearn.preprocessing import LabelEncoder\n",
        "from sklearn.model_selection import train_test_split\n",
        "\n",
        "# Feature selection\n",
        "from sklearn.feature_selection import SequentialFeatureSelector as SFS\n",
        "from sklearn.feature_selection import RFE\n",
        "\n",
        "# Handling imbalance data\n",
        "from imblearn.over_sampling  import RandomOverSampler\n",
        "\n",
        "# CV\n",
        "from sklearn.model_selection import RepeatedStratifiedKFold\n",
        "\n",
        "# Performance metrics\n",
        "from sklearn.metrics import accuracy_score, f1_score, precision_score, recall_score\n",
        "from sklearn.model_selection import cross_val_score\n",
        "from matplotlib import pyplot as plt\n",
        "from numpy import mean, std\n",
        "from sklearn.metrics import ConfusionMatrixDisplay as CMD\n",
        "from sklearn.metrics import roc_curve\n",
        "\n",
        "#ML models\n",
        "from sklearn.tree import DecisionTreeClassifier\n",
        "from sklearn.linear_model import LogisticRegression\n",
        "from sklearn.naive_bayes import GaussianNB\n",
        "import xgboost as xgb\n",
        "\n",
        "# Ensemble techniques\n",
        "from sklearn.ensemble import StackingClassifier\n",
        "\n",
        "def preprocess(dataset_idx, target, version=None):\n",
        "    ds = [\"./datasets/tomcat-final.csv\", \"./datasets/struts-final.csv\"]\n",
        "    df = pd.read_csv(ds[dataset_idx])\n",
        "    np.set_printoptions(threshold=np.inf)\n",
        "    pd.set_option('max_columns', None)\n",
        "    print(f\"Dataframe {ds[dataset_idx][-16:]} created..\\nTotal number of rows: \", df.shape[0])\n",
        "    df = cleanup(df)\n",
        "    return split_features_variables(df, target, version)\n",
        "\n",
        "def cleanup(df):\n",
        "    df.loc[df['title'].str.contains('Denial', case=False), 'title'] = 'DoS'\n",
        "    df.loc[df['title'].str.contains('CSRF', case=False), 'title'] = 'CSRF'\n",
        "    df.loc[df['title'].str.contains(\n",
        "        'information disclosure', case=False), 'title'] = 'Information Disclosure'\n",
        "    df.loc[df['title'].str.contains(\n",
        "        'cve-2020-9484', case=False), 'title'] = 'Remote Code execution'\n",
        "    df.loc[df['title'].str.contains(\n",
        "        'session hijacking', case=False), 'title'] = 'Remote Code execution'\n",
        "    df = df.drop_duplicates(keep='first').reset_index(drop=True)\n",
        "    return df\n",
        "\n",
        "def split_features_variables(df, target, version):\n",
        "    y_cols = ['vulnerable', 'severity', 'title']\n",
        "    feature_columns = df.columns[2:-4]\n",
        "    if version:\n",
        "        train = df.loc[~(df.version == version)]\n",
        "        test = df.loc[df.version == version]\n",
        "    else:\n",
        "        train, test = train_test_split(df, shuffle=True,test_size=0.3)\n",
        "    X = train[feature_columns]\n",
        "    test_X = test[feature_columns]\n",
        "    if y_cols[target] == 'vulnerable':\n",
        "        y = train[y_cols[target]]\n",
        "        test_Y = test[y_cols[target]]\n",
        "    else: \n",
        "        label_X_train, label_X_test = label_encode(train, test)\n",
        "        y = label_X_train[y_cols[target]]\n",
        "        test_Y = label_X_test[y_cols[target]]\n",
        "    return X, test_X, y, test_Y  \n",
        "\n",
        "\n",
        "def label_encode(train, test):\n",
        "    print('Labelled target found..')\n",
        "    s = (train.dtypes == 'object')\n",
        "    object_cols = ['severity', 'title']\n",
        "    label_X_train = train.copy()\n",
        "    label_X_test = test.copy()\n",
        "    le = LabelEncoder()\n",
        "    label_X_train[object_cols] = train[object_cols].apply(le.fit_transform)\n",
        "    label_X_test[object_cols] = test[object_cols].apply(le.fit_transform)\n",
        "    print('Encoded...')\n",
        "    return label_X_train, label_X_test\n",
        "\n",
        "def fit_feature_set(feature_set):\n",
        "    global X_ros\n",
        "    X_ros = X_ros[feature_set]\n",
        "    global test_X\n",
        "    test_X = test_X[feature_set]\n",
        "\n",
        "def evaluate(model, X, y):\n",
        "    cv = RepeatedStratifiedKFold(n_splits=10,n_repeats=3,random_state=1)\n",
        "    return cross_val_score(model, X, y, scoring='accuracy', cv=cv, n_jobs=-1), cross_val_score(model, X, y, scoring='precision', cv=cv, n_jobs=-1), cross_val_score(model, X, y, scoring='recall', cv=cv, n_jobs=-1)\n",
        "\n",
        "def stacking():\n",
        "    level0 = list()\n",
        "    level0.append(('lr', LogisticRegression(solver='saga',class_weight='balanced', max_iter=4000)))\n",
        "    level0.append(('dt', DecisionTreeClassifier(ccp_alpha=0.036)))\n",
        "    level0.append(('nb', GaussianNB()))\n",
        "    level1 = xgb.XGBClassifier()\n",
        "    model = StackingClassifier(estimators=level0, final_estimator=level1, cv=5)\n",
        "    return model\n",
        "\n",
        "def predict(model):\n",
        "    model.fit(X_ros, y_ros)\n",
        "    predictions = model.predict(test_X)\n",
        "    pred_proba = model.predict_proba(test_X)\n",
        "    accuracy = accuracy_score(test_Y, predictions)\n",
        "    precision = precision_score(test_Y, predictions, average='weighted')\n",
        "    recall = recall_score(test_Y, predictions,average='weighted')\n",
        "    return [accuracy, precision, recall, pred_proba ,predictions]\n",
        "\n",
        "def get_models():\n",
        "    models = dict()\n",
        "    models['Decision Tree'] = DecisionTreeClassifier(ccp_alpha=0.036)\n",
        "    models['Logistic Regression'] = LogisticRegression(solver='liblinear', class_weight='balanced')\n",
        "    models['Naive Bayes'] = GaussianNB()\n",
        "    models['Stacking'] = stacking()\n",
        "    return models"
      ]
    },
    {
      "cell_type": "markdown",
      "metadata": {
        "id": "_BPNig-UWdhd"
      },
      "source": [
        "### Experiments"
      ]
    },
    {
      "cell_type": "code",
      "execution_count": 7,
      "metadata": {
        "colab": {
          "base_uri": "https://localhost:8080/"
        },
        "id": "YutLrIV_WLzF",
        "outputId": "3c7bf788-9d20-49a9-83a7-2644fa3dc174"
      },
      "outputs": [
        {
          "output_type": "stream",
          "name": "stdout",
          "text": [
            "Dataframe struts-final.csv created..\n",
            "Total number of rows:  19372\n",
            "Labelled target found..\n",
            "Encoded...\n"
          ]
        }
      ],
      "source": [
        "ds = 1\n",
        "target = 2\n",
        "targets = ['Vulnerable','Severity','Title']\n",
        "datasets = ['Tomcat','Struts']\n",
        "X, test_X, y, test_Y = preprocess(ds, target)\n",
        "ros = RandomOverSampler()\n",
        "X_ros, y_ros = ros.fit_resample(X, y)"
      ]
    },
    {
      "cell_type": "markdown",
      "metadata": {
        "id": "mOuFP1ESWgTl"
      },
      "source": [
        "### Feature selection"
      ]
    },
    {
      "cell_type": "code",
      "execution_count": 8,
      "metadata": {
        "id": "LIjhF4mBWPJ7"
      },
      "outputs": [],
      "source": [
        "rfe = RFE(estimator=DecisionTreeClassifier())\n",
        "rfe.fit(X_ros, y_ros)\n",
        "rfe_features = []\n",
        "for i in range(X.shape[1]):\n",
        "    if(rfe.support_[i] == 1):\n",
        "        rfe_features.append(X.columns[i])\n",
        "fit_feature_set(rfe_features)"
      ]
    },
    {
      "cell_type": "markdown",
      "metadata": {
        "id": "SxhMiMeUWqpT"
      },
      "source": [
        "### Stacking classifier"
      ]
    },
    {
      "cell_type": "code",
      "execution_count": 9,
      "metadata": {
        "colab": {
          "base_uri": "https://localhost:8080/",
          "height": 638
        },
        "id": "7Ll3HmcrV4Fs",
        "outputId": "70dea902-51fa-492d-8e05-8284d6a3b29b"
      },
      "outputs": [
        {
          "output_type": "stream",
          "name": "stderr",
          "text": [
            "/usr/local/lib/python3.7/dist-packages/sklearn/linear_model/_sag.py:354: ConvergenceWarning: The max_iter was reached which means the coef_ did not converge\n",
            "  ConvergenceWarning,\n",
            "/usr/local/lib/python3.7/dist-packages/sklearn/linear_model/_sag.py:354: ConvergenceWarning: The max_iter was reached which means the coef_ did not converge\n",
            "  ConvergenceWarning,\n",
            "/usr/local/lib/python3.7/dist-packages/sklearn/linear_model/_sag.py:354: ConvergenceWarning: The max_iter was reached which means the coef_ did not converge\n",
            "  ConvergenceWarning,\n",
            "/usr/local/lib/python3.7/dist-packages/sklearn/linear_model/_sag.py:354: ConvergenceWarning: The max_iter was reached which means the coef_ did not converge\n",
            "  ConvergenceWarning,\n",
            "/usr/local/lib/python3.7/dist-packages/sklearn/linear_model/_sag.py:354: ConvergenceWarning: The max_iter was reached which means the coef_ did not converge\n",
            "  ConvergenceWarning,\n",
            "/usr/local/lib/python3.7/dist-packages/sklearn/linear_model/_sag.py:354: ConvergenceWarning: The max_iter was reached which means the coef_ did not converge\n",
            "  ConvergenceWarning,\n",
            "/usr/local/lib/python3.7/dist-packages/sklearn/metrics/_classification.py:1318: UndefinedMetricWarning: Precision is ill-defined and being set to 0.0 in labels with no predicted samples. Use `zero_division` parameter to control this behavior.\n",
            "  _warn_prf(average, modifier, msg_start, len(result))\n"
          ]
        },
        {
          "output_type": "stream",
          "name": "stdout",
          "text": [
            "Accuracy: 0.997 (0.000)\n",
            "Precision: 0.997 (0.000) \n",
            "\n",
            "Recall: 0.997 (0.000)\n"
          ]
        },
        {
          "output_type": "execute_result",
          "data": {
            "text/plain": [
              "<sklearn.metrics._plot.confusion_matrix.ConfusionMatrixDisplay at 0x7ffb1c43a510>"
            ]
          },
          "metadata": {},
          "execution_count": 9
        },
        {
          "output_type": "display_data",
          "data": {
            "text/plain": [
              "<Figure size 432x288 with 2 Axes>"
            ],
            "image/png": "[encoded data removed]"
          },
          "metadata": {
            "needs_background": "light"
          }
        }
      ],
      "source": [
        "model = get_models()['Stacking']\n",
        "pred_model = predict(model)\n",
        "acc, pre, rec ,stk_pred = pred_model[0], pred_model[1], pred_model[2], pred_model[-2]\n",
        "print('Accuracy: %.3f (%.3f)' % (mean(acc), std(acc)))\n",
        "print('Precision: %.3f (%.3f) \\n' % (mean(pre), std(pre)))\n",
        "print('Recall: %.3f (%.3f)' % (mean(rec), std(rec)))\n",
        "CMD.from_estimator(model, test_X, test_Y)"
      ]
    },
    {
      "cell_type": "markdown",
      "metadata": {
        "id": "GNjcM5NtX4jC"
      },
      "source": [
        "### AUC-ROC curve"
      ]
    },
    {
      "cell_type": "code",
      "execution_count": 10,
      "metadata": {
        "colab": {
          "base_uri": "https://localhost:8080/",
          "height": 295
        },
        "id": "654msg19X36_",
        "outputId": "75a65966-9d5a-4c7d-d173-9af30437e087"
      },
      "outputs": [
        {
          "output_type": "display_data",
          "data": {
            "text/plain": [
              "<Figure size 432x288 with 1 Axes>"
            ],
            "image/png": "[encoded data removed]"
          },
          "metadata": {
            "needs_background": "light"
          }
        }
      ],
      "source": [
        "# roc curve for models\n",
        "fpr = {}\n",
        "tpr = {}\n",
        "thresh ={}\n",
        "    \n",
        "fpr1, tpr1, thresh1 = roc_curve(test_Y, stk_pred[:,1], pos_label=1)\n",
        "# roc curve for tpr = fpr \n",
        "random_probs = [0 for i in range(len(test_Y))]\n",
        "p_fpr, p_tpr, _ = roc_curve(test_Y, random_probs, pos_label=1)\n",
        "\n",
        "# plot roc curves\n",
        "plt.plot(fpr1, tpr1, linestyle='--', color='blue', label='Stacking')\n",
        "\n",
        "# title\n",
        "plt.title('AUC-ROC curve - '+datasets[ds]+' ('+targets[target]+')')\n",
        "# x label\n",
        "plt.xlabel('False Positive Rate (FPR)')\n",
        "# y label\n",
        "plt.ylabel('True Positive rate (TPR)')\n",
        "\n",
        "plt.legend(loc='best')\n",
        "plt.show();"
      ]
    }
  ],
  "metadata": {
    "colab": {
      "collapsed_sections": [],
      "name": "rq2.ipynb",
      "provenance": []
    },
    "kernelspec": {
      "display_name": "Python 3",
      "name": "python3"
    },
    "language_info": {
      "name": "python"
    }
  },
  "nbformat": 4,
  "nbformat_minor": 0
}
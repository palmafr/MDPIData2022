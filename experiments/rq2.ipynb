{
  "cells": [
    {
      "cell_type": "markdown",
      "metadata": {
        "id": "VrA0gFqjGIpB"
      },
      "source": [
        "## RQ2: How ensemble learning techniques perform in predicting security vulnerbilities?\n",
        "## Deliverables\n",
        "1. Confusion matrix for stacking classifier = 1 CM.\n",
        "2. Performance metrics (Accuracy, Precision and Recall) for stacking classifier = 1 row\n",
        "3. AUC-ROC curve for stacking classifier x 1 combined graph = 1 AUC-ROC graph.\n",
        "\n",
        "## Learners\n",
        "1. Stacking classifier (DT, LR, NB, XGB)\n",
        "\n",
        "##Datasets\n",
        "1. Apache Tomcat\n",
        "2. Apache Struts2-core"
      ]
    },
    {
      "cell_type": "markdown",
      "metadata": {
        "id": "7K3kr2DeWagN"
      },
      "source": [
        "### Prerequisites"
      ]
    },
    {
      "cell_type": "code",
      "execution_count": null,
      "metadata": {
        "id": "_d5CCxWmUMQn"
      },
      "outputs": [],
      "source": [
        "# Basic imports\n",
        "import numpy as np\n",
        "import pandas as pd\n",
        "import sys\n",
        "\n",
        "# Data preprocessing\n",
        "from sklearn.preprocessing import LabelEncoder\n",
        "from sklearn.model_selection import train_test_split\n",
        "\n",
        "# Feature selection\n",
        "from sklearn.feature_selection import SequentialFeatureSelector as SFS\n",
        "from sklearn.feature_selection import RFE\n",
        "\n",
        "# Handling imbalance data\n",
        "from imblearn.over_sampling  import RandomOverSampler\n",
        "from imblearn.under_sampling  import RandomUnderSampler\n",
        "\n",
        "# CV\n",
        "from sklearn.model_selection import RepeatedStratifiedKFold\n",
        "\n",
        "# Performance metrics\n",
        "from sklearn.metrics import accuracy_score, f1_score, precision_score, recall_score\n",
        "from sklearn.model_selection import cross_val_score\n",
        "from matplotlib import pyplot as plt\n",
        "from numpy import mean, std\n",
        "from sklearn.metrics import ConfusionMatrixDisplay as CMD\n",
        "from sklearn.metrics import roc_curve\n",
        "\n",
        "#ML models\n",
        "from sklearn.tree import DecisionTreeClassifier\n",
        "from sklearn.linear_model import LogisticRegression\n",
        "from sklearn.naive_bayes import GaussianNB\n",
        "import xgboost as xgb\n",
        "\n",
        "# Ensemble techniques\n",
        "from sklearn.ensemble import StackingClassifier\n",
        "\n",
        "def preprocess(dataset_idx, target):\n",
        "    ds = [\"./datasets/tomcat-final.csv\", \"./datasets/struts-final.csv\"]\n",
        "    df = pd.read_csv(ds[dataset_idx])\n",
        "    np.set_printoptions(threshold=np.inf)\n",
        "    pd.set_option('max_columns', None)\n",
        "    print(f\"Dataframe {ds[dataset_idx][-16:]} created..\\nTotal number of rows: \", df.shape[0])\n",
        "    return split_features_variables(df, target)\n",
        "\n",
        "def split_features_variables(df, target):\n",
        "    y_cols = ['vulnerable', 'severity', 'title']\n",
        "    feature_columns = df.columns[2:-4]\n",
        "    label_mapping = []\n",
        "    train, test = train_test_split(df, shuffle=True,test_size=0.2)\n",
        "    X = train[feature_columns]\n",
        "    test_X = test[feature_columns]\n",
        "    if y_cols[target] == 'vulnerable':\n",
        "        return X, test_X, train[y_cols[target]], test[y_cols[target]]      \n",
        "    else: \n",
        "        label_X_train, label_X_test, label_mapping= label_encode(train, test, y_cols[target])\n",
        "        return X, test_X, label_X_train[y_cols[target]], label_X_test[y_cols[target]], label_mapping\n",
        "\n",
        "def label_encode(train, test, target):\n",
        "    print('Labelled target found..')\n",
        "    train_target = train.copy()\n",
        "    test_target = test.copy()\n",
        "    df = train.append(test, ignore_index=True)\n",
        "    le = LabelEncoder()\n",
        "    le.fit(df[target])\n",
        "    le_name_mapping = dict(zip(le.classes_, le.transform(le.classes_)))\n",
        "    train_target[target] = le.transform(train[target])\n",
        "    test_target[target] = le.transform(test[target])\n",
        "    print('Encoded...')\n",
        "    return train_target, test_target, le_name_mapping\n",
        "\n",
        "def fit_feature_set(feature_set):\n",
        "    global X_ros\n",
        "    X_ros = X_ros[feature_set]\n",
        "    global test_X\n",
        "    test_X = test_X[feature_set]\n",
        "\n",
        "def stacking():\n",
        "    level0 = list()\n",
        "    level0.append(('lr', LogisticRegression(solver='liblinear',class_weight='balanced', max_iter=500)))\n",
        "    level0.append(('dt', DecisionTreeClassifier(ccp_alpha=0.036)))\n",
        "    level0.append(('nb', GaussianNB()))\n",
        "    level1 = xgb.XGBClassifier(n_estimators=500)\n",
        "    model = StackingClassifier(estimators=level0, final_estimator=level1, stack_method='predict')\n",
        "    return model\n",
        "\n",
        "def predict(model):\n",
        "    model.fit(X_ros, y_ros)\n",
        "    predictions = model.predict(test_X)\n",
        "    pred_proba = model.predict_proba(test_X)\n",
        "    accuracy = accuracy_score(test_Y, predictions)\n",
        "    average = ''\n",
        "    if target != 0:\n",
        "      average = 'micro'\n",
        "    else:\n",
        "      average = 'binary'\n",
        "    precision = precision_score(test_Y, predictions, average=average)\n",
        "    recall = recall_score(test_Y, predictions,average=average)\n",
        "    return [accuracy, precision, recall, pred_proba ,predictions]"
      ]
    },
    {
      "cell_type": "markdown",
      "metadata": {
        "id": "_BPNig-UWdhd"
      },
      "source": [
        "### Experiments"
      ]
    },
    {
      "cell_type": "code",
      "execution_count": null,
      "metadata": {
        "colab": {
          "base_uri": "https://localhost:8080/"
        },
        "id": "YutLrIV_WLzF",
        "outputId": "0a781e22-f09c-41e1-fb33-3bc70195796b"
      },
      "outputs": [
        {
          "output_type": "stream",
          "name": "stdout",
          "text": [
            "Dataframe struts-final.csv created..\n",
            "Total number of rows:  19372\n",
            "Labelled target found..\n",
            "Encoded...\n",
            "Total length after sampling: 36\n",
            "                                                 0  1\n",
            "0                                                0  0\n",
            "1                        Access Restriction Bypass  1\n",
            "2                Cross-site Request Forgery (CSRF)  2\n",
            "3                          Denial of Service (DoS)  3\n",
            "4                     Improper Action Name Cleanup  4\n",
            "5     Regular Expression Denial of Service (ReDoS)  5\n",
            "6                            Remote Code Execution  6\n",
            "7                      Remote Code Execution (RCE)  7\n",
            "8  Unrestricted Upload of File with Dangerous Type  8\n"
          ]
        }
      ],
      "source": [
        "ds = 1\n",
        "target = 2\n",
        "datasets = ['Tomcat', 'Struts']\n",
        "targets = ['Vulnerable','Severity', 'Title']\n",
        "label_mappings = []\n",
        "if target == 0:\n",
        "  X, test_X, y, test_Y = preprocess(ds, target)\n",
        "else:\n",
        "  X, test_X, y, test_Y, label_mappings = preprocess(ds, target)\n",
        "ros = RandomUnderSampler(sampling_strategy='majority')\n",
        "X_ros, y_ros = ros.fit_resample(X, y)\n",
        "print(f'Total length after sampling: {len(y_ros)}')\n",
        "if len(label_mappings) > 0:\n",
        "  labels = label_mappings.keys()\n",
        "  values = label_mappings.values()\n",
        "  print(pd.DataFrame([labels, values]).T)"
      ]
    },
    {
      "cell_type": "markdown",
      "metadata": {
        "id": "SxhMiMeUWqpT"
      },
      "source": [
        "### Machine Learning"
      ]
    },
    {
      "cell_type": "code",
      "execution_count": null,
      "metadata": {
        "colab": {
          "base_uri": "https://localhost:8080/",
          "height": 529
        },
        "id": "7Ll3HmcrV4Fs",
        "outputId": "7c87a880-74c4-4005-9c13-0bb85a7efda8"
      },
      "outputs": [
        {
          "output_type": "stream",
          "name": "stderr",
          "text": [
            "/usr/local/lib/python3.7/dist-packages/sklearn/model_selection/_split.py:680: UserWarning: The least populated class in y has only 2 members, which is less than n_splits=5.\n",
            "  UserWarning,\n",
            "/usr/local/lib/python3.7/dist-packages/sklearn/model_selection/_split.py:680: UserWarning: The least populated class in y has only 2 members, which is less than n_splits=5.\n",
            "  UserWarning,\n",
            "/usr/local/lib/python3.7/dist-packages/sklearn/model_selection/_split.py:680: UserWarning: The least populated class in y has only 2 members, which is less than n_splits=5.\n",
            "  UserWarning,\n"
          ]
        },
        {
          "output_type": "stream",
          "name": "stdout",
          "text": [
            "\n",
            "-----Model: Stacking Classifier-----\n",
            "Accuracy: 0.0647741935483871\n",
            "Precision: 0.0647741935483871\n",
            "Recall: 0.0647741935483871\n",
            "<sklearn.metrics._plot.confusion_matrix.ConfusionMatrixDisplay object at 0x7f081fb7dad0>\n"
          ]
        },
        {
          "output_type": "display_data",
          "data": {
            "text/plain": [
              "<Figure size 432x288 with 2 Axes>"
            ],
            "image/png": "[encoded data removed]"
          },
          "metadata": {
            "needs_background": "light"
          }
        }
      ],
      "source": [
        "# Recursive feature eliminator\n",
        "rfe = RFE(estimator=DecisionTreeClassifier())\n",
        "rfe.fit(X_ros, y_ros)\n",
        "rfe_features = []\n",
        "for i in range(X.shape[1]):\n",
        "    if(rfe.support_[i] == 1):\n",
        "        rfe_features.append(X.columns[i])\n",
        "fit_feature_set(rfe_features)\n",
        "\n",
        "# Stacking Classifier\n",
        "model = stacking()\n",
        "pred_model = predict(model)\n",
        "acc, pre, rec ,stk_pred = pred_model[0], pred_model[1], pred_model[2], pred_model[-2]\n",
        "print('\\n-----Model: Stacking Classifier-----')\n",
        "print(f'Accuracy: {mean(acc)}')\n",
        "print(f'Precision: {mean(pre)}')\n",
        "print(f'Recall: {mean(rec)}')\n",
        "stk_fig = CMD.from_predictions(test_Y,pred_model[-1])\n",
        "stk_fig.ax_.set_title('Stacking Classifier')\n",
        "print(stk_fig)"
      ]
    },
    {
      "cell_type": "markdown",
      "metadata": {
        "id": "GNjcM5NtX4jC"
      },
      "source": [
        "### AUC-ROC curve"
      ]
    },
    {
      "cell_type": "code",
      "execution_count": null,
      "metadata": {
        "colab": {
          "base_uri": "https://localhost:8080/",
          "height": 295
        },
        "id": "654msg19X36_",
        "outputId": "cbd7199e-1956-49cc-eb17-ceefdfe3437f"
      },
      "outputs": [
        {
          "output_type": "display_data",
          "data": {
            "text/plain": [
              "<Figure size 432x288 with 1 Axes>"
            ],
            "image/png": "[encoded data removed]"
          },
          "metadata": {
            "needs_background": "light"
          }
        }
      ],
      "source": [
        "# roc curve for models\n",
        "fpr = {}\n",
        "tpr = {}\n",
        "thresh ={}\n",
        "    \n",
        "fpr1, tpr1, thresh1 = roc_curve(test_Y, stk_pred[:,1], pos_label=1)\n",
        "# roc curve for tpr = fpr \n",
        "random_probs = [0 for i in range(len(test_Y))]\n",
        "p_fpr, p_tpr, _ = roc_curve(test_Y, random_probs, pos_label=1)\n",
        "\n",
        "# plot roc curves\n",
        "plt.plot(fpr1, tpr1, linestyle='--', color='blue', label='Stacking')\n",
        "\n",
        "# title\n",
        "plt.title('AUC-ROC curve - '+datasets[ds].capitalize()+' ('+targets[target].capitalize()+')')\n",
        "# x label\n",
        "plt.xlabel('False Positive Rate (FPR)')\n",
        "# y label\n",
        "plt.ylabel('True Positive rate (TPR)')\n",
        "\n",
        "plt.legend(loc='best')\n",
        "plt.show();"
      ]
    }
  ],
  "metadata": {
    "colab": {
      "collapsed_sections": [],
      "name": "rq2.ipynb",
      "provenance": []
    },
    "kernelspec": {
      "display_name": "Python 3",
      "name": "python3"
    },
    "language_info": {
      "name": "python"
    }
  },
  "nbformat": 4,
  "nbformat_minor": 0
}